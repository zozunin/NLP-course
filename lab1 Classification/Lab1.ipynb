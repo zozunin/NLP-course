{
  "nbformat": 4,
  "nbformat_minor": 0,
  "metadata": {
    "colab": {
      "provenance": [],
      "collapsed_sections": [],
      "toc_visible": true
    },
    "kernelspec": {
      "name": "python3",
      "display_name": "Python 3"
    },
    "language_info": {
      "name": "python"
    },
    "widgets": {
      "application/vnd.jupyter.widget-state+json": {
        "68776a8ca21846d7bd046087a0ff0b70": {
          "model_module": "@jupyter-widgets/controls",
          "model_name": "HBoxModel",
          "model_module_version": "1.5.0",
          "state": {
            "_dom_classes": [],
            "_model_module": "@jupyter-widgets/controls",
            "_model_module_version": "1.5.0",
            "_model_name": "HBoxModel",
            "_view_count": null,
            "_view_module": "@jupyter-widgets/controls",
            "_view_module_version": "1.5.0",
            "_view_name": "HBoxView",
            "box_style": "",
            "children": [
              "IPY_MODEL_60bccff96fd440d4835ed24830125e21",
              "IPY_MODEL_9c6721cd88fc4d50ab162325f7b3ec0e",
              "IPY_MODEL_17d454f2045c49a49fadef6ab3c14b7d"
            ],
            "layout": "IPY_MODEL_71df9a0dca88428facd22536e928388b"
          }
        },
        "60bccff96fd440d4835ed24830125e21": {
          "model_module": "@jupyter-widgets/controls",
          "model_name": "HTMLModel",
          "model_module_version": "1.5.0",
          "state": {
            "_dom_classes": [],
            "_model_module": "@jupyter-widgets/controls",
            "_model_module_version": "1.5.0",
            "_model_name": "HTMLModel",
            "_view_count": null,
            "_view_module": "@jupyter-widgets/controls",
            "_view_module_version": "1.5.0",
            "_view_name": "HTMLView",
            "description": "",
            "description_tooltip": null,
            "layout": "IPY_MODEL_3e95740fbf564b2ca7d782b34ff5556a",
            "placeholder": "​",
            "style": "IPY_MODEL_354be548b2d14f10b0a8e8662c2e91f4",
            "value": "Downloading: 100%"
          }
        },
        "9c6721cd88fc4d50ab162325f7b3ec0e": {
          "model_module": "@jupyter-widgets/controls",
          "model_name": "FloatProgressModel",
          "model_module_version": "1.5.0",
          "state": {
            "_dom_classes": [],
            "_model_module": "@jupyter-widgets/controls",
            "_model_module_version": "1.5.0",
            "_model_name": "FloatProgressModel",
            "_view_count": null,
            "_view_module": "@jupyter-widgets/controls",
            "_view_module_version": "1.5.0",
            "_view_name": "ProgressView",
            "bar_style": "success",
            "description": "",
            "description_tooltip": null,
            "layout": "IPY_MODEL_853e104c39ce402fb800c78340a43bea",
            "max": 421,
            "min": 0,
            "orientation": "horizontal",
            "style": "IPY_MODEL_65e4c80bdabe46038d638b8de647e4ea",
            "value": 421
          }
        },
        "17d454f2045c49a49fadef6ab3c14b7d": {
          "model_module": "@jupyter-widgets/controls",
          "model_name": "HTMLModel",
          "model_module_version": "1.5.0",
          "state": {
            "_dom_classes": [],
            "_model_module": "@jupyter-widgets/controls",
            "_model_module_version": "1.5.0",
            "_model_name": "HTMLModel",
            "_view_count": null,
            "_view_module": "@jupyter-widgets/controls",
            "_view_module_version": "1.5.0",
            "_view_name": "HTMLView",
            "description": "",
            "description_tooltip": null,
            "layout": "IPY_MODEL_196738e025dd471295911064efcab29a",
            "placeholder": "​",
            "style": "IPY_MODEL_5316d61c367045498d621f80b979d374",
            "value": " 421/421 [00:00&lt;00:00, 4.09kB/s]"
          }
        },
        "71df9a0dca88428facd22536e928388b": {
          "model_module": "@jupyter-widgets/base",
          "model_name": "LayoutModel",
          "model_module_version": "1.2.0",
          "state": {
            "_model_module": "@jupyter-widgets/base",
            "_model_module_version": "1.2.0",
            "_model_name": "LayoutModel",
            "_view_count": null,
            "_view_module": "@jupyter-widgets/base",
            "_view_module_version": "1.2.0",
            "_view_name": "LayoutView",
            "align_content": null,
            "align_items": null,
            "align_self": null,
            "border": null,
            "bottom": null,
            "display": null,
            "flex": null,
            "flex_flow": null,
            "grid_area": null,
            "grid_auto_columns": null,
            "grid_auto_flow": null,
            "grid_auto_rows": null,
            "grid_column": null,
            "grid_gap": null,
            "grid_row": null,
            "grid_template_areas": null,
            "grid_template_columns": null,
            "grid_template_rows": null,
            "height": null,
            "justify_content": null,
            "justify_items": null,
            "left": null,
            "margin": null,
            "max_height": null,
            "max_width": null,
            "min_height": null,
            "min_width": null,
            "object_fit": null,
            "object_position": null,
            "order": null,
            "overflow": null,
            "overflow_x": null,
            "overflow_y": null,
            "padding": null,
            "right": null,
            "top": null,
            "visibility": null,
            "width": null
          }
        },
        "3e95740fbf564b2ca7d782b34ff5556a": {
          "model_module": "@jupyter-widgets/base",
          "model_name": "LayoutModel",
          "model_module_version": "1.2.0",
          "state": {
            "_model_module": "@jupyter-widgets/base",
            "_model_module_version": "1.2.0",
            "_model_name": "LayoutModel",
            "_view_count": null,
            "_view_module": "@jupyter-widgets/base",
            "_view_module_version": "1.2.0",
            "_view_name": "LayoutView",
            "align_content": null,
            "align_items": null,
            "align_self": null,
            "border": null,
            "bottom": null,
            "display": null,
            "flex": null,
            "flex_flow": null,
            "grid_area": null,
            "grid_auto_columns": null,
            "grid_auto_flow": null,
            "grid_auto_rows": null,
            "grid_column": null,
            "grid_gap": null,
            "grid_row": null,
            "grid_template_areas": null,
            "grid_template_columns": null,
            "grid_template_rows": null,
            "height": null,
            "justify_content": null,
            "justify_items": null,
            "left": null,
            "margin": null,
            "max_height": null,
            "max_width": null,
            "min_height": null,
            "min_width": null,
            "object_fit": null,
            "object_position": null,
            "order": null,
            "overflow": null,
            "overflow_x": null,
            "overflow_y": null,
            "padding": null,
            "right": null,
            "top": null,
            "visibility": null,
            "width": null
          }
        },
        "354be548b2d14f10b0a8e8662c2e91f4": {
          "model_module": "@jupyter-widgets/controls",
          "model_name": "DescriptionStyleModel",
          "model_module_version": "1.5.0",
          "state": {
            "_model_module": "@jupyter-widgets/controls",
            "_model_module_version": "1.5.0",
            "_model_name": "DescriptionStyleModel",
            "_view_count": null,
            "_view_module": "@jupyter-widgets/base",
            "_view_module_version": "1.2.0",
            "_view_name": "StyleView",
            "description_width": ""
          }
        },
        "853e104c39ce402fb800c78340a43bea": {
          "model_module": "@jupyter-widgets/base",
          "model_name": "LayoutModel",
          "model_module_version": "1.2.0",
          "state": {
            "_model_module": "@jupyter-widgets/base",
            "_model_module_version": "1.2.0",
            "_model_name": "LayoutModel",
            "_view_count": null,
            "_view_module": "@jupyter-widgets/base",
            "_view_module_version": "1.2.0",
            "_view_name": "LayoutView",
            "align_content": null,
            "align_items": null,
            "align_self": null,
            "border": null,
            "bottom": null,
            "display": null,
            "flex": null,
            "flex_flow": null,
            "grid_area": null,
            "grid_auto_columns": null,
            "grid_auto_flow": null,
            "grid_auto_rows": null,
            "grid_column": null,
            "grid_gap": null,
            "grid_row": null,
            "grid_template_areas": null,
            "grid_template_columns": null,
            "grid_template_rows": null,
            "height": null,
            "justify_content": null,
            "justify_items": null,
            "left": null,
            "margin": null,
            "max_height": null,
            "max_width": null,
            "min_height": null,
            "min_width": null,
            "object_fit": null,
            "object_position": null,
            "order": null,
            "overflow": null,
            "overflow_x": null,
            "overflow_y": null,
            "padding": null,
            "right": null,
            "top": null,
            "visibility": null,
            "width": null
          }
        },
        "65e4c80bdabe46038d638b8de647e4ea": {
          "model_module": "@jupyter-widgets/controls",
          "model_name": "ProgressStyleModel",
          "model_module_version": "1.5.0",
          "state": {
            "_model_module": "@jupyter-widgets/controls",
            "_model_module_version": "1.5.0",
            "_model_name": "ProgressStyleModel",
            "_view_count": null,
            "_view_module": "@jupyter-widgets/base",
            "_view_module_version": "1.2.0",
            "_view_name": "StyleView",
            "bar_color": null,
            "description_width": ""
          }
        },
        "196738e025dd471295911064efcab29a": {
          "model_module": "@jupyter-widgets/base",
          "model_name": "LayoutModel",
          "model_module_version": "1.2.0",
          "state": {
            "_model_module": "@jupyter-widgets/base",
            "_model_module_version": "1.2.0",
            "_model_name": "LayoutModel",
            "_view_count": null,
            "_view_module": "@jupyter-widgets/base",
            "_view_module_version": "1.2.0",
            "_view_name": "LayoutView",
            "align_content": null,
            "align_items": null,
            "align_self": null,
            "border": null,
            "bottom": null,
            "display": null,
            "flex": null,
            "flex_flow": null,
            "grid_area": null,
            "grid_auto_columns": null,
            "grid_auto_flow": null,
            "grid_auto_rows": null,
            "grid_column": null,
            "grid_gap": null,
            "grid_row": null,
            "grid_template_areas": null,
            "grid_template_columns": null,
            "grid_template_rows": null,
            "height": null,
            "justify_content": null,
            "justify_items": null,
            "left": null,
            "margin": null,
            "max_height": null,
            "max_width": null,
            "min_height": null,
            "min_width": null,
            "object_fit": null,
            "object_position": null,
            "order": null,
            "overflow": null,
            "overflow_x": null,
            "overflow_y": null,
            "padding": null,
            "right": null,
            "top": null,
            "visibility": null,
            "width": null
          }
        },
        "5316d61c367045498d621f80b979d374": {
          "model_module": "@jupyter-widgets/controls",
          "model_name": "DescriptionStyleModel",
          "model_module_version": "1.5.0",
          "state": {
            "_model_module": "@jupyter-widgets/controls",
            "_model_module_version": "1.5.0",
            "_model_name": "DescriptionStyleModel",
            "_view_count": null,
            "_view_module": "@jupyter-widgets/base",
            "_view_module_version": "1.2.0",
            "_view_name": "StyleView",
            "description_width": ""
          }
        },
        "6ba047d2687e40bfaff8a138781fe7d5": {
          "model_module": "@jupyter-widgets/controls",
          "model_name": "HBoxModel",
          "model_module_version": "1.5.0",
          "state": {
            "_dom_classes": [],
            "_model_module": "@jupyter-widgets/controls",
            "_model_module_version": "1.5.0",
            "_model_name": "HBoxModel",
            "_view_count": null,
            "_view_module": "@jupyter-widgets/controls",
            "_view_module_version": "1.5.0",
            "_view_name": "HBoxView",
            "box_style": "",
            "children": [
              "IPY_MODEL_e6a2371e90104a4991f69a3a3b5692cd",
              "IPY_MODEL_8cb89b1bcd8e4a6bb87b0332a80842c5",
              "IPY_MODEL_feb4fa98faa141fd9cc8497293340b42"
            ],
            "layout": "IPY_MODEL_919ef60f57d846d0b2f4687460cb27d3"
          }
        },
        "e6a2371e90104a4991f69a3a3b5692cd": {
          "model_module": "@jupyter-widgets/controls",
          "model_name": "HTMLModel",
          "model_module_version": "1.5.0",
          "state": {
            "_dom_classes": [],
            "_model_module": "@jupyter-widgets/controls",
            "_model_module_version": "1.5.0",
            "_model_name": "HTMLModel",
            "_view_count": null,
            "_view_module": "@jupyter-widgets/controls",
            "_view_module_version": "1.5.0",
            "_view_name": "HTMLView",
            "description": "",
            "description_tooltip": null,
            "layout": "IPY_MODEL_42d2f6af6f7741aebb05eb6908cb99bb",
            "placeholder": "​",
            "style": "IPY_MODEL_afefbad7f6ee4e519302ed42ce28a86b",
            "value": "Downloading: 100%"
          }
        },
        "8cb89b1bcd8e4a6bb87b0332a80842c5": {
          "model_module": "@jupyter-widgets/controls",
          "model_name": "FloatProgressModel",
          "model_module_version": "1.5.0",
          "state": {
            "_dom_classes": [],
            "_model_module": "@jupyter-widgets/controls",
            "_model_module_version": "1.5.0",
            "_model_name": "FloatProgressModel",
            "_view_count": null,
            "_view_module": "@jupyter-widgets/controls",
            "_view_module_version": "1.5.0",
            "_view_name": "ProgressView",
            "bar_style": "success",
            "description": "",
            "description_tooltip": null,
            "layout": "IPY_MODEL_4b1157b0138a410fa40719653148252f",
            "max": 231508,
            "min": 0,
            "orientation": "horizontal",
            "style": "IPY_MODEL_ba7f181d5b144c78814511f0ed07bcc2",
            "value": 231508
          }
        },
        "feb4fa98faa141fd9cc8497293340b42": {
          "model_module": "@jupyter-widgets/controls",
          "model_name": "HTMLModel",
          "model_module_version": "1.5.0",
          "state": {
            "_dom_classes": [],
            "_model_module": "@jupyter-widgets/controls",
            "_model_module_version": "1.5.0",
            "_model_name": "HTMLModel",
            "_view_count": null,
            "_view_module": "@jupyter-widgets/controls",
            "_view_module_version": "1.5.0",
            "_view_name": "HTMLView",
            "description": "",
            "description_tooltip": null,
            "layout": "IPY_MODEL_a62b5cf63d064587839d7aa13b4f7cc0",
            "placeholder": "​",
            "style": "IPY_MODEL_3eed4cace2aa45ab865bcef27023ba48",
            "value": " 232k/232k [00:00&lt;00:00, 280kB/s]"
          }
        },
        "919ef60f57d846d0b2f4687460cb27d3": {
          "model_module": "@jupyter-widgets/base",
          "model_name": "LayoutModel",
          "model_module_version": "1.2.0",
          "state": {
            "_model_module": "@jupyter-widgets/base",
            "_model_module_version": "1.2.0",
            "_model_name": "LayoutModel",
            "_view_count": null,
            "_view_module": "@jupyter-widgets/base",
            "_view_module_version": "1.2.0",
            "_view_name": "LayoutView",
            "align_content": null,
            "align_items": null,
            "align_self": null,
            "border": null,
            "bottom": null,
            "display": null,
            "flex": null,
            "flex_flow": null,
            "grid_area": null,
            "grid_auto_columns": null,
            "grid_auto_flow": null,
            "grid_auto_rows": null,
            "grid_column": null,
            "grid_gap": null,
            "grid_row": null,
            "grid_template_areas": null,
            "grid_template_columns": null,
            "grid_template_rows": null,
            "height": null,
            "justify_content": null,
            "justify_items": null,
            "left": null,
            "margin": null,
            "max_height": null,
            "max_width": null,
            "min_height": null,
            "min_width": null,
            "object_fit": null,
            "object_position": null,
            "order": null,
            "overflow": null,
            "overflow_x": null,
            "overflow_y": null,
            "padding": null,
            "right": null,
            "top": null,
            "visibility": null,
            "width": null
          }
        },
        "42d2f6af6f7741aebb05eb6908cb99bb": {
          "model_module": "@jupyter-widgets/base",
          "model_name": "LayoutModel",
          "model_module_version": "1.2.0",
          "state": {
            "_model_module": "@jupyter-widgets/base",
            "_model_module_version": "1.2.0",
            "_model_name": "LayoutModel",
            "_view_count": null,
            "_view_module": "@jupyter-widgets/base",
            "_view_module_version": "1.2.0",
            "_view_name": "LayoutView",
            "align_content": null,
            "align_items": null,
            "align_self": null,
            "border": null,
            "bottom": null,
            "display": null,
            "flex": null,
            "flex_flow": null,
            "grid_area": null,
            "grid_auto_columns": null,
            "grid_auto_flow": null,
            "grid_auto_rows": null,
            "grid_column": null,
            "grid_gap": null,
            "grid_row": null,
            "grid_template_areas": null,
            "grid_template_columns": null,
            "grid_template_rows": null,
            "height": null,
            "justify_content": null,
            "justify_items": null,
            "left": null,
            "margin": null,
            "max_height": null,
            "max_width": null,
            "min_height": null,
            "min_width": null,
            "object_fit": null,
            "object_position": null,
            "order": null,
            "overflow": null,
            "overflow_x": null,
            "overflow_y": null,
            "padding": null,
            "right": null,
            "top": null,
            "visibility": null,
            "width": null
          }
        },
        "afefbad7f6ee4e519302ed42ce28a86b": {
          "model_module": "@jupyter-widgets/controls",
          "model_name": "DescriptionStyleModel",
          "model_module_version": "1.5.0",
          "state": {
            "_model_module": "@jupyter-widgets/controls",
            "_model_module_version": "1.5.0",
            "_model_name": "DescriptionStyleModel",
            "_view_count": null,
            "_view_module": "@jupyter-widgets/base",
            "_view_module_version": "1.2.0",
            "_view_name": "StyleView",
            "description_width": ""
          }
        },
        "4b1157b0138a410fa40719653148252f": {
          "model_module": "@jupyter-widgets/base",
          "model_name": "LayoutModel",
          "model_module_version": "1.2.0",
          "state": {
            "_model_module": "@jupyter-widgets/base",
            "_model_module_version": "1.2.0",
            "_model_name": "LayoutModel",
            "_view_count": null,
            "_view_module": "@jupyter-widgets/base",
            "_view_module_version": "1.2.0",
            "_view_name": "LayoutView",
            "align_content": null,
            "align_items": null,
            "align_self": null,
            "border": null,
            "bottom": null,
            "display": null,
            "flex": null,
            "flex_flow": null,
            "grid_area": null,
            "grid_auto_columns": null,
            "grid_auto_flow": null,
            "grid_auto_rows": null,
            "grid_column": null,
            "grid_gap": null,
            "grid_row": null,
            "grid_template_areas": null,
            "grid_template_columns": null,
            "grid_template_rows": null,
            "height": null,
            "justify_content": null,
            "justify_items": null,
            "left": null,
            "margin": null,
            "max_height": null,
            "max_width": null,
            "min_height": null,
            "min_width": null,
            "object_fit": null,
            "object_position": null,
            "order": null,
            "overflow": null,
            "overflow_x": null,
            "overflow_y": null,
            "padding": null,
            "right": null,
            "top": null,
            "visibility": null,
            "width": null
          }
        },
        "ba7f181d5b144c78814511f0ed07bcc2": {
          "model_module": "@jupyter-widgets/controls",
          "model_name": "ProgressStyleModel",
          "model_module_version": "1.5.0",
          "state": {
            "_model_module": "@jupyter-widgets/controls",
            "_model_module_version": "1.5.0",
            "_model_name": "ProgressStyleModel",
            "_view_count": null,
            "_view_module": "@jupyter-widgets/base",
            "_view_module_version": "1.2.0",
            "_view_name": "StyleView",
            "bar_color": null,
            "description_width": ""
          }
        },
        "a62b5cf63d064587839d7aa13b4f7cc0": {
          "model_module": "@jupyter-widgets/base",
          "model_name": "LayoutModel",
          "model_module_version": "1.2.0",
          "state": {
            "_model_module": "@jupyter-widgets/base",
            "_model_module_version": "1.2.0",
            "_model_name": "LayoutModel",
            "_view_count": null,
            "_view_module": "@jupyter-widgets/base",
            "_view_module_version": "1.2.0",
            "_view_name": "LayoutView",
            "align_content": null,
            "align_items": null,
            "align_self": null,
            "border": null,
            "bottom": null,
            "display": null,
            "flex": null,
            "flex_flow": null,
            "grid_area": null,
            "grid_auto_columns": null,
            "grid_auto_flow": null,
            "grid_auto_rows": null,
            "grid_column": null,
            "grid_gap": null,
            "grid_row": null,
            "grid_template_areas": null,
            "grid_template_columns": null,
            "grid_template_rows": null,
            "height": null,
            "justify_content": null,
            "justify_items": null,
            "left": null,
            "margin": null,
            "max_height": null,
            "max_width": null,
            "min_height": null,
            "min_width": null,
            "object_fit": null,
            "object_position": null,
            "order": null,
            "overflow": null,
            "overflow_x": null,
            "overflow_y": null,
            "padding": null,
            "right": null,
            "top": null,
            "visibility": null,
            "width": null
          }
        },
        "3eed4cace2aa45ab865bcef27023ba48": {
          "model_module": "@jupyter-widgets/controls",
          "model_name": "DescriptionStyleModel",
          "model_module_version": "1.5.0",
          "state": {
            "_model_module": "@jupyter-widgets/controls",
            "_model_module_version": "1.5.0",
            "_model_name": "DescriptionStyleModel",
            "_view_count": null,
            "_view_module": "@jupyter-widgets/base",
            "_view_module_version": "1.2.0",
            "_view_name": "StyleView",
            "description_width": ""
          }
        },
        "2bb4ab7259664fcd94a571332a01d782": {
          "model_module": "@jupyter-widgets/controls",
          "model_name": "HBoxModel",
          "model_module_version": "1.5.0",
          "state": {
            "_dom_classes": [],
            "_model_module": "@jupyter-widgets/controls",
            "_model_module_version": "1.5.0",
            "_model_name": "HBoxModel",
            "_view_count": null,
            "_view_module": "@jupyter-widgets/controls",
            "_view_module_version": "1.5.0",
            "_view_name": "HBoxView",
            "box_style": "",
            "children": [
              "IPY_MODEL_928fec5f7be84af695aa694fe0654dc3",
              "IPY_MODEL_9986f19115164c70a9faed7693b9581a",
              "IPY_MODEL_ecad47f3de034e3699e72e8abcd0bb8e"
            ],
            "layout": "IPY_MODEL_7d022f7e0040486cbe8f5fe258574778"
          }
        },
        "928fec5f7be84af695aa694fe0654dc3": {
          "model_module": "@jupyter-widgets/controls",
          "model_name": "HTMLModel",
          "model_module_version": "1.5.0",
          "state": {
            "_dom_classes": [],
            "_model_module": "@jupyter-widgets/controls",
            "_model_module_version": "1.5.0",
            "_model_name": "HTMLModel",
            "_view_count": null,
            "_view_module": "@jupyter-widgets/controls",
            "_view_module_version": "1.5.0",
            "_view_name": "HTMLView",
            "description": "",
            "description_tooltip": null,
            "layout": "IPY_MODEL_5f187ac510024476b8771fa547d317f4",
            "placeholder": "​",
            "style": "IPY_MODEL_e19454bf5ae64b6b94ebbdb3e90a82d9",
            "value": "Downloading: 100%"
          }
        },
        "9986f19115164c70a9faed7693b9581a": {
          "model_module": "@jupyter-widgets/controls",
          "model_name": "FloatProgressModel",
          "model_module_version": "1.5.0",
          "state": {
            "_dom_classes": [],
            "_model_module": "@jupyter-widgets/controls",
            "_model_module_version": "1.5.0",
            "_model_name": "FloatProgressModel",
            "_view_count": null,
            "_view_module": "@jupyter-widgets/controls",
            "_view_module_version": "1.5.0",
            "_view_name": "ProgressView",
            "bar_style": "success",
            "description": "",
            "description_tooltip": null,
            "layout": "IPY_MODEL_ad9702155f5e4d8280547d98c92e3a67",
            "max": 1345000672,
            "min": 0,
            "orientation": "horizontal",
            "style": "IPY_MODEL_4c9bfd4f1d6a4c02951ead79ea694ade",
            "value": 1345000672
          }
        },
        "ecad47f3de034e3699e72e8abcd0bb8e": {
          "model_module": "@jupyter-widgets/controls",
          "model_name": "HTMLModel",
          "model_module_version": "1.5.0",
          "state": {
            "_dom_classes": [],
            "_model_module": "@jupyter-widgets/controls",
            "_model_module_version": "1.5.0",
            "_model_name": "HTMLModel",
            "_view_count": null,
            "_view_module": "@jupyter-widgets/controls",
            "_view_module_version": "1.5.0",
            "_view_name": "HTMLView",
            "description": "",
            "description_tooltip": null,
            "layout": "IPY_MODEL_63a1489d7bd04ae2a48a50d6d631c861",
            "placeholder": "​",
            "style": "IPY_MODEL_84221e6b6dcc437a9bc02feb827b266d",
            "value": " 1.35G/1.35G [00:27&lt;00:00, 62.6MB/s]"
          }
        },
        "7d022f7e0040486cbe8f5fe258574778": {
          "model_module": "@jupyter-widgets/base",
          "model_name": "LayoutModel",
          "model_module_version": "1.2.0",
          "state": {
            "_model_module": "@jupyter-widgets/base",
            "_model_module_version": "1.2.0",
            "_model_name": "LayoutModel",
            "_view_count": null,
            "_view_module": "@jupyter-widgets/base",
            "_view_module_version": "1.2.0",
            "_view_name": "LayoutView",
            "align_content": null,
            "align_items": null,
            "align_self": null,
            "border": null,
            "bottom": null,
            "display": null,
            "flex": null,
            "flex_flow": null,
            "grid_area": null,
            "grid_auto_columns": null,
            "grid_auto_flow": null,
            "grid_auto_rows": null,
            "grid_column": null,
            "grid_gap": null,
            "grid_row": null,
            "grid_template_areas": null,
            "grid_template_columns": null,
            "grid_template_rows": null,
            "height": null,
            "justify_content": null,
            "justify_items": null,
            "left": null,
            "margin": null,
            "max_height": null,
            "max_width": null,
            "min_height": null,
            "min_width": null,
            "object_fit": null,
            "object_position": null,
            "order": null,
            "overflow": null,
            "overflow_x": null,
            "overflow_y": null,
            "padding": null,
            "right": null,
            "top": null,
            "visibility": null,
            "width": null
          }
        },
        "5f187ac510024476b8771fa547d317f4": {
          "model_module": "@jupyter-widgets/base",
          "model_name": "LayoutModel",
          "model_module_version": "1.2.0",
          "state": {
            "_model_module": "@jupyter-widgets/base",
            "_model_module_version": "1.2.0",
            "_model_name": "LayoutModel",
            "_view_count": null,
            "_view_module": "@jupyter-widgets/base",
            "_view_module_version": "1.2.0",
            "_view_name": "LayoutView",
            "align_content": null,
            "align_items": null,
            "align_self": null,
            "border": null,
            "bottom": null,
            "display": null,
            "flex": null,
            "flex_flow": null,
            "grid_area": null,
            "grid_auto_columns": null,
            "grid_auto_flow": null,
            "grid_auto_rows": null,
            "grid_column": null,
            "grid_gap": null,
            "grid_row": null,
            "grid_template_areas": null,
            "grid_template_columns": null,
            "grid_template_rows": null,
            "height": null,
            "justify_content": null,
            "justify_items": null,
            "left": null,
            "margin": null,
            "max_height": null,
            "max_width": null,
            "min_height": null,
            "min_width": null,
            "object_fit": null,
            "object_position": null,
            "order": null,
            "overflow": null,
            "overflow_x": null,
            "overflow_y": null,
            "padding": null,
            "right": null,
            "top": null,
            "visibility": null,
            "width": null
          }
        },
        "e19454bf5ae64b6b94ebbdb3e90a82d9": {
          "model_module": "@jupyter-widgets/controls",
          "model_name": "DescriptionStyleModel",
          "model_module_version": "1.5.0",
          "state": {
            "_model_module": "@jupyter-widgets/controls",
            "_model_module_version": "1.5.0",
            "_model_name": "DescriptionStyleModel",
            "_view_count": null,
            "_view_module": "@jupyter-widgets/base",
            "_view_module_version": "1.2.0",
            "_view_name": "StyleView",
            "description_width": ""
          }
        },
        "ad9702155f5e4d8280547d98c92e3a67": {
          "model_module": "@jupyter-widgets/base",
          "model_name": "LayoutModel",
          "model_module_version": "1.2.0",
          "state": {
            "_model_module": "@jupyter-widgets/base",
            "_model_module_version": "1.2.0",
            "_model_name": "LayoutModel",
            "_view_count": null,
            "_view_module": "@jupyter-widgets/base",
            "_view_module_version": "1.2.0",
            "_view_name": "LayoutView",
            "align_content": null,
            "align_items": null,
            "align_self": null,
            "border": null,
            "bottom": null,
            "display": null,
            "flex": null,
            "flex_flow": null,
            "grid_area": null,
            "grid_auto_columns": null,
            "grid_auto_flow": null,
            "grid_auto_rows": null,
            "grid_column": null,
            "grid_gap": null,
            "grid_row": null,
            "grid_template_areas": null,
            "grid_template_columns": null,
            "grid_template_rows": null,
            "height": null,
            "justify_content": null,
            "justify_items": null,
            "left": null,
            "margin": null,
            "max_height": null,
            "max_width": null,
            "min_height": null,
            "min_width": null,
            "object_fit": null,
            "object_position": null,
            "order": null,
            "overflow": null,
            "overflow_x": null,
            "overflow_y": null,
            "padding": null,
            "right": null,
            "top": null,
            "visibility": null,
            "width": null
          }
        },
        "4c9bfd4f1d6a4c02951ead79ea694ade": {
          "model_module": "@jupyter-widgets/controls",
          "model_name": "ProgressStyleModel",
          "model_module_version": "1.5.0",
          "state": {
            "_model_module": "@jupyter-widgets/controls",
            "_model_module_version": "1.5.0",
            "_model_name": "ProgressStyleModel",
            "_view_count": null,
            "_view_module": "@jupyter-widgets/base",
            "_view_module_version": "1.2.0",
            "_view_name": "StyleView",
            "bar_color": null,
            "description_width": ""
          }
        },
        "63a1489d7bd04ae2a48a50d6d631c861": {
          "model_module": "@jupyter-widgets/base",
          "model_name": "LayoutModel",
          "model_module_version": "1.2.0",
          "state": {
            "_model_module": "@jupyter-widgets/base",
            "_model_module_version": "1.2.0",
            "_model_name": "LayoutModel",
            "_view_count": null,
            "_view_module": "@jupyter-widgets/base",
            "_view_module_version": "1.2.0",
            "_view_name": "LayoutView",
            "align_content": null,
            "align_items": null,
            "align_self": null,
            "border": null,
            "bottom": null,
            "display": null,
            "flex": null,
            "flex_flow": null,
            "grid_area": null,
            "grid_auto_columns": null,
            "grid_auto_flow": null,
            "grid_auto_rows": null,
            "grid_column": null,
            "grid_gap": null,
            "grid_row": null,
            "grid_template_areas": null,
            "grid_template_columns": null,
            "grid_template_rows": null,
            "height": null,
            "justify_content": null,
            "justify_items": null,
            "left": null,
            "margin": null,
            "max_height": null,
            "max_width": null,
            "min_height": null,
            "min_width": null,
            "object_fit": null,
            "object_position": null,
            "order": null,
            "overflow": null,
            "overflow_x": null,
            "overflow_y": null,
            "padding": null,
            "right": null,
            "top": null,
            "visibility": null,
            "width": null
          }
        },
        "84221e6b6dcc437a9bc02feb827b266d": {
          "model_module": "@jupyter-widgets/controls",
          "model_name": "DescriptionStyleModel",
          "model_module_version": "1.5.0",
          "state": {
            "_model_module": "@jupyter-widgets/controls",
            "_model_module_version": "1.5.0",
            "_model_name": "DescriptionStyleModel",
            "_view_count": null,
            "_view_module": "@jupyter-widgets/base",
            "_view_module_version": "1.2.0",
            "_view_name": "StyleView",
            "description_width": ""
          }
        }
      }
    }
  },
  "cells": [
    {
      "cell_type": "code",
      "execution_count": 1,
      "metadata": {
        "colab": {
          "base_uri": "https://localhost:8080/"
        },
        "id": "pw0a51n2nVuk",
        "outputId": "93aae8e3-569b-4848-9420-36111c4946e5"
      },
      "outputs": [
        {
          "output_type": "stream",
          "name": "stdout",
          "text": [
            "Mounted at /content/gdrive\n"
          ]
        }
      ],
      "source": [
        "from google.colab import drive\n",
        "drive.mount('/content/gdrive', force_remount=True)"
      ]
    },
    {
      "cell_type": "code",
      "source": [
        "!pip install transformers\n",
        "!pip install datasets\n",
        "!pip install wandb\n",
        "!pip install gensim\n",
        "!pip install tensorflow-addons"
      ],
      "metadata": {
        "id": "cYscWJ5eMlBH"
      },
      "execution_count": null,
      "outputs": []
    },
    {
      "cell_type": "code",
      "source": [
        "import pandas as pd\n",
        "import re\n",
        "from collections import Counter, OrderedDict\n",
        "from matplotlib import pyplot as plt\n",
        "import seaborn as sns\n",
        "import string\n",
        "import nltk\n",
        "import numpy as np\n",
        "import seaborn as sns\n",
        "nltk.download('stopwords')\n",
        "nltk.download('punkt')\n",
        "nltk.download('wordnet')\n",
        "nltk.download('omw-1.4')\n",
        "from nltk.corpus import stopwords \n",
        "from nltk.tokenize import word_tokenize\n",
        "from nltk.stem import WordNetLemmatizer\n",
        "from sklearn.feature_extraction.text import CountVectorizer, TfidfVectorizer\n",
        "from sklearn.preprocessing import LabelEncoder\n",
        "from sklearn.model_selection import GridSearchCV, StratifiedKFold\n",
        "from sklearn.metrics import f1_score, precision_score, recall_score, classification_report\n",
        "from sklearn.svm import SVC, LinearSVC\n",
        "from sklearn.ensemble import RandomForestClassifier\n",
        "from sklearn.linear_model import LogisticRegression\n",
        "from transformers import AutoTokenizer, AutoModelForSequenceClassification, AdamW, DataCollatorWithPadding, Trainer, TrainingArguments\n",
        "from datasets import Dataset\n",
        "from tqdm import tqdm\n",
        "from torch.utils.data import DataLoader, TensorDataset\n",
        "import torch\n",
        "import torch.nn as nn\n",
        "from tqdm import tqdm\n",
        "import io\n",
        "from tensorflow import keras\n",
        "from tensorflow.keras.preprocessing.text import Tokenizer\n",
        "from tensorflow.keras.preprocessing.sequence import pad_sequences\n",
        "from tensorflow.keras.layers import Embedding, Dropout\n",
        "from tensorflow.keras import models, layers\n",
        "from tensorflow.keras.utils import to_categorical\n",
        "import tensorflow as tf\n",
        "import tensorflow_addons as tfa\n",
        "import gensim"
      ],
      "metadata": {
        "colab": {
          "base_uri": "https://localhost:8080/"
        },
        "id": "SHBegnfJ_1eE",
        "outputId": "c249b5d2-28a9-47ec-c53c-2cd72c6e8c96"
      },
      "execution_count": 5,
      "outputs": [
        {
          "output_type": "stream",
          "name": "stderr",
          "text": [
            "[nltk_data] Downloading package stopwords to /root/nltk_data...\n",
            "[nltk_data]   Package stopwords is already up-to-date!\n",
            "[nltk_data] Downloading package punkt to /root/nltk_data...\n",
            "[nltk_data]   Package punkt is already up-to-date!\n",
            "[nltk_data] Downloading package wordnet to /root/nltk_data...\n",
            "[nltk_data]   Package wordnet is already up-to-date!\n",
            "[nltk_data] Downloading package omw-1.4 to /root/nltk_data...\n",
            "[nltk_data]   Package omw-1.4 is already up-to-date!\n"
          ]
        }
      ]
    },
    {
      "cell_type": "code",
      "source": [
        "device = torch.device(\"cuda\") if torch.cuda.is_available() else torch.device(\"cpu\")\n",
        "print(device)"
      ],
      "metadata": {
        "colab": {
          "base_uri": "https://localhost:8080/"
        },
        "id": "yb4JAm1eMnpV",
        "outputId": "38e52e57-7f08-4ff5-fc22-11deb2bac5df"
      },
      "execution_count": null,
      "outputs": [
        {
          "output_type": "stream",
          "name": "stdout",
          "text": [
            "cuda\n"
          ]
        }
      ]
    },
    {
      "cell_type": "markdown",
      "source": [
        "# COVID Tweets Dataset\n",
        "https://www.kaggle.com/datasets/datatattle/covid-19-nlp-text-classification"
      ],
      "metadata": {
        "id": "q1UJU3IhfNJ1"
      }
    },
    {
      "cell_type": "code",
      "source": [
        "vid_train = pd.read_csv('/content/gdrive/My Drive/Магистериум/NLP/Corona_NLP_train.csv', encoding='latin1')\n",
        "vid_test = pd.read_csv('/content/gdrive/My Drive/Магистериум/NLP/Corona_NLP_test.csv', encoding='latin1')"
      ],
      "metadata": {
        "id": "odMl2w0ksrPz"
      },
      "execution_count": 22,
      "outputs": []
    },
    {
      "cell_type": "code",
      "source": [
        "vid_train.head()"
      ],
      "metadata": {
        "colab": {
          "base_uri": "https://localhost:8080/",
          "height": 206
        },
        "id": "2gBPvF5C__H2",
        "outputId": "117850c7-6a8e-4e54-ac94-a54013cbaf33"
      },
      "execution_count": 23,
      "outputs": [
        {
          "output_type": "execute_result",
          "data": {
            "text/plain": [
              "   UserName  ScreenName   Location     TweetAt  \\\n",
              "0      3799       48751     London  16-03-2020   \n",
              "1      3800       48752         UK  16-03-2020   \n",
              "2      3801       48753  Vagabonds  16-03-2020   \n",
              "3      3802       48754        NaN  16-03-2020   \n",
              "4      3803       48755        NaN  16-03-2020   \n",
              "\n",
              "                                       OriginalTweet           Sentiment  \n",
              "0  @MeNyrbie @Phil_Gahan @Chrisitv https://t.co/i...             Neutral  \n",
              "1  advice Talk to your neighbours family to excha...            Positive  \n",
              "2  Coronavirus Australia: Woolworths to give elde...            Positive  \n",
              "3  My food stock is not the only one which is emp...            Positive  \n",
              "4  Me, ready to go at supermarket during the #COV...  Extremely Negative  "
            ],
            "text/html": [
              "\n",
              "  <div id=\"df-a4069472-183d-480c-884a-b25c92fa6320\">\n",
              "    <div class=\"colab-df-container\">\n",
              "      <div>\n",
              "<style scoped>\n",
              "    .dataframe tbody tr th:only-of-type {\n",
              "        vertical-align: middle;\n",
              "    }\n",
              "\n",
              "    .dataframe tbody tr th {\n",
              "        vertical-align: top;\n",
              "    }\n",
              "\n",
              "    .dataframe thead th {\n",
              "        text-align: right;\n",
              "    }\n",
              "</style>\n",
              "<table border=\"1\" class=\"dataframe\">\n",
              "  <thead>\n",
              "    <tr style=\"text-align: right;\">\n",
              "      <th></th>\n",
              "      <th>UserName</th>\n",
              "      <th>ScreenName</th>\n",
              "      <th>Location</th>\n",
              "      <th>TweetAt</th>\n",
              "      <th>OriginalTweet</th>\n",
              "      <th>Sentiment</th>\n",
              "    </tr>\n",
              "  </thead>\n",
              "  <tbody>\n",
              "    <tr>\n",
              "      <th>0</th>\n",
              "      <td>3799</td>\n",
              "      <td>48751</td>\n",
              "      <td>London</td>\n",
              "      <td>16-03-2020</td>\n",
              "      <td>@MeNyrbie @Phil_Gahan @Chrisitv https://t.co/i...</td>\n",
              "      <td>Neutral</td>\n",
              "    </tr>\n",
              "    <tr>\n",
              "      <th>1</th>\n",
              "      <td>3800</td>\n",
              "      <td>48752</td>\n",
              "      <td>UK</td>\n",
              "      <td>16-03-2020</td>\n",
              "      <td>advice Talk to your neighbours family to excha...</td>\n",
              "      <td>Positive</td>\n",
              "    </tr>\n",
              "    <tr>\n",
              "      <th>2</th>\n",
              "      <td>3801</td>\n",
              "      <td>48753</td>\n",
              "      <td>Vagabonds</td>\n",
              "      <td>16-03-2020</td>\n",
              "      <td>Coronavirus Australia: Woolworths to give elde...</td>\n",
              "      <td>Positive</td>\n",
              "    </tr>\n",
              "    <tr>\n",
              "      <th>3</th>\n",
              "      <td>3802</td>\n",
              "      <td>48754</td>\n",
              "      <td>NaN</td>\n",
              "      <td>16-03-2020</td>\n",
              "      <td>My food stock is not the only one which is emp...</td>\n",
              "      <td>Positive</td>\n",
              "    </tr>\n",
              "    <tr>\n",
              "      <th>4</th>\n",
              "      <td>3803</td>\n",
              "      <td>48755</td>\n",
              "      <td>NaN</td>\n",
              "      <td>16-03-2020</td>\n",
              "      <td>Me, ready to go at supermarket during the #COV...</td>\n",
              "      <td>Extremely Negative</td>\n",
              "    </tr>\n",
              "  </tbody>\n",
              "</table>\n",
              "</div>\n",
              "      <button class=\"colab-df-convert\" onclick=\"convertToInteractive('df-a4069472-183d-480c-884a-b25c92fa6320')\"\n",
              "              title=\"Convert this dataframe to an interactive table.\"\n",
              "              style=\"display:none;\">\n",
              "        \n",
              "  <svg xmlns=\"http://www.w3.org/2000/svg\" height=\"24px\"viewBox=\"0 0 24 24\"\n",
              "       width=\"24px\">\n",
              "    <path d=\"M0 0h24v24H0V0z\" fill=\"none\"/>\n",
              "    <path d=\"M18.56 5.44l.94 2.06.94-2.06 2.06-.94-2.06-.94-.94-2.06-.94 2.06-2.06.94zm-11 1L8.5 8.5l.94-2.06 2.06-.94-2.06-.94L8.5 2.5l-.94 2.06-2.06.94zm10 10l.94 2.06.94-2.06 2.06-.94-2.06-.94-.94-2.06-.94 2.06-2.06.94z\"/><path d=\"M17.41 7.96l-1.37-1.37c-.4-.4-.92-.59-1.43-.59-.52 0-1.04.2-1.43.59L10.3 9.45l-7.72 7.72c-.78.78-.78 2.05 0 2.83L4 21.41c.39.39.9.59 1.41.59.51 0 1.02-.2 1.41-.59l7.78-7.78 2.81-2.81c.8-.78.8-2.07 0-2.86zM5.41 20L4 18.59l7.72-7.72 1.47 1.35L5.41 20z\"/>\n",
              "  </svg>\n",
              "      </button>\n",
              "      \n",
              "  <style>\n",
              "    .colab-df-container {\n",
              "      display:flex;\n",
              "      flex-wrap:wrap;\n",
              "      gap: 12px;\n",
              "    }\n",
              "\n",
              "    .colab-df-convert {\n",
              "      background-color: #E8F0FE;\n",
              "      border: none;\n",
              "      border-radius: 50%;\n",
              "      cursor: pointer;\n",
              "      display: none;\n",
              "      fill: #1967D2;\n",
              "      height: 32px;\n",
              "      padding: 0 0 0 0;\n",
              "      width: 32px;\n",
              "    }\n",
              "\n",
              "    .colab-df-convert:hover {\n",
              "      background-color: #E2EBFA;\n",
              "      box-shadow: 0px 1px 2px rgba(60, 64, 67, 0.3), 0px 1px 3px 1px rgba(60, 64, 67, 0.15);\n",
              "      fill: #174EA6;\n",
              "    }\n",
              "\n",
              "    [theme=dark] .colab-df-convert {\n",
              "      background-color: #3B4455;\n",
              "      fill: #D2E3FC;\n",
              "    }\n",
              "\n",
              "    [theme=dark] .colab-df-convert:hover {\n",
              "      background-color: #434B5C;\n",
              "      box-shadow: 0px 1px 3px 1px rgba(0, 0, 0, 0.15);\n",
              "      filter: drop-shadow(0px 1px 2px rgba(0, 0, 0, 0.3));\n",
              "      fill: #FFFFFF;\n",
              "    }\n",
              "  </style>\n",
              "\n",
              "      <script>\n",
              "        const buttonEl =\n",
              "          document.querySelector('#df-a4069472-183d-480c-884a-b25c92fa6320 button.colab-df-convert');\n",
              "        buttonEl.style.display =\n",
              "          google.colab.kernel.accessAllowed ? 'block' : 'none';\n",
              "\n",
              "        async function convertToInteractive(key) {\n",
              "          const element = document.querySelector('#df-a4069472-183d-480c-884a-b25c92fa6320');\n",
              "          const dataTable =\n",
              "            await google.colab.kernel.invokeFunction('convertToInteractive',\n",
              "                                                     [key], {});\n",
              "          if (!dataTable) return;\n",
              "\n",
              "          const docLinkHtml = 'Like what you see? Visit the ' +\n",
              "            '<a target=\"_blank\" href=https://colab.research.google.com/notebooks/data_table.ipynb>data table notebook</a>'\n",
              "            + ' to learn more about interactive tables.';\n",
              "          element.innerHTML = '';\n",
              "          dataTable['output_type'] = 'display_data';\n",
              "          await google.colab.output.renderOutput(dataTable, element);\n",
              "          const docLink = document.createElement('div');\n",
              "          docLink.innerHTML = docLinkHtml;\n",
              "          element.appendChild(docLink);\n",
              "        }\n",
              "      </script>\n",
              "    </div>\n",
              "  </div>\n",
              "  "
            ]
          },
          "metadata": {},
          "execution_count": 23
        }
      ]
    },
    {
      "cell_type": "markdown",
      "source": [
        "Использованный датасет служит для решения задачи сентимент-анализа на базе твитов про covid. Задача определяется как мультиклассовая к 5 классами:"
      ],
      "metadata": {
        "id": "NaAu8QBKjm4W"
      }
    },
    {
      "cell_type": "code",
      "source": [
        "print('Classes:')\n",
        "print('___________________')\n",
        "for i in vid_train['Sentiment'].unique():\n",
        "    print(i)"
      ],
      "metadata": {
        "id": "2xUMvwo-p_XV",
        "colab": {
          "base_uri": "https://localhost:8080/"
        },
        "outputId": "a2658fab-57a5-4eb9-e91e-6bdeed2016c5"
      },
      "execution_count": 24,
      "outputs": [
        {
          "output_type": "stream",
          "name": "stdout",
          "text": [
            "Classes:\n",
            "___________________\n",
            "Neutral\n",
            "Positive\n",
            "Extremely Negative\n",
            "Negative\n",
            "Extremely Positive\n"
          ]
        }
      ]
    },
    {
      "cell_type": "markdown",
      "source": [
        "Классы \"Extremely Negative\" и \"Extremely Positive\" могут быть потенциально сведены к \"Negative\" и \"Positive\", так как обычно в задачах сентимент-анализа такие крайние классы мало отличаются от классов с менее выраженным отношением, позитивным или негативным."
      ],
      "metadata": {
        "id": "LPOpKhZokB3e"
      }
    },
    {
      "cell_type": "code",
      "source": [
        "print(f'Число примеров в обучающей выборке: {vid_train.shape[0]}')\n",
        "print(f'Число примеров в тестовой выборке: {vid_test.shape[0]}')"
      ],
      "metadata": {
        "id": "RRYtZlBIuUWi",
        "outputId": "f5a5cfa9-62e1-43dd-f5f4-9053fe011870",
        "colab": {
          "base_uri": "https://localhost:8080/"
        }
      },
      "execution_count": 25,
      "outputs": [
        {
          "output_type": "stream",
          "name": "stdout",
          "text": [
            "Число примеров в обучающей выборке: 41157\n",
            "Число примеров в тестовой выборке: 3798\n"
          ]
        }
      ]
    },
    {
      "cell_type": "markdown",
      "source": [
        "## EDA"
      ],
      "metadata": {
        "id": "D8VCdjkUAKNa"
      }
    },
    {
      "cell_type": "markdown",
      "source": [
        "Рассмотрим для начала распределение классов. В тренировочном корпусе сравнительно мала доля сильно позитивного и сильно негативного классов. В целом, больше представлены позитивные тексты (Positive + Extremely Positive ~ 44%, 37% - негативные)"
      ],
      "metadata": {
        "id": "kJ6qGbrQvq0N"
      }
    },
    {
      "cell_type": "code",
      "source": [
        "plt.figure(figsize=(8, 6))\n",
        "data = list(vid_train.groupby('Sentiment').count()['OriginalTweet'])\n",
        "names = vid_train.groupby('Sentiment').count()['OriginalTweet'].index\n",
        "\n",
        "palette_color = sns.color_palette('Set2')\n",
        "plt.pie(data, labels=names, colors=palette_color, autopct='%.0f%%')\n",
        "plt.title('Labels Distribution in Train Data', loc='center')\n",
        "plt.show()"
      ],
      "metadata": {
        "id": "F6s-A7ep00Tm",
        "outputId": "bfdf8485-468d-46bd-bc70-85756000c837",
        "colab": {
          "base_uri": "https://localhost:8080/",
          "height": 373
        }
      },
      "execution_count": 26,
      "outputs": [
        {
          "output_type": "display_data",
          "data": {
            "text/plain": [
              "<Figure size 576x432 with 1 Axes>"
            ],
            "image/png": "[encoded data removed]"
          },
          "metadata": {}
        }
      ]
    },
    {
      "cell_type": "markdown",
      "source": [
        "Также и в тестовом мало представлены классы с сильной семантикой (Extremely Positive|Negative), то же касается и нейтрального класса."
      ],
      "metadata": {
        "id": "CPiJ5FHA1_7p"
      }
    },
    {
      "cell_type": "code",
      "source": [
        "plt.figure(figsize=(8, 6))\n",
        "data = list(vid_test.groupby('Sentiment').count()['OriginalTweet'])\n",
        "names = vid_test.groupby('Sentiment').count()['OriginalTweet'].index\n",
        "  \n",
        "palette_color = sns.color_palette('Set2')\n",
        "\n",
        "plt.pie(data, labels=names, colors=palette_color, autopct='%.0f%%')\n",
        "plt.title('Labels Distribution in Test Data', loc='center')\n",
        "plt.show()"
      ],
      "metadata": {
        "colab": {
          "base_uri": "https://localhost:8080/",
          "height": 373
        },
        "id": "pLk-Ejs2ugAV",
        "outputId": "8c39b78c-b4b0-489e-c877-76398bfdea74"
      },
      "execution_count": 27,
      "outputs": [
        {
          "output_type": "display_data",
          "data": {
            "text/plain": [
              "<Figure size 576x432 with 1 Axes>"
            ],
            "image/png": "[encoded data removed]"
          },
          "metadata": {}
        }
      ]
    },
    {
      "cell_type": "markdown",
      "source": [
        "В датасете также встречается много хэштегов, причем общей тематики, не являющихся показателями отношения к теме."
      ],
      "metadata": {
        "id": "eD-7mOQ42UxW"
      }
    },
    {
      "cell_type": "code",
      "source": [
        "def get_hashtags(tweet):\n",
        "    tags = re.findall(r'#\\w+',tweet)\n",
        "    return tags"
      ],
      "metadata": {
        "id": "EketJbSyAJQN"
      },
      "execution_count": 28,
      "outputs": []
    },
    {
      "cell_type": "code",
      "source": [
        "found_ht = []\n",
        "for row in range(len(vid_train)):\n",
        "    found_ht += get_hashtags(vid_train['OriginalTweet'].iloc[row])\n",
        "\n",
        "counter_ht = Counter(found_ht)\n",
        "temp = OrderedDict(counter_ht.most_common(20))"
      ],
      "metadata": {
        "id": "tSasr6_TsbFo"
      },
      "execution_count": 29,
      "outputs": []
    },
    {
      "cell_type": "code",
      "source": [
        "print('Всего хэштегов в датасете:', len(found_ht))\n",
        "print('Всего уникальных:', len(set(found_ht)))"
      ],
      "metadata": {
        "colab": {
          "base_uri": "https://localhost:8080/"
        },
        "outputId": "60a3426b-0ac9-4865-a578-1628e930d8e9",
        "id": "1IJjBe0_3I3j"
      },
      "execution_count": 30,
      "outputs": [
        {
          "output_type": "stream",
          "name": "stdout",
          "text": [
            "Всего хэштегов в датасете: 81151\n",
            "Всего уникальных: 18367\n"
          ]
        }
      ]
    },
    {
      "cell_type": "markdown",
      "source": [
        "По топ-20 как раз видно, что хэштеги общие, лишь отдельные потенциально могут быть связаны с выражением явно позитивного или негативного мнения (например, #toiletpaper, #StayHomeSaveLives)."
      ],
      "metadata": {
        "id": "1rIeAA4G3M83"
      }
    },
    {
      "cell_type": "code",
      "source": [
        "print('Top-20 hashtags:')\n",
        "for i in temp:\n",
        "    print(i, end=', ')"
      ],
      "metadata": {
        "id": "vrCzEEW38pV0",
        "outputId": "67cf1ab1-33b2-43f9-80d5-93ad5594a252",
        "colab": {
          "base_uri": "https://localhost:8080/"
        }
      },
      "execution_count": 31,
      "outputs": [
        {
          "output_type": "stream",
          "name": "stdout",
          "text": [
            "Top-20 hashtags:\n",
            "#coronavirus, #COVID19, #Covid_19, #Coronavirus, #COVID2019, #toiletpaper, #COVID, #covid19, #CoronaCrisis, #CoronaVirus, #SocialDistancing, #covid_19, #pandemic, #CoronavirusPandemic, #CoronavirusOutbreak, #Covid19, #StayHomeSaveLives, #lockdown, #StayAtHome, #supermarket, "
          ]
        }
      ]
    },
    {
      "cell_type": "code",
      "source": [
        "plt.figure(figsize=(40, 6))\n",
        "sns.barplot(x=list(temp.keys()), y=list(temp.values()))\n",
        "plt.show()"
      ],
      "metadata": {
        "colab": {
          "base_uri": "https://localhost:8080/",
          "height": 251
        },
        "id": "8b4duXI91MCj",
        "outputId": "61d297ab-e4e5-4d3c-c113-615e22fd7710"
      },
      "execution_count": 32,
      "outputs": [
        {
          "output_type": "display_data",
          "data": {
            "text/plain": [
              "<Figure size 2880x432 with 1 Axes>"
            ],
            "image/png": "[encoded data removed]"
          },
          "metadata": {
            "needs_background": "light"
          }
        }
      ]
    },
    {
      "cell_type": "code",
      "source": [
        "dict_ht = []\n",
        "for ht in temp:\n",
        "    for row in range(len(vid_train)):\n",
        "        if ht in vid_train['OriginalTweet'].iloc[row]:\n",
        "            senti = vid_train['Sentiment'].iloc[row]\n",
        "            if senti == 'Extremely Negative':\n",
        "                senti = 'Negative'\n",
        "            elif senti == 'Extremely Positive':\n",
        "                senti = 'Positive'\n",
        "            dict_ht.append([ht, senti])"
      ],
      "metadata": {
        "id": "CMBlPP7dK63c"
      },
      "execution_count": 42,
      "outputs": []
    },
    {
      "cell_type": "code",
      "source": [
        "ht_temp_df = pd.DataFrame(dict_ht, columns=['Tag', 'Sentiment'])"
      ],
      "metadata": {
        "id": "0loyn1A8OMK7"
      },
      "execution_count": 43,
      "outputs": []
    },
    {
      "cell_type": "markdown",
      "source": [
        "Если посмотреть статистику появлений основных хэштегов, то везде прослеживается одна и та же тендеция: чаще представлены в позитивных текстах, реже - в негативных, что также связано с самим перевесом позитивного класса в выборке."
      ],
      "metadata": {
        "id": "b0o8s-5wTHsZ"
      }
    },
    {
      "cell_type": "code",
      "source": [
        "plt.figure(figsize=(40, 6))\n",
        "sns.countplot(data=ht_temp_df, x=\"Tag\", hue=\"Sentiment\", palette='Set2')\n",
        "plt.show()"
      ],
      "metadata": {
        "colab": {
          "base_uri": "https://localhost:8080/",
          "height": 259
        },
        "id": "gTiqwcETOK7j",
        "outputId": "cec049f0-f1bf-4d39-c183-2c1cb69a01c5"
      },
      "execution_count": 47,
      "outputs": [
        {
          "output_type": "display_data",
          "data": {
            "text/plain": [
              "<Figure size 2880x432 with 1 Axes>"
            ],
            "image/png": "[encoded data removed]"
          },
          "metadata": {
            "needs_background": "light"
          }
        }
      ]
    },
    {
      "cell_type": "markdown",
      "source": [
        "примеры позитивного и негативного текстов для хэштега 'StayAtHome'"
      ],
      "metadata": {
        "id": "N0lyqaSUBIzp"
      }
    },
    {
      "cell_type": "code",
      "source": [
        "plus = 0\n",
        "minus = 0\n",
        "for row in range(len(vid_train)-1,0,-1):\n",
        "    if plus == 0:\n",
        "        if '#StayAtHome' in vid_train['OriginalTweet'].iloc[row] and vid_train['Sentiment'].iloc[row] in ['Positive', 'Extremely Positive']:\n",
        "            print('-'*100)\n",
        "            print('Positive Tweet')\n",
        "            print(vid_train['OriginalTweet'].iloc[row])\n",
        "            plus = 1\n",
        "    if minus == 0:\n",
        "        if '#StayAtHome' in vid_train['OriginalTweet'].iloc[row] and vid_train['Sentiment'].iloc[row] in ['Negative', 'Extremely Negative']:\n",
        "            print('-'*100)\n",
        "            print('Negative Tweet')\n",
        "            print(vid_train['OriginalTweet'].iloc[row])\n",
        "            minus = 1"
      ],
      "metadata": {
        "colab": {
          "base_uri": "https://localhost:8080/"
        },
        "outputId": "38cf4614-1cd2-405c-ef75-111628655f96",
        "id": "5TsIx0P062DA"
      },
      "execution_count": null,
      "outputs": [
        {
          "output_type": "stream",
          "name": "stdout",
          "text": [
            "----------------------------------------------------------------------------------------------------\n",
            "Positive Tweet\n",
            "If you have rubbing alcohol you don't need mix it with aloe to make sanitizer. Just use the alcohol to directly clean your hands!  #Coronavirus #Covid19 #StayAtHome *If you are concerned about your skin moisturize!\n",
            "----------------------------------------------------------------------------------------------------\n",
            "Negative Tweet\n",
            "Went on an online shopping spree to find a comfy jumpsuit that reaches my ankles. Few websites list inseam.\r\r\n",
            "\r\r\n",
            "Unsure about the what the ethics of sad-buying stuff is when it requires ppl to work. Probably not ethical? Now IÂm more sad.\r\r\n",
            "\r\r\n",
            "#SocialDistancing Day 30\r\r\n",
            "#StayAtHome Day 16\n"
          ]
        }
      ]
    },
    {
      "cell_type": "markdown",
      "source": [
        "То же касается упоминаний (@). Упоминаемые персоны (Трамп, Борис Джонсон), компании (Walmart, Amazon) и медиа (CNN) могут быть как в негативных, так и позитивных контекстах. Поэтому в сентимент-анализе таких твитов скорее следует анализировать непосредственно текст сообщения, чем хэштеги и упоминания."
      ],
      "metadata": {
        "id": "t48iHVEE7Uuv"
      }
    },
    {
      "cell_type": "code",
      "source": [
        "def get_mentions(tweet):\n",
        "    mention = re.findall(r'@\\w+',tweet)\n",
        "    return mention"
      ],
      "metadata": {
        "id": "3tWdVatr71wX"
      },
      "execution_count": 48,
      "outputs": []
    },
    {
      "cell_type": "code",
      "source": [
        "found_ht = []\n",
        "for row in range(len(vid_train)):\n",
        "    found_ht += get_mentions(vid_train.OriginalTweet.iloc[row])\n",
        "\n",
        "counter_ht = Counter(found_ht)\n",
        "temp = OrderedDict(counter_ht.most_common(20))"
      ],
      "metadata": {
        "id": "Tt-c0Txy7nr9"
      },
      "execution_count": 49,
      "outputs": []
    },
    {
      "cell_type": "code",
      "source": [
        "print('Top-20 mentions:')\n",
        "for i in temp:\n",
        "    print(i, end=', ')"
      ],
      "metadata": {
        "outputId": "b27b5a30-a4c7-4f3d-f8f4-09fd95ff1e63",
        "colab": {
          "base_uri": "https://localhost:8080/"
        },
        "id": "VmVnTtwW8kr_"
      },
      "execution_count": 50,
      "outputs": [
        {
          "output_type": "stream",
          "name": "stdout",
          "text": [
            "Top-20 mentions:\n",
            "@realDonaldTrump, @Tesco, @sainsburys, @BorisJohnson, @narendramodi, @amazon, @asda, @PMOIndia, @Morrisons, @piersmorgan, @YouTube, @waitrose, @CNN, @AldiUK, @Walmart, @FTC, @CDCgov, @NYGovCuomo, @BBCNews, @SkyNews, "
          ]
        }
      ]
    },
    {
      "cell_type": "code",
      "source": [
        "plt.figure(figsize=(40, 6))\n",
        "sns.barplot(x=list(temp.keys()), y=list(temp.values()))\n",
        "plt.show()"
      ],
      "metadata": {
        "id": "9wYf8Pxb7syO",
        "outputId": "b6408d5f-1819-4a94-9e75-1b3cf617e149",
        "colab": {
          "base_uri": "https://localhost:8080/",
          "height": 394
        }
      },
      "execution_count": null,
      "outputs": [
        {
          "output_type": "display_data",
          "data": {
            "text/plain": [
              "<Figure size 2880x432 with 1 Axes>"
            ],
            "image/png": "[encoded data removed]"
          },
          "metadata": {
            "needs_background": "light"
          }
        }
      ]
    },
    {
      "cell_type": "code",
      "source": [
        "dict_mt = []\n",
        "for mt in temp:\n",
        "    for row in range(len(vid_train)):\n",
        "        if mt in vid_train['OriginalTweet'].iloc[row]:\n",
        "            senti = vid_train['Sentiment'].iloc[row]\n",
        "            if senti == 'Extremely Negative':\n",
        "                senti = 'Negative'\n",
        "            elif senti == 'Extremely Positive':\n",
        "                senti = 'Positive'\n",
        "            dict_mt.append([mt, senti])"
      ],
      "metadata": {
        "id": "XF5y4IduXwe_"
      },
      "execution_count": 51,
      "outputs": []
    },
    {
      "cell_type": "code",
      "source": [
        "mt_temp_df = pd.DataFrame(dict_mt, columns=['Mention', 'Sentiment'])"
      ],
      "metadata": {
        "id": "Mp_Ej7d-XwfB"
      },
      "execution_count": 52,
      "outputs": []
    },
    {
      "cell_type": "code",
      "source": [
        "plt.figure(figsize=(40, 6))\n",
        "sns.countplot(data=mt_temp_df, x=\"Mention\", hue=\"Sentiment\", palette='Set2')\n",
        "plt.show()"
      ],
      "metadata": {
        "colab": {
          "base_uri": "https://localhost:8080/",
          "height": 259
        },
        "outputId": "2bfc59fb-530d-490f-9cc4-e30a68e43977",
        "id": "gBCWekrJXwfC"
      },
      "execution_count": 53,
      "outputs": [
        {
          "output_type": "display_data",
          "data": {
            "text/plain": [
              "<Figure size 2880x432 with 1 Axes>"
            ],
            "image/png": "[encoded data removed]"
          },
          "metadata": {
            "needs_background": "light"
          }
        }
      ]
    },
    {
      "cell_type": "markdown",
      "source": [
        "При детальном рассмотрении упоминаний, также оказывется, что большая часть - позитивная, отдельные аккаунты, однако, чаще появляются в негативных контекстах: СМИ - CNN, BBCNews, @piersmorgan, правительственные аккаунты (CDCgov)"
      ],
      "metadata": {
        "id": "DR2S1mPnbFg7"
      }
    },
    {
      "cell_type": "code",
      "source": [
        "def get_tweet_len(tweet):\n",
        "    tokens = word_tokenize(tweet)\n",
        "    return len(tokens)\n",
        "\n",
        "lens = []\n",
        "for row in range(len(vid_train)):\n",
        "    lens.append(get_tweet_len(vid_train['OriginalTweet'].iloc[row]))\n",
        "\n",
        "print('Max:', max(lens))\n",
        "print('Moda:', round(np.median(lens)))\n",
        "print('Mean:', round(np.mean(lens)))\n",
        "print('Min:', min(lens))"
      ],
      "metadata": {
        "colab": {
          "base_uri": "https://localhost:8080/"
        },
        "id": "H9EtSb1uUDd0",
        "outputId": "d9ad7038-0c09-47ae-dbb8-777d42ab4236"
      },
      "execution_count": null,
      "outputs": [
        {
          "output_type": "stream",
          "name": "stdout",
          "text": [
            "Max: 205\n",
            "Moda: 39\n",
            "Mean: 37\n",
            "Min: 1\n"
          ]
        }
      ]
    },
    {
      "cell_type": "markdown",
      "source": [
        "Как видно, в основном число слов в твите <40, исключение составляют твиты-выбросы, состоящие из пунктуации, ссылок и числовых значений. Все они будут удалены на этапе предобработки."
      ],
      "metadata": {
        "id": "l0xTR6woXKaZ"
      }
    },
    {
      "cell_type": "markdown",
      "source": [
        "## Basic Preprocessing\n",
        "\n",
        "Проведем базовую предобработку твитов, пока без удаления #хэштегов и @упоминаний, так как они гипотетически могут являться определяющими для сентимент-анализа. Поэтому очистим датасет только от ссылок и несчитываемых символов."
      ],
      "metadata": {
        "id": "RQOk4v90mhR9"
      }
    },
    {
      "cell_type": "code",
      "source": [
        "def clean_tweet(tweet):\n",
        "    clean = re.sub(r'https://t.co/\\w*\\s?', '', tweet)\n",
        "    clean = re.sub(r'[^\\x00-\\x7f]','', clean) \n",
        "    \n",
        "    return clean.strip()"
      ],
      "metadata": {
        "id": "Peh96XFt989y"
      },
      "execution_count": 54,
      "outputs": []
    },
    {
      "cell_type": "code",
      "source": [
        "vid_train['CleanTweet']= vid_train['OriginalTweet'].apply(lambda x: clean_tweet(x))"
      ],
      "metadata": {
        "id": "rjpiyWkK6EJs"
      },
      "execution_count": 55,
      "outputs": []
    },
    {
      "cell_type": "markdown",
      "source": [
        "Пример очищенного предложения:"
      ],
      "metadata": {
        "id": "XSfIAxi3-6b5"
      }
    },
    {
      "cell_type": "code",
      "source": [
        "print('Было:\\n', vid_train.OriginalTweet.iloc[5])\n",
        "print('_'*50)\n",
        "print('Стало:\\n', vid_train.CleanTweet.iloc[5])"
      ],
      "metadata": {
        "colab": {
          "base_uri": "https://localhost:8080/"
        },
        "id": "q-MLSrEf6Tgp",
        "outputId": "e79aabf6-49e8-47fd-a04c-fee5b34f1347"
      },
      "execution_count": 56,
      "outputs": [
        {
          "output_type": "stream",
          "name": "stdout",
          "text": [
            "Было:\n",
            " As news of the regionÂs first confirmed COVID-19 case came out of Sullivan County last week, people flocked to area stores to purchase cleaning supplies, hand sanitizer, food, toilet paper and other goods, @Tim_Dodson reports https://t.co/cfXch7a2lU\n",
            "__________________________________________________\n",
            "Стало:\n",
            " As news of the regions first confirmed COVID-19 case came out of Sullivan County last week, people flocked to area stores to purchase cleaning supplies, hand sanitizer, food, toilet paper and other goods, @Tim_Dodson reports\n"
          ]
        }
      ]
    },
    {
      "cell_type": "code",
      "source": [
        "vid_test['CleanTweet']= vid_test['OriginalTweet'].apply(lambda x: clean_tweet(x))"
      ],
      "metadata": {
        "id": "BySV2liODJzv"
      },
      "execution_count": 57,
      "outputs": []
    },
    {
      "cell_type": "markdown",
      "source": [
        "Лемматизируем твиты и удалим стоп-слова с помощью библиотеки nltk"
      ],
      "metadata": {
        "id": "UblYAcpA_NwV"
      }
    },
    {
      "cell_type": "code",
      "source": [
        "stop_words = stopwords.words(\"english\")\n",
        "lemmatizer = WordNetLemmatizer()"
      ],
      "metadata": {
        "id": "pEsyhSr1GsoI"
      },
      "execution_count": 58,
      "outputs": []
    },
    {
      "cell_type": "code",
      "source": [
        "def basic_preprocess(tweet):\n",
        "    tokens = word_tokenize(tweet)\n",
        "    \n",
        "    preprocessed = []\n",
        "    for tok in tokens:\n",
        "        lemma = lemmatizer.lemmatize(tok).lower()\n",
        "        if lemma not in stop_words and not bool(re.match(f'^[\\d{string.punctuation}]+$', lemma)):\n",
        "            preprocessed.append(lemma)\n",
        "    return ' '.join(preprocessed)\n",
        "\n",
        "vid_train['LemTweet']= vid_train['CleanTweet'].apply(lambda x: basic_preprocess(x))    \n",
        "vid_test['LemTweet']= vid_test['CleanTweet'].apply(lambda x: basic_preprocess(x))"
      ],
      "metadata": {
        "id": "9PhGUgHGQyc2"
      },
      "execution_count": 59,
      "outputs": []
    },
    {
      "cell_type": "markdown",
      "source": [
        "Пример очищенного предложения"
      ],
      "metadata": {
        "id": "ZMWtrs_Ydlrf"
      }
    },
    {
      "cell_type": "code",
      "source": [
        "vid_train.LemTweet.iloc[5]"
      ],
      "metadata": {
        "colab": {
          "base_uri": "https://localhost:8080/",
          "height": 35
        },
        "id": "xnrpY1ZsT-o1",
        "outputId": "067e3cc7-c38c-4791-cb85-9d3ac155e483"
      },
      "execution_count": 60,
      "outputs": [
        {
          "output_type": "execute_result",
          "data": {
            "text/plain": [
              "'news region first confirmed covid-19 case came sullivan county last week people flocked area store purchase cleaning supply hand sanitizer food toilet paper good tim_dodson report'"
            ],
            "application/vnd.google.colaboratory.intrinsic+json": {
              "type": "string"
            }
          },
          "metadata": {},
          "execution_count": 60
        }
      ]
    },
    {
      "cell_type": "code",
      "source": [
        "print(vid_train.shape, vid_test.shape)"
      ],
      "metadata": {
        "colab": {
          "base_uri": "https://localhost:8080/"
        },
        "id": "XfCSLJkbvPGM",
        "outputId": "8995486e-160d-4d0a-f9c9-4a4044d612a0"
      },
      "execution_count": 61,
      "outputs": [
        {
          "output_type": "stream",
          "name": "stdout",
          "text": [
            "(41157, 8) (3798, 8)\n"
          ]
        }
      ]
    },
    {
      "cell_type": "markdown",
      "source": [
        "Перед обучением удалим дубли твитов и образовавшиеся пустые строки."
      ],
      "metadata": {
        "id": "T3Ejt2fv_vW2"
      }
    },
    {
      "cell_type": "code",
      "source": [
        "vid_train = vid_train.drop_duplicates(subset=['LemTweet'])\n",
        "vid_train = vid_train[vid_train.LemTweet != '']\n",
        "vid_test = vid_test.drop_duplicates(subset=['LemTweet'])\n",
        "vid_test = vid_test[vid_test.LemTweet != '']"
      ],
      "metadata": {
        "id": "qoHsFsAzvLaZ"
      },
      "execution_count": 62,
      "outputs": []
    },
    {
      "cell_type": "code",
      "source": [
        "print(vid_train.shape, vid_test.shape)"
      ],
      "metadata": {
        "colab": {
          "base_uri": "https://localhost:8080/"
        },
        "id": "uqnR5uWHvNCX",
        "outputId": "9730a051-184a-4465-9cc5-4e479d9782db"
      },
      "execution_count": 63,
      "outputs": [
        {
          "output_type": "stream",
          "name": "stdout",
          "text": [
            "(40983, 8) (3789, 8)\n"
          ]
        }
      ]
    },
    {
      "cell_type": "markdown",
      "source": [
        "### Basic ML"
      ],
      "metadata": {
        "id": "IY9x3Ltd_uUD"
      }
    },
    {
      "cell_type": "markdown",
      "source": [
        "Для базовых ML алгоритмов используем TF*IDF с ограничением словаря до 5к токенов."
      ],
      "metadata": {
        "id": "3mKO_K02_5BU"
      }
    },
    {
      "cell_type": "code",
      "source": [
        "label_enc = LabelEncoder()\n",
        "\n",
        "y_train = label_enc.fit_transform(vid_train[\"Sentiment\"])\n",
        "y_test  = label_enc.transform(vid_test[\"Sentiment\"])"
      ],
      "metadata": {
        "id": "lrgFipy6V77U"
      },
      "execution_count": 64,
      "outputs": []
    },
    {
      "cell_type": "code",
      "source": [
        "for i in label_enc.classes_:\n",
        "    print(i, ':', label_enc.transform([i]))"
      ],
      "metadata": {
        "colab": {
          "base_uri": "https://localhost:8080/"
        },
        "id": "I3kaR_SWHO_k",
        "outputId": "6d7a2ead-f7b0-498e-843a-3a68e3faf5ed"
      },
      "execution_count": 65,
      "outputs": [
        {
          "output_type": "stream",
          "name": "stdout",
          "text": [
            "Extremely Negative : [0]\n",
            "Extremely Positive : [1]\n",
            "Negative : [2]\n",
            "Neutral : [3]\n",
            "Positive : [4]\n"
          ]
        }
      ]
    },
    {
      "cell_type": "code",
      "source": [
        "tfidf_enc = TfidfVectorizer(max_features=5000)\n",
        "X_train = tfidf_enc.fit_transform(vid_train['LemTweet'])\n",
        "X_test = tfidf_enc.transform(vid_test['LemTweet'])"
      ],
      "metadata": {
        "id": "3Txpnu1FHrrq"
      },
      "execution_count": 66,
      "outputs": []
    },
    {
      "cell_type": "markdown",
      "source": [
        "#### Logistic Regression"
      ],
      "metadata": {
        "id": "qPyHb6fOCR5h"
      }
    },
    {
      "cell_type": "markdown",
      "source": [
        "В качестве бейзлайна посмотрим качество при применении логистической регрессии."
      ],
      "metadata": {
        "id": "XqSY6HVieCpb"
      }
    },
    {
      "cell_type": "code",
      "source": [
        "def print_results(preds):\n",
        "    y_train, y_pred_train, y_test, y_pred_test = preds\n",
        "\n",
        "    val_f1 = f1_score(y_test, y_pred_test, average='weighted')\n",
        "    val_precision = precision_score(y_test, y_pred_test, average='weighted')\n",
        "    val_recall = recall_score(y_test, y_pred_test, average='weighted')\n",
        "    train_f1 = f1_score(y_train, y_pred_train, average='weighted')\n",
        "\n",
        "    print(\"TRAIN F1: {0:.3f}\".format(train_f1))\n",
        "    print('_____________________________________________________')\n",
        "\n",
        "    print(\"Validation F1: {0:.3f}\".format(val_f1))\n",
        "    print(\"Validation Precision: {0:.3f}\".format(val_precision))\n",
        "    print(\"Validation Recall: {0:.3f}\".format(val_recall))\n",
        "    print('_____________________________________________________')\n",
        "\n",
        "    print(classification_report(y_test, y_pred_test))"
      ],
      "metadata": {
        "id": "kaWZPUY0iAJB"
      },
      "execution_count": null,
      "outputs": []
    },
    {
      "cell_type": "code",
      "source": [
        "classifier = LogisticRegression(penalty='elasticnet', solver='saga', l1_ratio=1.0, max_iter=1000, random_state=42)\n",
        "classifier.fit(X_train, y_train)\n",
        "\n",
        "train_predict = classifier.predict(X_train)\n",
        "test_predict = classifier.predict(X_test)\n",
        "\n",
        "print_results([y_train, train_predict, y_test, test_predict])"
      ],
      "metadata": {
        "colab": {
          "base_uri": "https://localhost:8080/"
        },
        "id": "D7Zgp_sKWena",
        "outputId": "80d9362f-b599-4b34-e330-23c62f29fba4"
      },
      "execution_count": null,
      "outputs": [
        {
          "output_type": "stream",
          "name": "stdout",
          "text": [
            "TRAIN F1: 0.726\n",
            "_____________________________________________________\n",
            "Validation F1: 0.622\n",
            "Validation Precision: 0.630\n",
            "Validation Recall: 0.623\n",
            "_____________________________________________________\n",
            "              precision    recall  f1-score   support\n",
            "\n",
            "           0       0.68      0.52      0.59       591\n",
            "           1       0.76      0.62      0.68       599\n",
            "           2       0.56      0.55      0.56      1038\n",
            "           3       0.65      0.77      0.71       615\n",
            "           4       0.57      0.67      0.62       946\n",
            "\n",
            "    accuracy                           0.62      3789\n",
            "   macro avg       0.65      0.63      0.63      3789\n",
            "weighted avg       0.63      0.62      0.62      3789\n",
            "\n"
          ]
        }
      ]
    },
    {
      "cell_type": "markdown",
      "source": [
        "[0] Extremely Negative\n",
        "\n",
        "[1] Extremely Positive\n",
        "\n",
        "[2] Negative\n",
        "\n",
        "[3] Neutral\n",
        "\n",
        "[4] Positive\n",
        "_______________________\n",
        "Логистическая регрессия с подобранными параметрами показывает низкие результаты для негативного (2) и сильно негативного (0) классов.\n",
        "\n",
        "Для оценки качества здесь и далее рассматривается взвешенный F1-score из-за несбалансированности датасета"
      ],
      "metadata": {
        "id": "5ffxHd8hJXbA"
      }
    },
    {
      "cell_type": "markdown",
      "source": [
        "#### SVM"
      ],
      "metadata": {
        "id": "7BNFvVvD_0_N"
      }
    },
    {
      "cell_type": "code",
      "source": [
        "def GridKFold(model, parameters):\n",
        "    kfold = StratifiedKFold(n_splits=3, shuffle=True, random_state=42)\n",
        "\n",
        "    gridSearch = GridSearchCV(model, parameters, scoring='f1_weighted', cv=kfold, verbose=3)\n",
        "    gridSearch.fit(X_train, y_train)\n",
        "    print(\"Best parameters set:\")\n",
        "    best_parameters = gridSearch.best_estimator_.get_params()\n",
        "    for parameterName in sorted(parameters.keys()):\n",
        "        print(\"\\t%s: %r\" % (parameterName, best_parameters[parameterName]))\n",
        "    \n",
        "    y_pred = gridSearch.predict(X_test)\n",
        "    y_train_pred = gridSearch.predict(X_train)\n",
        "\n",
        "    val_f1 = f1_score(y_test, y_pred, average='weighted')\n",
        "    val_precision = precision_score(y_test, y_pred, average='weighted')\n",
        "    val_recall = recall_score(y_test, y_pred, average='weighted')\n",
        "    train_f1 = f1_score(y_train, y_train_pred, average='weighted')\n",
        "\n",
        "\n",
        "    print(\"TRAIN F1: {0:.3f}\".format(train_f1))\n",
        "    print('_____________________________________________________')\n",
        "\n",
        "    print(\"Validation F1: {0:.3f}\".format(val_f1))\n",
        "    print(\"Validation Precision: {0:.3f}\".format(val_precision))\n",
        "    print(\"Validation Recall: {0:.3f}\".format(val_recall))\n",
        "    print('_____________________________________________________')\n",
        "\n",
        "    print(classification_report(y_test, y_pred))"
      ],
      "metadata": {
        "id": "08zj2vkonTVR"
      },
      "execution_count": null,
      "outputs": []
    },
    {
      "cell_type": "code",
      "source": [
        "svc_clf = SVC()\n",
        "svc_params = {'kernel':['linear', 'poly', 'rbf', 'sigmoid'],\n",
        "              'C': [0.1, 0.5, 1.0, 1.5, 2.0]}\n",
        "GridKFold(svc_clf, svc_params)"
      ],
      "metadata": {
        "colab": {
          "base_uri": "https://localhost:8080/"
        },
        "id": "crpgmlx1FJxj",
        "outputId": "04296e38-7215-45a6-dd18-a373f993a7a5"
      },
      "execution_count": null,
      "outputs": [
        {
          "output_type": "stream",
          "name": "stdout",
          "text": [
            "Best parameters set:\n",
            "\tSVC__C: 2.0\n",
            "\tSVC__kernel: 'linear'\n",
            "TRAIN F1: 0.802\n",
            "_____________________________________________________\n",
            "Validation F1: 0.623\n",
            "Validation Precision: 0.628\n",
            "Validation Recall: 0.623\n",
            "_____________________________________________________\n",
            "              precision    recall  f1-score   support\n",
            "\n",
            "           0       0.65      0.55      0.60       591\n",
            "           1       0.72      0.61      0.66       599\n",
            "           2       0.56      0.57      0.57      1038\n",
            "           3       0.71      0.72      0.71       615\n",
            "           4       0.57      0.67      0.62       946\n",
            "\n",
            "    accuracy                           0.62      3789\n",
            "   macro avg       0.64      0.62      0.63      3789\n",
            "weighted avg       0.63      0.62      0.62      3789\n",
            "\n"
          ]
        }
      ]
    },
    {
      "cell_type": "markdown",
      "source": [
        "[0] Extremely Negative\n",
        "\n",
        "[1] Extremely Positive\n",
        "\n",
        "[2] Negative\n",
        "\n",
        "[3] Neutral\n",
        "\n",
        "[4] Positive\n",
        "___________________________________\n",
        "Качество SVC приблизительно такое же, как и для лог регрессии - также результаты для негативных классов ниже. Вопреки предположению, что крайние (сильный негатив или позитив) классы будут хуже предсказываться из-за их доли в выборке\n",
        ", оценка и для позитивного, и для негативного классов ниже, чем у классов с более сильной семантикой, что как раз может быть связано с выбранным способом векторизации с помощью TF*IDF - при расчете выявляются тематические слова, которые и могут быть более широко представлены в extreme классах.\n",
        "\n",
        " Можно, однако, отметить чуть большее переобучение (0.726 на трейне в лог.рег и 0.802 для линейного svm)"
      ],
      "metadata": {
        "id": "GhF-p4UYJ41j"
      }
    },
    {
      "cell_type": "markdown",
      "source": [
        "### Basic NN"
      ],
      "metadata": {
        "id": "FHZMSQZzy-L7"
      }
    },
    {
      "cell_type": "markdown",
      "source": [
        "В качестве нейронных сетей рассмотрим сетки с двунаправленным lstm и со сверточным слоем. Кодироваться последовательности будут с помощью слоя Embedding с рандомной инициализацией."
      ],
      "metadata": {
        "id": "0XESYSb2mjuM"
      }
    },
    {
      "cell_type": "code",
      "source": [
        "tokenizer = Tokenizer(num_words=5000)\n",
        "tokenizer.fit_on_texts(vid_train['LemTweet'].values)\n",
        "wordIndex = len(tokenizer.word_index) + 1\n",
        "print('Found %s unique tokens.' % (wordIndex))"
      ],
      "metadata": {
        "colab": {
          "base_uri": "https://localhost:8080/"
        },
        "id": "kf4cJFtkXilU",
        "outputId": "93213e78-b8ac-4e5b-8705-a20f2f9fddd5"
      },
      "execution_count": null,
      "outputs": [
        {
          "output_type": "stream",
          "name": "stdout",
          "text": [
            "Found 53102 unique tokens.\n"
          ]
        }
      ]
    },
    {
      "cell_type": "markdown",
      "source": [
        "Преобразуем данные для сеток, максимальная длина последовательности - 40, как определили по среднему всех длин твитов."
      ],
      "metadata": {
        "id": "ikHM3YLVnwtA"
      }
    },
    {
      "cell_type": "code",
      "source": [
        "X_train = tokenizer.texts_to_sequences(vid_train['LemTweet'].values)\n",
        "X_train = pad_sequences(X_train, maxlen=40)\n",
        "\n",
        "X_test = tokenizer.texts_to_sequences(vid_test['LemTweet'].values)\n",
        "X_test = pad_sequences(X_test, maxlen=40)"
      ],
      "metadata": {
        "id": "aem0ohL1X0jR"
      },
      "execution_count": null,
      "outputs": []
    },
    {
      "cell_type": "code",
      "source": [
        "X_train.shape, X_test.shape"
      ],
      "metadata": {
        "colab": {
          "base_uri": "https://localhost:8080/"
        },
        "id": "mrMPzl3YYECQ",
        "outputId": "7d45ff2b-061f-489d-9a42-01515c780b86"
      },
      "execution_count": null,
      "outputs": [
        {
          "output_type": "execute_result",
          "data": {
            "text/plain": [
              "((40983, 40), (3789, 40))"
            ]
          },
          "metadata": {},
          "execution_count": 90
        }
      ]
    },
    {
      "cell_type": "code",
      "source": [
        "y_train = to_categorical(y_train)\n",
        "y_test = to_categorical(y_test)"
      ],
      "metadata": {
        "id": "BCz6yjLHYHzx"
      },
      "execution_count": null,
      "outputs": []
    },
    {
      "cell_type": "markdown",
      "source": [
        "#### Random init weights BiLSTM\n",
        "\n",
        "Используем двунаправленный рекуррентный слой. Рекуррентность - для лучшего запоминания контекста. Был выбран LSTM вариант из-за механизма гейтов для фильтрации информации. Также будем использовать двунаправленный LSTM - таким образом будем лучше захватывать контекст и слева, и справа."
      ],
      "metadata": {
        "id": "F20g78wh0T8G"
      }
    },
    {
      "cell_type": "code",
      "source": [
        "model= models.Sequential()\n",
        "model.add(layers.Embedding(wordIndex, 128, input_length=40))\n",
        "model.add(layers.Bidirectional((layers.LSTM(512))))\n",
        "model.add(Dropout(0.1))\n",
        "model.add(layers.Dense(5, activation='sigmoid'))"
      ],
      "metadata": {
        "id": "4OSdqIM25k8A"
      },
      "execution_count": null,
      "outputs": []
    },
    {
      "cell_type": "code",
      "source": [
        "model.summary()"
      ],
      "metadata": {
        "colab": {
          "base_uri": "https://localhost:8080/"
        },
        "outputId": "95e29728-b510-4081-9298-b2ef30d65092",
        "id": "uWF0YeWg5k8D"
      },
      "execution_count": null,
      "outputs": [
        {
          "output_type": "stream",
          "name": "stdout",
          "text": [
            "Model: \"sequential_14\"\n",
            "_________________________________________________________________\n",
            " Layer (type)                Output Shape              Param #   \n",
            "=================================================================\n",
            " embedding_14 (Embedding)    (None, 40, 128)           6797056   \n",
            "                                                                 \n",
            " bidirectional_2 (Bidirectio  (None, 1024)             2625536   \n",
            " nal)                                                            \n",
            "                                                                 \n",
            " dropout_13 (Dropout)        (None, 1024)              0         \n",
            "                                                                 \n",
            " dense_13 (Dense)            (None, 5)                 5125      \n",
            "                                                                 \n",
            "=================================================================\n",
            "Total params: 9,427,717\n",
            "Trainable params: 9,427,717\n",
            "Non-trainable params: 0\n",
            "_________________________________________________________________\n"
          ]
        }
      ]
    },
    {
      "cell_type": "code",
      "source": [
        "metric = tfa.metrics.FBetaScore(num_classes=5, beta=2.0, threshold=0.5)"
      ],
      "metadata": {
        "id": "ZdUEWUva5k8E"
      },
      "execution_count": null,
      "outputs": []
    },
    {
      "cell_type": "code",
      "source": [
        "model.compile(loss='categorical_crossentropy', optimizer=keras.optimizers.Adam(learning_rate=1e-05),\n",
        "              metrics=[metric])"
      ],
      "metadata": {
        "id": "H2KoT87j5k8F"
      },
      "execution_count": null,
      "outputs": []
    },
    {
      "cell_type": "code",
      "source": [
        "history = model.fit(X_train ,y_train, batch_size=250, epochs=100, validation_split=0.2,)"
      ],
      "metadata": {
        "colab": {
          "base_uri": "https://localhost:8080/"
        },
        "outputId": "1227fbd8-914f-439f-f786-f2cb97f3bd8e",
        "id": "CUeJS0Ot5k8I"
      },
      "execution_count": null,
      "outputs": [
        {
          "output_type": "stream",
          "name": "stdout",
          "text": [
            "Epoch 1/100\n",
            "132/132 [==============================] - 15s 83ms/step - loss: 1.5907 - fbeta_score: 0.3624 - val_loss: 1.5642 - val_fbeta_score: 0.3632\n",
            "Epoch 2/100\n",
            "132/132 [==============================] - 10s 73ms/step - loss: 1.5547 - fbeta_score: 0.3647 - val_loss: 1.5303 - val_fbeta_score: 0.3729\n",
            "Epoch 3/100\n",
            "132/132 [==============================] - 10s 73ms/step - loss: 1.5205 - fbeta_score: 0.4774 - val_loss: 1.5091 - val_fbeta_score: 0.5035\n",
            "Epoch 4/100\n",
            "132/132 [==============================] - 9s 68ms/step - loss: 1.5140 - fbeta_score: 0.5077 - val_loss: 1.5088 - val_fbeta_score: 0.4885\n",
            "Epoch 5/100\n",
            "132/132 [==============================] - 9s 66ms/step - loss: 1.5111 - fbeta_score: 0.5067 - val_loss: 1.5054 - val_fbeta_score: 0.5083\n",
            "Epoch 6/100\n",
            "132/132 [==============================] - 9s 66ms/step - loss: 1.5091 - fbeta_score: 0.5079 - val_loss: 1.5027 - val_fbeta_score: 0.5076\n",
            "Epoch 7/100\n",
            "132/132 [==============================] - 9s 66ms/step - loss: 1.5071 - fbeta_score: 0.5076 - val_loss: 1.4988 - val_fbeta_score: 0.5000\n",
            "Epoch 8/100\n",
            "132/132 [==============================] - 9s 66ms/step - loss: 1.5041 - fbeta_score: 0.5128 - val_loss: 1.4983 - val_fbeta_score: 0.5107\n",
            "Epoch 9/100\n",
            "132/132 [==============================] - 9s 66ms/step - loss: 1.5020 - fbeta_score: 0.5197 - val_loss: 1.4970 - val_fbeta_score: 0.5122\n",
            "Epoch 10/100\n",
            "132/132 [==============================] - 9s 68ms/step - loss: 1.4988 - fbeta_score: 0.5179 - val_loss: 1.4925 - val_fbeta_score: 0.5063\n",
            "Epoch 11/100\n",
            "132/132 [==============================] - 9s 66ms/step - loss: 1.4946 - fbeta_score: 0.5238 - val_loss: 1.4888 - val_fbeta_score: 0.5201\n",
            "Epoch 12/100\n",
            "132/132 [==============================] - 9s 66ms/step - loss: 1.4907 - fbeta_score: 0.5289 - val_loss: 1.4842 - val_fbeta_score: 0.5181\n",
            "Epoch 13/100\n",
            "132/132 [==============================] - 9s 66ms/step - loss: 1.4859 - fbeta_score: 0.5325 - val_loss: 1.4792 - val_fbeta_score: 0.5296\n",
            "Epoch 14/100\n",
            "132/132 [==============================] - 9s 66ms/step - loss: 1.4800 - fbeta_score: 0.5371 - val_loss: 1.4740 - val_fbeta_score: 0.5364\n",
            "Epoch 15/100\n",
            "132/132 [==============================] - 9s 66ms/step - loss: 1.4726 - fbeta_score: 0.5467 - val_loss: 1.4637 - val_fbeta_score: 0.5287\n",
            "Epoch 16/100\n",
            "132/132 [==============================] - 9s 66ms/step - loss: 1.4635 - fbeta_score: 0.5481 - val_loss: 1.4560 - val_fbeta_score: 0.5474\n",
            "Epoch 17/100\n",
            "132/132 [==============================] - 9s 66ms/step - loss: 1.4520 - fbeta_score: 0.5567 - val_loss: 1.4426 - val_fbeta_score: 0.5417\n",
            "Epoch 18/100\n",
            "132/132 [==============================] - 9s 66ms/step - loss: 1.4379 - fbeta_score: 0.5628 - val_loss: 1.4281 - val_fbeta_score: 0.5539\n",
            "Epoch 19/100\n",
            "132/132 [==============================] - 9s 66ms/step - loss: 1.4182 - fbeta_score: 0.5754 - val_loss: 1.4104 - val_fbeta_score: 0.5704\n",
            "Epoch 20/100\n",
            "132/132 [==============================] - 9s 66ms/step - loss: 1.3985 - fbeta_score: 0.5825 - val_loss: 1.3973 - val_fbeta_score: 0.5758\n",
            "Epoch 21/100\n",
            "132/132 [==============================] - 9s 66ms/step - loss: 1.3833 - fbeta_score: 0.5902 - val_loss: 1.3726 - val_fbeta_score: 0.5746\n",
            "Epoch 22/100\n",
            "132/132 [==============================] - 9s 66ms/step - loss: 1.3268 - fbeta_score: 0.6117 - val_loss: 1.3112 - val_fbeta_score: 0.6109\n",
            "Epoch 23/100\n",
            "132/132 [==============================] - 9s 66ms/step - loss: 1.2638 - fbeta_score: 0.6363 - val_loss: 1.2632 - val_fbeta_score: 0.6264\n",
            "Epoch 24/100\n",
            "132/132 [==============================] - 9s 66ms/step - loss: 1.2041 - fbeta_score: 0.6482 - val_loss: 1.2226 - val_fbeta_score: 0.6428\n",
            "Epoch 25/100\n",
            "132/132 [==============================] - 9s 66ms/step - loss: 1.1484 - fbeta_score: 0.6624 - val_loss: 1.1922 - val_fbeta_score: 0.6475\n",
            "Epoch 26/100\n",
            "132/132 [==============================] - 9s 66ms/step - loss: 1.1004 - fbeta_score: 0.6737 - val_loss: 1.1463 - val_fbeta_score: 0.6610\n",
            "Epoch 27/100\n",
            "132/132 [==============================] - 9s 66ms/step - loss: 1.0596 - fbeta_score: 0.6826 - val_loss: 1.1027 - val_fbeta_score: 0.6705\n",
            "Epoch 28/100\n",
            "132/132 [==============================] - 9s 66ms/step - loss: 1.0258 - fbeta_score: 0.6897 - val_loss: 1.0813 - val_fbeta_score: 0.6775\n",
            "Epoch 29/100\n",
            "132/132 [==============================] - 9s 66ms/step - loss: 0.9948 - fbeta_score: 0.6963 - val_loss: 1.0564 - val_fbeta_score: 0.6824\n",
            "Epoch 30/100\n",
            "132/132 [==============================] - 9s 66ms/step - loss: 0.9675 - fbeta_score: 0.7014 - val_loss: 1.0519 - val_fbeta_score: 0.6868\n",
            "Epoch 31/100\n",
            "132/132 [==============================] - 9s 66ms/step - loss: 0.9441 - fbeta_score: 0.7059 - val_loss: 1.0293 - val_fbeta_score: 0.6882\n",
            "Epoch 32/100\n",
            "132/132 [==============================] - 9s 66ms/step - loss: 0.9213 - fbeta_score: 0.7093 - val_loss: 1.0044 - val_fbeta_score: 0.6945\n",
            "Epoch 33/100\n",
            "132/132 [==============================] - 9s 66ms/step - loss: 0.8975 - fbeta_score: 0.7137 - val_loss: 1.0043 - val_fbeta_score: 0.6966\n",
            "Epoch 34/100\n",
            "132/132 [==============================] - 9s 66ms/step - loss: 0.8772 - fbeta_score: 0.7166 - val_loss: 0.9726 - val_fbeta_score: 0.7029\n",
            "Epoch 35/100\n",
            "132/132 [==============================] - 9s 66ms/step - loss: 0.8582 - fbeta_score: 0.7189 - val_loss: 0.9686 - val_fbeta_score: 0.7078\n",
            "Epoch 36/100\n",
            "132/132 [==============================] - 9s 66ms/step - loss: 0.8387 - fbeta_score: 0.7229 - val_loss: 0.9404 - val_fbeta_score: 0.7060\n",
            "Epoch 37/100\n",
            "132/132 [==============================] - 9s 66ms/step - loss: 0.8220 - fbeta_score: 0.7239 - val_loss: 0.9301 - val_fbeta_score: 0.7074\n",
            "Epoch 38/100\n",
            "132/132 [==============================] - 9s 66ms/step - loss: 0.8041 - fbeta_score: 0.7262 - val_loss: 0.9212 - val_fbeta_score: 0.7101\n",
            "Epoch 39/100\n",
            "132/132 [==============================] - 9s 66ms/step - loss: 0.7925 - fbeta_score: 0.7261 - val_loss: 0.9191 - val_fbeta_score: 0.7102\n",
            "Epoch 40/100\n",
            "132/132 [==============================] - 9s 66ms/step - loss: 0.7841 - fbeta_score: 0.7269 - val_loss: 0.9032 - val_fbeta_score: 0.7112\n",
            "Epoch 41/100\n",
            "132/132 [==============================] - 9s 66ms/step - loss: 0.7714 - fbeta_score: 0.7293 - val_loss: 0.9101 - val_fbeta_score: 0.7096\n",
            "Epoch 42/100\n",
            "132/132 [==============================] - 9s 66ms/step - loss: 0.7635 - fbeta_score: 0.7289 - val_loss: 0.9035 - val_fbeta_score: 0.7090\n",
            "Epoch 43/100\n",
            "132/132 [==============================] - 9s 66ms/step - loss: 0.7585 - fbeta_score: 0.7291 - val_loss: 0.8984 - val_fbeta_score: 0.7109\n",
            "Epoch 44/100\n",
            "132/132 [==============================] - 9s 66ms/step - loss: 0.7494 - fbeta_score: 0.7297 - val_loss: 0.8969 - val_fbeta_score: 0.7104\n",
            "Epoch 45/100\n",
            "132/132 [==============================] - 9s 66ms/step - loss: 0.7403 - fbeta_score: 0.7293 - val_loss: 0.8835 - val_fbeta_score: 0.7149\n",
            "Epoch 46/100\n",
            "132/132 [==============================] - 9s 66ms/step - loss: 0.7348 - fbeta_score: 0.7312 - val_loss: 0.8830 - val_fbeta_score: 0.7148\n",
            "Epoch 47/100\n",
            "132/132 [==============================] - 9s 66ms/step - loss: 0.7284 - fbeta_score: 0.7300 - val_loss: 0.9462 - val_fbeta_score: 0.7061\n",
            "Epoch 48/100\n",
            "132/132 [==============================] - 9s 66ms/step - loss: 0.7240 - fbeta_score: 0.7303 - val_loss: 0.8817 - val_fbeta_score: 0.7124\n",
            "Epoch 49/100\n",
            "132/132 [==============================] - 9s 66ms/step - loss: 0.7178 - fbeta_score: 0.7307 - val_loss: 0.8755 - val_fbeta_score: 0.7131\n",
            "Epoch 50/100\n",
            "132/132 [==============================] - 9s 66ms/step - loss: 0.7162 - fbeta_score: 0.7309 - val_loss: 0.8696 - val_fbeta_score: 0.7140\n",
            "Epoch 51/100\n",
            "132/132 [==============================] - 9s 66ms/step - loss: 0.7112 - fbeta_score: 0.7319 - val_loss: 0.8787 - val_fbeta_score: 0.7144\n",
            "Epoch 52/100\n",
            "132/132 [==============================] - 9s 66ms/step - loss: 0.7029 - fbeta_score: 0.7312 - val_loss: 0.8770 - val_fbeta_score: 0.7118\n",
            "Epoch 53/100\n",
            "132/132 [==============================] - 9s 66ms/step - loss: 0.7026 - fbeta_score: 0.7312 - val_loss: 0.8808 - val_fbeta_score: 0.7155\n",
            "Epoch 54/100\n",
            "132/132 [==============================] - 9s 66ms/step - loss: 0.6961 - fbeta_score: 0.7322 - val_loss: 0.8700 - val_fbeta_score: 0.7143\n",
            "Epoch 55/100\n",
            "132/132 [==============================] - 9s 67ms/step - loss: 0.6947 - fbeta_score: 0.7316 - val_loss: 0.8680 - val_fbeta_score: 0.7146\n",
            "Epoch 56/100\n",
            "132/132 [==============================] - 9s 66ms/step - loss: 0.6894 - fbeta_score: 0.7316 - val_loss: 0.8672 - val_fbeta_score: 0.7150\n",
            "Epoch 57/100\n",
            "132/132 [==============================] - 9s 66ms/step - loss: 0.6891 - fbeta_score: 0.7322 - val_loss: 0.8591 - val_fbeta_score: 0.7142\n",
            "Epoch 58/100\n",
            "132/132 [==============================] - 9s 66ms/step - loss: 0.6863 - fbeta_score: 0.7317 - val_loss: 0.8731 - val_fbeta_score: 0.7153\n",
            "Epoch 59/100\n",
            "132/132 [==============================] - 9s 66ms/step - loss: 0.6812 - fbeta_score: 0.7319 - val_loss: 0.8716 - val_fbeta_score: 0.7174\n",
            "Epoch 60/100\n",
            "132/132 [==============================] - 9s 66ms/step - loss: 0.6764 - fbeta_score: 0.7315 - val_loss: 0.8734 - val_fbeta_score: 0.7145\n",
            "Epoch 61/100\n",
            "132/132 [==============================] - 9s 66ms/step - loss: 0.6741 - fbeta_score: 0.7319 - val_loss: 0.8573 - val_fbeta_score: 0.7163\n",
            "Epoch 62/100\n",
            "132/132 [==============================] - 9s 66ms/step - loss: 0.6751 - fbeta_score: 0.7323 - val_loss: 0.8552 - val_fbeta_score: 0.7141\n",
            "Epoch 63/100\n",
            "132/132 [==============================] - 9s 66ms/step - loss: 0.6692 - fbeta_score: 0.7322 - val_loss: 0.8715 - val_fbeta_score: 0.7134\n",
            "Epoch 64/100\n",
            "132/132 [==============================] - 9s 66ms/step - loss: 0.6683 - fbeta_score: 0.7318 - val_loss: 0.8677 - val_fbeta_score: 0.7132\n",
            "Epoch 65/100\n",
            "132/132 [==============================] - 9s 66ms/step - loss: 0.6651 - fbeta_score: 0.7319 - val_loss: 0.8694 - val_fbeta_score: 0.7124\n",
            "Epoch 66/100\n",
            "132/132 [==============================] - 9s 66ms/step - loss: 0.6681 - fbeta_score: 0.7320 - val_loss: 0.8646 - val_fbeta_score: 0.7163\n",
            "Epoch 67/100\n",
            "132/132 [==============================] - 9s 66ms/step - loss: 0.6599 - fbeta_score: 0.7316 - val_loss: 0.8588 - val_fbeta_score: 0.7116\n",
            "Epoch 68/100\n",
            "132/132 [==============================] - 9s 66ms/step - loss: 0.6568 - fbeta_score: 0.7325 - val_loss: 0.8623 - val_fbeta_score: 0.7142\n",
            "Epoch 69/100\n",
            "132/132 [==============================] - 9s 66ms/step - loss: 0.6590 - fbeta_score: 0.7323 - val_loss: 0.8501 - val_fbeta_score: 0.7184\n",
            "Epoch 70/100\n",
            "132/132 [==============================] - 9s 66ms/step - loss: 0.6548 - fbeta_score: 0.7327 - val_loss: 0.8582 - val_fbeta_score: 0.7148\n",
            "Epoch 71/100\n",
            "132/132 [==============================] - 9s 66ms/step - loss: 0.6532 - fbeta_score: 0.7317 - val_loss: 0.8555 - val_fbeta_score: 0.7147\n",
            "Epoch 72/100\n",
            "132/132 [==============================] - 9s 66ms/step - loss: 0.6521 - fbeta_score: 0.7327 - val_loss: 0.8551 - val_fbeta_score: 0.7137\n",
            "Epoch 73/100\n",
            "132/132 [==============================] - 9s 66ms/step - loss: 0.6480 - fbeta_score: 0.7333 - val_loss: 0.8518 - val_fbeta_score: 0.7154\n",
            "Epoch 74/100\n",
            "132/132 [==============================] - 9s 66ms/step - loss: 0.6452 - fbeta_score: 0.7339 - val_loss: 0.8534 - val_fbeta_score: 0.7165\n",
            "Epoch 75/100\n",
            "132/132 [==============================] - 9s 66ms/step - loss: 0.6471 - fbeta_score: 0.7336 - val_loss: 0.8544 - val_fbeta_score: 0.7152\n",
            "Epoch 76/100\n",
            "132/132 [==============================] - 9s 71ms/step - loss: 0.6447 - fbeta_score: 0.7333 - val_loss: 0.8754 - val_fbeta_score: 0.7135\n",
            "Epoch 77/100\n",
            "132/132 [==============================] - 9s 66ms/step - loss: 0.6447 - fbeta_score: 0.7341 - val_loss: 0.8511 - val_fbeta_score: 0.7160\n",
            "Epoch 78/100\n",
            "132/132 [==============================] - 9s 66ms/step - loss: 0.6370 - fbeta_score: 0.7341 - val_loss: 0.8594 - val_fbeta_score: 0.7163\n",
            "Epoch 79/100\n",
            "132/132 [==============================] - 9s 66ms/step - loss: 0.6392 - fbeta_score: 0.7345 - val_loss: 0.8585 - val_fbeta_score: 0.7139\n",
            "Epoch 80/100\n",
            "132/132 [==============================] - 9s 66ms/step - loss: 0.6410 - fbeta_score: 0.7346 - val_loss: 0.8527 - val_fbeta_score: 0.7162\n",
            "Epoch 81/100\n",
            "132/132 [==============================] - 9s 66ms/step - loss: 0.6330 - fbeta_score: 0.7355 - val_loss: 0.8549 - val_fbeta_score: 0.7163\n",
            "Epoch 82/100\n",
            "132/132 [==============================] - 9s 67ms/step - loss: 0.6334 - fbeta_score: 0.7348 - val_loss: 0.8568 - val_fbeta_score: 0.7160\n",
            "Epoch 83/100\n",
            "132/132 [==============================] - 9s 66ms/step - loss: 0.6303 - fbeta_score: 0.7357 - val_loss: 0.8760 - val_fbeta_score: 0.7138\n",
            "Epoch 84/100\n",
            "132/132 [==============================] - 9s 66ms/step - loss: 0.6289 - fbeta_score: 0.7364 - val_loss: 0.8865 - val_fbeta_score: 0.7138\n",
            "Epoch 85/100\n",
            "132/132 [==============================] - 9s 66ms/step - loss: 0.6266 - fbeta_score: 0.7364 - val_loss: 0.8577 - val_fbeta_score: 0.7184\n",
            "Epoch 86/100\n",
            "132/132 [==============================] - 9s 66ms/step - loss: 0.6253 - fbeta_score: 0.7366 - val_loss: 0.8657 - val_fbeta_score: 0.7169\n",
            "Epoch 87/100\n",
            "132/132 [==============================] - 9s 66ms/step - loss: 0.6241 - fbeta_score: 0.7363 - val_loss: 0.8540 - val_fbeta_score: 0.7166\n",
            "Epoch 88/100\n",
            "132/132 [==============================] - 9s 66ms/step - loss: 0.6231 - fbeta_score: 0.7362 - val_loss: 0.8731 - val_fbeta_score: 0.7153\n",
            "Epoch 89/100\n",
            "132/132 [==============================] - 9s 66ms/step - loss: 0.6210 - fbeta_score: 0.7371 - val_loss: 0.8682 - val_fbeta_score: 0.7167\n",
            "Epoch 90/100\n",
            "132/132 [==============================] - 9s 66ms/step - loss: 0.6247 - fbeta_score: 0.7365 - val_loss: 0.8652 - val_fbeta_score: 0.7175\n",
            "Epoch 91/100\n",
            "132/132 [==============================] - 9s 66ms/step - loss: 0.6173 - fbeta_score: 0.7374 - val_loss: 0.8636 - val_fbeta_score: 0.7163\n",
            "Epoch 92/100\n",
            "132/132 [==============================] - 9s 66ms/step - loss: 0.6156 - fbeta_score: 0.7384 - val_loss: 0.8756 - val_fbeta_score: 0.7161\n",
            "Epoch 93/100\n",
            "132/132 [==============================] - 9s 66ms/step - loss: 0.6168 - fbeta_score: 0.7379 - val_loss: 0.8684 - val_fbeta_score: 0.7160\n",
            "Epoch 94/100\n",
            "132/132 [==============================] - 9s 66ms/step - loss: 0.6207 - fbeta_score: 0.7383 - val_loss: 0.8649 - val_fbeta_score: 0.7168\n",
            "Epoch 95/100\n",
            "132/132 [==============================] - 9s 66ms/step - loss: 0.6129 - fbeta_score: 0.7383 - val_loss: 0.8987 - val_fbeta_score: 0.7180\n",
            "Epoch 96/100\n",
            "132/132 [==============================] - 9s 66ms/step - loss: 0.6156 - fbeta_score: 0.7384 - val_loss: 0.8687 - val_fbeta_score: 0.7167\n",
            "Epoch 97/100\n",
            "132/132 [==============================] - 9s 66ms/step - loss: 0.6091 - fbeta_score: 0.7386 - val_loss: 0.8757 - val_fbeta_score: 0.7175\n",
            "Epoch 98/100\n",
            "132/132 [==============================] - 9s 66ms/step - loss: 0.6132 - fbeta_score: 0.7387 - val_loss: 0.8755 - val_fbeta_score: 0.7157\n",
            "Epoch 99/100\n",
            "132/132 [==============================] - 9s 66ms/step - loss: 0.6094 - fbeta_score: 0.7392 - val_loss: 0.9004 - val_fbeta_score: 0.7185\n",
            "Epoch 100/100\n",
            "132/132 [==============================] - 9s 66ms/step - loss: 0.6138 - fbeta_score: 0.7394 - val_loss: 0.8961 - val_fbeta_score: 0.7167\n"
          ]
        }
      ]
    },
    {
      "cell_type": "code",
      "source": [
        "y_pred = model.predict(X_test)"
      ],
      "metadata": {
        "colab": {
          "base_uri": "https://localhost:8080/"
        },
        "outputId": "c1a64ea7-0e1c-4fdc-d687-faf1897958f3",
        "id": "KyXXaVyi5k8K"
      },
      "execution_count": null,
      "outputs": [
        {
          "output_type": "stream",
          "name": "stdout",
          "text": [
            "119/119 [==============================] - 2s 5ms/step\n"
          ]
        }
      ]
    },
    {
      "cell_type": "code",
      "source": [
        "print(classification_report(np.argmax(y_test, 1), np.argmax(y_pred, 1), digits=5))"
      ],
      "metadata": {
        "colab": {
          "base_uri": "https://localhost:8080/"
        },
        "outputId": "b13530dc-007e-4910-8e6a-ead4da95f277",
        "id": "J31_b0jD5k8M"
      },
      "execution_count": null,
      "outputs": [
        {
          "output_type": "stream",
          "name": "stdout",
          "text": [
            "              precision    recall  f1-score   support\n",
            "\n",
            "           0    0.75468   0.61421   0.67724       591\n",
            "           1    0.75862   0.73456   0.74640       599\n",
            "           2    0.62279   0.61079   0.61673      1038\n",
            "           3    0.67770   0.63252   0.65433       615\n",
            "           4    0.58803   0.70613   0.64169       946\n",
            "\n",
            "    accuracy                        0.65822      3789\n",
            "   macro avg    0.68036   0.65964   0.66728      3789\n",
            "weighted avg    0.66507   0.65822   0.65900      3789\n",
            "\n"
          ]
        }
      ]
    },
    {
      "cell_type": "markdown",
      "source": [
        "[0] Extremely Negative\n",
        "\n",
        "[1] Extremely Positive\n",
        "\n",
        "[2] Negative\n",
        "\n",
        "[3] Neutral\n",
        "\n",
        "[4] Positive\n",
        "___________________________________\n",
        "Обучив сетку на 100 эпохах получаем взвешенную оценку 0.66, что выше, чем у базовых ML алгоритмов. Однако понижается качество для нейтрального класса (3). Для ML ~0.71, здесь же - 0.65. Лучшее качество получают классы с экстремальным выражением тональности (0, 1). То есть опять же лучше предсказываются предложения со специфической лексикой."
      ],
      "metadata": {
        "id": "DH3zw6DNqUvF"
      }
    },
    {
      "cell_type": "markdown",
      "source": [
        "#### Random init weights CNN\n",
        "\n",
        "Также рассмотрим качество при применении сверточной сети. Будем использовать свертку с размерностью 1 и окном=3. При следующем наборе слоев получено лучшее качество. Эксперименты также проводились с несколькими свертками с разным kernel_size, разным режимом пулинга - average и max. Предполагаем, что при свертке с окном=3 как раз будут выделяться словесные 3-граммы (обычно специфические словосочетания как раз представлены двумя или тремя словами), более всего влияющие на конечное предсказание."
      ],
      "metadata": {
        "id": "qRro9aC7bfoz"
      }
    },
    {
      "cell_type": "code",
      "source": [
        "model= models.Sequential()\n",
        "model.add(layers.Embedding(wordIndex, 128, input_length=40))\n",
        "\n",
        "model.add(layers.Conv1D(filters=512, kernel_size=3, activation='tanh'))\n",
        "model.add(layers.AveragePooling1D(pool_size=2))\n",
        "model.add(layers.Flatten())\n",
        "model.add(Dropout(0.1))\n",
        "model.add(layers.Dense(64, activation='tanh'))\n",
        "\n",
        "model.add(layers.Dense(5, activation='sigmoid'))"
      ],
      "metadata": {
        "id": "jqfy3OkD7zp3"
      },
      "execution_count": null,
      "outputs": []
    },
    {
      "cell_type": "code",
      "source": [
        "model.summary()"
      ],
      "metadata": {
        "colab": {
          "base_uri": "https://localhost:8080/"
        },
        "outputId": "a8c3c09a-fc90-4910-9759-14236e99a83c",
        "id": "cQGRN6sE7zp5"
      },
      "execution_count": null,
      "outputs": [
        {
          "output_type": "stream",
          "name": "stdout",
          "text": [
            "Model: \"sequential_2\"\n",
            "_________________________________________________________________\n",
            " Layer (type)                Output Shape              Param #   \n",
            "=================================================================\n",
            " embedding_2 (Embedding)     (None, 40, 128)           6797056   \n",
            "                                                                 \n",
            " conv1d_2 (Conv1D)           (None, 38, 512)           197120    \n",
            "                                                                 \n",
            " average_pooling1d_2 (Averag  (None, 19, 512)          0         \n",
            " ePooling1D)                                                     \n",
            "                                                                 \n",
            " flatten_1 (Flatten)         (None, 9728)              0         \n",
            "                                                                 \n",
            " dropout_2 (Dropout)         (None, 9728)              0         \n",
            "                                                                 \n",
            " dense_4 (Dense)             (None, 64)                622656    \n",
            "                                                                 \n",
            " dense_5 (Dense)             (None, 5)                 325       \n",
            "                                                                 \n",
            "=================================================================\n",
            "Total params: 7,617,157\n",
            "Trainable params: 7,617,157\n",
            "Non-trainable params: 0\n",
            "_________________________________________________________________\n"
          ]
        }
      ]
    },
    {
      "cell_type": "code",
      "source": [
        "metric = tfa.metrics.FBetaScore(num_classes=5, beta=2.0, threshold=0.5)"
      ],
      "metadata": {
        "id": "9uJ70D5Z7zp6"
      },
      "execution_count": null,
      "outputs": []
    },
    {
      "cell_type": "code",
      "source": [
        "model.compile(loss='categorical_crossentropy', optimizer=keras.optimizers.Adam(learning_rate=1e-05),\n",
        "              metrics=[metric])"
      ],
      "metadata": {
        "id": "19UV-3Vv7zp7"
      },
      "execution_count": null,
      "outputs": []
    },
    {
      "cell_type": "code",
      "source": [
        "history = model.fit(X_train ,y_train, batch_size=250, epochs=100, validation_split=0.2,)"
      ],
      "metadata": {
        "colab": {
          "base_uri": "https://localhost:8080/"
        },
        "outputId": "db5bd81d-198d-42df-8144-fd038d2a3184",
        "id": "20qHWJm47zp7"
      },
      "execution_count": null,
      "outputs": [
        {
          "output_type": "stream",
          "name": "stdout",
          "text": [
            "Epoch 1/100\n",
            "132/132 [==============================] - 3s 16ms/step - loss: 1.5668 - fbeta_score: 0.3975 - val_loss: 1.5429 - val_fbeta_score: 0.3767\n",
            "Epoch 2/100\n",
            "132/132 [==============================] - 2s 14ms/step - loss: 1.5369 - fbeta_score: 0.4235 - val_loss: 1.5221 - val_fbeta_score: 0.4500\n",
            "Epoch 3/100\n",
            "132/132 [==============================] - 2s 14ms/step - loss: 1.5198 - fbeta_score: 0.4704 - val_loss: 1.5091 - val_fbeta_score: 0.4887\n",
            "Epoch 4/100\n",
            "132/132 [==============================] - 2s 14ms/step - loss: 1.5114 - fbeta_score: 0.5038 - val_loss: 1.5049 - val_fbeta_score: 0.5020\n",
            "Epoch 5/100\n",
            "132/132 [==============================] - 2s 14ms/step - loss: 1.5061 - fbeta_score: 0.5184 - val_loss: 1.5004 - val_fbeta_score: 0.5148\n",
            "Epoch 6/100\n",
            "132/132 [==============================] - 2s 14ms/step - loss: 1.5007 - fbeta_score: 0.5261 - val_loss: 1.4955 - val_fbeta_score: 0.5196\n",
            "Epoch 7/100\n",
            "132/132 [==============================] - 2s 14ms/step - loss: 1.4939 - fbeta_score: 0.5321 - val_loss: 1.4871 - val_fbeta_score: 0.5262\n",
            "Epoch 8/100\n",
            "132/132 [==============================] - 2s 14ms/step - loss: 1.4847 - fbeta_score: 0.5368 - val_loss: 1.4779 - val_fbeta_score: 0.5361\n",
            "Epoch 9/100\n",
            "132/132 [==============================] - 2s 14ms/step - loss: 1.4715 - fbeta_score: 0.5481 - val_loss: 1.4624 - val_fbeta_score: 0.5425\n",
            "Epoch 10/100\n",
            "132/132 [==============================] - 2s 14ms/step - loss: 1.4525 - fbeta_score: 0.5587 - val_loss: 1.4443 - val_fbeta_score: 0.5574\n",
            "Epoch 11/100\n",
            "132/132 [==============================] - 2s 14ms/step - loss: 1.4266 - fbeta_score: 0.5753 - val_loss: 1.4205 - val_fbeta_score: 0.5722\n",
            "Epoch 12/100\n",
            "132/132 [==============================] - 2s 14ms/step - loss: 1.3952 - fbeta_score: 0.5907 - val_loss: 1.3877 - val_fbeta_score: 0.5820\n",
            "Epoch 13/100\n",
            "132/132 [==============================] - 2s 14ms/step - loss: 1.3600 - fbeta_score: 0.6054 - val_loss: 1.3587 - val_fbeta_score: 0.5962\n",
            "Epoch 14/100\n",
            "132/132 [==============================] - 2s 14ms/step - loss: 1.3248 - fbeta_score: 0.6196 - val_loss: 1.3285 - val_fbeta_score: 0.6044\n",
            "Epoch 15/100\n",
            "132/132 [==============================] - 2s 14ms/step - loss: 1.2906 - fbeta_score: 0.6323 - val_loss: 1.2990 - val_fbeta_score: 0.6144\n",
            "Epoch 16/100\n",
            "132/132 [==============================] - 2s 14ms/step - loss: 1.2582 - fbeta_score: 0.6432 - val_loss: 1.2723 - val_fbeta_score: 0.6231\n",
            "Epoch 17/100\n",
            "132/132 [==============================] - 2s 14ms/step - loss: 1.2272 - fbeta_score: 0.6520 - val_loss: 1.2456 - val_fbeta_score: 0.6327\n",
            "Epoch 18/100\n",
            "132/132 [==============================] - 2s 14ms/step - loss: 1.1974 - fbeta_score: 0.6599 - val_loss: 1.2216 - val_fbeta_score: 0.6399\n",
            "Epoch 19/100\n",
            "132/132 [==============================] - 2s 14ms/step - loss: 1.1693 - fbeta_score: 0.6658 - val_loss: 1.1966 - val_fbeta_score: 0.6490\n",
            "Epoch 20/100\n",
            "132/132 [==============================] - 2s 14ms/step - loss: 1.1427 - fbeta_score: 0.6712 - val_loss: 1.1731 - val_fbeta_score: 0.6558\n",
            "Epoch 21/100\n",
            "132/132 [==============================] - 2s 14ms/step - loss: 1.1172 - fbeta_score: 0.6768 - val_loss: 1.1511 - val_fbeta_score: 0.6612\n",
            "Epoch 22/100\n",
            "132/132 [==============================] - 2s 14ms/step - loss: 1.0932 - fbeta_score: 0.6812 - val_loss: 1.1305 - val_fbeta_score: 0.6665\n",
            "Epoch 23/100\n",
            "132/132 [==============================] - 2s 14ms/step - loss: 1.0704 - fbeta_score: 0.6845 - val_loss: 1.1110 - val_fbeta_score: 0.6712\n",
            "Epoch 24/100\n",
            "132/132 [==============================] - 2s 14ms/step - loss: 1.0490 - fbeta_score: 0.6880 - val_loss: 1.0925 - val_fbeta_score: 0.6752\n",
            "Epoch 25/100\n",
            "132/132 [==============================] - 2s 14ms/step - loss: 1.0288 - fbeta_score: 0.6902 - val_loss: 1.0755 - val_fbeta_score: 0.6780\n",
            "Epoch 26/100\n",
            "132/132 [==============================] - 2s 14ms/step - loss: 1.0094 - fbeta_score: 0.6922 - val_loss: 1.0599 - val_fbeta_score: 0.6799\n",
            "Epoch 27/100\n",
            "132/132 [==============================] - 2s 14ms/step - loss: 0.9917 - fbeta_score: 0.6940 - val_loss: 1.0454 - val_fbeta_score: 0.6826\n",
            "Epoch 28/100\n",
            "132/132 [==============================] - 2s 14ms/step - loss: 0.9748 - fbeta_score: 0.6955 - val_loss: 1.0314 - val_fbeta_score: 0.6837\n",
            "Epoch 29/100\n",
            "132/132 [==============================] - 2s 14ms/step - loss: 0.9591 - fbeta_score: 0.6966 - val_loss: 1.0194 - val_fbeta_score: 0.6849\n",
            "Epoch 30/100\n",
            "132/132 [==============================] - 2s 14ms/step - loss: 0.9440 - fbeta_score: 0.6974 - val_loss: 1.0088 - val_fbeta_score: 0.6861\n",
            "Epoch 31/100\n",
            "132/132 [==============================] - 2s 14ms/step - loss: 0.9300 - fbeta_score: 0.6983 - val_loss: 0.9976 - val_fbeta_score: 0.6867\n",
            "Epoch 32/100\n",
            "132/132 [==============================] - 2s 14ms/step - loss: 0.9170 - fbeta_score: 0.6990 - val_loss: 0.9874 - val_fbeta_score: 0.6879\n",
            "Epoch 33/100\n",
            "132/132 [==============================] - 2s 14ms/step - loss: 0.9041 - fbeta_score: 0.6998 - val_loss: 0.9792 - val_fbeta_score: 0.6874\n",
            "Epoch 34/100\n",
            "132/132 [==============================] - 2s 14ms/step - loss: 0.8927 - fbeta_score: 0.7006 - val_loss: 0.9713 - val_fbeta_score: 0.6881\n",
            "Epoch 35/100\n",
            "132/132 [==============================] - 2s 14ms/step - loss: 0.8817 - fbeta_score: 0.7015 - val_loss: 0.9625 - val_fbeta_score: 0.6884\n",
            "Epoch 36/100\n",
            "132/132 [==============================] - 2s 14ms/step - loss: 0.8711 - fbeta_score: 0.7020 - val_loss: 0.9546 - val_fbeta_score: 0.6888\n",
            "Epoch 37/100\n",
            "132/132 [==============================] - 2s 14ms/step - loss: 0.8612 - fbeta_score: 0.7022 - val_loss: 0.9491 - val_fbeta_score: 0.6890\n",
            "Epoch 38/100\n",
            "132/132 [==============================] - 2s 17ms/step - loss: 0.8517 - fbeta_score: 0.7030 - val_loss: 0.9430 - val_fbeta_score: 0.6895\n",
            "Epoch 39/100\n",
            "132/132 [==============================] - 2s 15ms/step - loss: 0.8427 - fbeta_score: 0.7037 - val_loss: 0.9363 - val_fbeta_score: 0.6910\n",
            "Epoch 40/100\n",
            "132/132 [==============================] - 2s 14ms/step - loss: 0.8343 - fbeta_score: 0.7040 - val_loss: 0.9315 - val_fbeta_score: 0.6920\n",
            "Epoch 41/100\n",
            "132/132 [==============================] - 2s 14ms/step - loss: 0.8262 - fbeta_score: 0.7048 - val_loss: 0.9266 - val_fbeta_score: 0.6919\n",
            "Epoch 42/100\n",
            "132/132 [==============================] - 2s 14ms/step - loss: 0.8181 - fbeta_score: 0.7050 - val_loss: 0.9230 - val_fbeta_score: 0.6922\n",
            "Epoch 43/100\n",
            "132/132 [==============================] - 2s 14ms/step - loss: 0.8113 - fbeta_score: 0.7053 - val_loss: 0.9171 - val_fbeta_score: 0.6932\n",
            "Epoch 44/100\n",
            "132/132 [==============================] - 2s 14ms/step - loss: 0.8042 - fbeta_score: 0.7060 - val_loss: 0.9140 - val_fbeta_score: 0.6931\n",
            "Epoch 45/100\n",
            "132/132 [==============================] - 2s 14ms/step - loss: 0.7973 - fbeta_score: 0.7062 - val_loss: 0.9096 - val_fbeta_score: 0.6934\n",
            "Epoch 46/100\n",
            "132/132 [==============================] - 2s 14ms/step - loss: 0.7911 - fbeta_score: 0.7067 - val_loss: 0.9058 - val_fbeta_score: 0.6938\n",
            "Epoch 47/100\n",
            "132/132 [==============================] - 2s 14ms/step - loss: 0.7846 - fbeta_score: 0.7071 - val_loss: 0.9045 - val_fbeta_score: 0.6941\n",
            "Epoch 48/100\n",
            "132/132 [==============================] - 2s 14ms/step - loss: 0.7791 - fbeta_score: 0.7072 - val_loss: 0.9004 - val_fbeta_score: 0.6941\n",
            "Epoch 49/100\n",
            "132/132 [==============================] - 2s 14ms/step - loss: 0.7735 - fbeta_score: 0.7078 - val_loss: 0.8975 - val_fbeta_score: 0.6942\n",
            "Epoch 50/100\n",
            "132/132 [==============================] - 2s 14ms/step - loss: 0.7682 - fbeta_score: 0.7076 - val_loss: 0.8959 - val_fbeta_score: 0.6944\n",
            "Epoch 51/100\n",
            "132/132 [==============================] - 2s 14ms/step - loss: 0.7629 - fbeta_score: 0.7081 - val_loss: 0.8928 - val_fbeta_score: 0.6944\n",
            "Epoch 52/100\n",
            "132/132 [==============================] - 2s 14ms/step - loss: 0.7577 - fbeta_score: 0.7086 - val_loss: 0.8907 - val_fbeta_score: 0.6947\n",
            "Epoch 53/100\n",
            "132/132 [==============================] - 2s 14ms/step - loss: 0.7530 - fbeta_score: 0.7087 - val_loss: 0.8884 - val_fbeta_score: 0.6949\n",
            "Epoch 54/100\n",
            "132/132 [==============================] - 2s 14ms/step - loss: 0.7487 - fbeta_score: 0.7089 - val_loss: 0.8867 - val_fbeta_score: 0.6954\n",
            "Epoch 55/100\n",
            "132/132 [==============================] - 2s 14ms/step - loss: 0.7439 - fbeta_score: 0.7094 - val_loss: 0.8852 - val_fbeta_score: 0.6957\n",
            "Epoch 56/100\n",
            "132/132 [==============================] - 2s 14ms/step - loss: 0.7397 - fbeta_score: 0.7094 - val_loss: 0.8837 - val_fbeta_score: 0.6958\n",
            "Epoch 57/100\n",
            "132/132 [==============================] - 2s 14ms/step - loss: 0.7357 - fbeta_score: 0.7094 - val_loss: 0.8819 - val_fbeta_score: 0.6964\n",
            "Epoch 58/100\n",
            "132/132 [==============================] - 2s 14ms/step - loss: 0.7319 - fbeta_score: 0.7101 - val_loss: 0.8813 - val_fbeta_score: 0.6965\n",
            "Epoch 59/100\n",
            "132/132 [==============================] - 2s 14ms/step - loss: 0.7277 - fbeta_score: 0.7101 - val_loss: 0.8793 - val_fbeta_score: 0.6966\n",
            "Epoch 60/100\n",
            "132/132 [==============================] - 2s 14ms/step - loss: 0.7240 - fbeta_score: 0.7105 - val_loss: 0.8786 - val_fbeta_score: 0.6975\n",
            "Epoch 61/100\n",
            "132/132 [==============================] - 2s 14ms/step - loss: 0.7208 - fbeta_score: 0.7106 - val_loss: 0.8774 - val_fbeta_score: 0.6973\n",
            "Epoch 62/100\n",
            "132/132 [==============================] - 2s 14ms/step - loss: 0.7172 - fbeta_score: 0.7108 - val_loss: 0.8768 - val_fbeta_score: 0.6983\n",
            "Epoch 63/100\n",
            "132/132 [==============================] - 2s 14ms/step - loss: 0.7138 - fbeta_score: 0.7113 - val_loss: 0.8758 - val_fbeta_score: 0.6985\n",
            "Epoch 64/100\n",
            "132/132 [==============================] - 2s 14ms/step - loss: 0.7105 - fbeta_score: 0.7113 - val_loss: 0.8755 - val_fbeta_score: 0.6986\n",
            "Epoch 65/100\n",
            "132/132 [==============================] - 2s 14ms/step - loss: 0.7073 - fbeta_score: 0.7114 - val_loss: 0.8754 - val_fbeta_score: 0.6986\n",
            "Epoch 66/100\n",
            "132/132 [==============================] - 2s 14ms/step - loss: 0.7047 - fbeta_score: 0.7115 - val_loss: 0.8741 - val_fbeta_score: 0.6989\n",
            "Epoch 67/100\n",
            "132/132 [==============================] - 2s 14ms/step - loss: 0.7014 - fbeta_score: 0.7117 - val_loss: 0.8737 - val_fbeta_score: 0.6989\n",
            "Epoch 68/100\n",
            "132/132 [==============================] - 2s 14ms/step - loss: 0.6983 - fbeta_score: 0.7121 - val_loss: 0.8730 - val_fbeta_score: 0.6988\n",
            "Epoch 69/100\n",
            "132/132 [==============================] - 2s 14ms/step - loss: 0.6958 - fbeta_score: 0.7121 - val_loss: 0.8731 - val_fbeta_score: 0.6987\n",
            "Epoch 70/100\n",
            "132/132 [==============================] - 2s 14ms/step - loss: 0.6931 - fbeta_score: 0.7122 - val_loss: 0.8731 - val_fbeta_score: 0.6995\n",
            "Epoch 71/100\n",
            "132/132 [==============================] - 2s 14ms/step - loss: 0.6899 - fbeta_score: 0.7125 - val_loss: 0.8732 - val_fbeta_score: 0.6990\n",
            "Epoch 72/100\n",
            "132/132 [==============================] - 2s 14ms/step - loss: 0.6877 - fbeta_score: 0.7125 - val_loss: 0.8723 - val_fbeta_score: 0.6999\n",
            "Epoch 73/100\n",
            "132/132 [==============================] - 2s 14ms/step - loss: 0.6848 - fbeta_score: 0.7128 - val_loss: 0.8724 - val_fbeta_score: 0.6992\n",
            "Epoch 74/100\n",
            "132/132 [==============================] - 2s 14ms/step - loss: 0.6825 - fbeta_score: 0.7130 - val_loss: 0.8719 - val_fbeta_score: 0.6997\n",
            "Epoch 75/100\n",
            "132/132 [==============================] - 2s 14ms/step - loss: 0.6804 - fbeta_score: 0.7131 - val_loss: 0.8744 - val_fbeta_score: 0.7011\n",
            "Epoch 76/100\n",
            "132/132 [==============================] - 2s 14ms/step - loss: 0.6776 - fbeta_score: 0.7134 - val_loss: 0.8719 - val_fbeta_score: 0.7002\n",
            "Epoch 77/100\n",
            "132/132 [==============================] - 2s 14ms/step - loss: 0.6754 - fbeta_score: 0.7136 - val_loss: 0.8714 - val_fbeta_score: 0.7002\n",
            "Epoch 78/100\n",
            "132/132 [==============================] - 2s 14ms/step - loss: 0.6731 - fbeta_score: 0.7137 - val_loss: 0.8718 - val_fbeta_score: 0.7001\n",
            "Epoch 79/100\n",
            "132/132 [==============================] - 2s 14ms/step - loss: 0.6710 - fbeta_score: 0.7136 - val_loss: 0.8723 - val_fbeta_score: 0.6998\n",
            "Epoch 80/100\n",
            "132/132 [==============================] - 2s 14ms/step - loss: 0.6695 - fbeta_score: 0.7141 - val_loss: 0.8728 - val_fbeta_score: 0.7010\n",
            "Epoch 81/100\n",
            "132/132 [==============================] - 2s 14ms/step - loss: 0.6667 - fbeta_score: 0.7140 - val_loss: 0.8720 - val_fbeta_score: 0.7001\n",
            "Epoch 82/100\n",
            "132/132 [==============================] - 2s 14ms/step - loss: 0.6647 - fbeta_score: 0.7140 - val_loss: 0.8732 - val_fbeta_score: 0.7007\n",
            "Epoch 83/100\n",
            "132/132 [==============================] - 2s 14ms/step - loss: 0.6625 - fbeta_score: 0.7142 - val_loss: 0.8730 - val_fbeta_score: 0.7008\n",
            "Epoch 84/100\n",
            "132/132 [==============================] - 2s 14ms/step - loss: 0.6608 - fbeta_score: 0.7145 - val_loss: 0.8742 - val_fbeta_score: 0.7010\n",
            "Epoch 85/100\n",
            "132/132 [==============================] - 2s 14ms/step - loss: 0.6589 - fbeta_score: 0.7144 - val_loss: 0.8741 - val_fbeta_score: 0.7007\n",
            "Epoch 86/100\n",
            "132/132 [==============================] - 2s 14ms/step - loss: 0.6571 - fbeta_score: 0.7147 - val_loss: 0.8747 - val_fbeta_score: 0.7009\n",
            "Epoch 87/100\n",
            "132/132 [==============================] - 2s 14ms/step - loss: 0.6555 - fbeta_score: 0.7147 - val_loss: 0.8751 - val_fbeta_score: 0.7008\n",
            "Epoch 88/100\n",
            "132/132 [==============================] - 2s 14ms/step - loss: 0.6533 - fbeta_score: 0.7148 - val_loss: 0.8750 - val_fbeta_score: 0.7008\n",
            "Epoch 89/100\n",
            "132/132 [==============================] - 2s 14ms/step - loss: 0.6512 - fbeta_score: 0.7152 - val_loss: 0.8762 - val_fbeta_score: 0.7016\n",
            "Epoch 90/100\n",
            "132/132 [==============================] - 2s 14ms/step - loss: 0.6496 - fbeta_score: 0.7152 - val_loss: 0.8763 - val_fbeta_score: 0.7017\n",
            "Epoch 91/100\n",
            "132/132 [==============================] - 2s 14ms/step - loss: 0.6480 - fbeta_score: 0.7153 - val_loss: 0.8771 - val_fbeta_score: 0.7019\n",
            "Epoch 92/100\n",
            "132/132 [==============================] - 2s 14ms/step - loss: 0.6466 - fbeta_score: 0.7154 - val_loss: 0.8785 - val_fbeta_score: 0.7008\n",
            "Epoch 93/100\n",
            "132/132 [==============================] - 2s 14ms/step - loss: 0.6447 - fbeta_score: 0.7156 - val_loss: 0.8772 - val_fbeta_score: 0.7011\n",
            "Epoch 94/100\n",
            "132/132 [==============================] - 2s 17ms/step - loss: 0.6430 - fbeta_score: 0.7158 - val_loss: 0.8776 - val_fbeta_score: 0.7013\n",
            "Epoch 95/100\n",
            "132/132 [==============================] - 2s 17ms/step - loss: 0.6413 - fbeta_score: 0.7160 - val_loss: 0.8784 - val_fbeta_score: 0.7020\n",
            "Epoch 96/100\n",
            "132/132 [==============================] - 2s 14ms/step - loss: 0.6395 - fbeta_score: 0.7160 - val_loss: 0.8791 - val_fbeta_score: 0.7016\n",
            "Epoch 97/100\n",
            "132/132 [==============================] - 2s 14ms/step - loss: 0.6379 - fbeta_score: 0.7159 - val_loss: 0.8797 - val_fbeta_score: 0.7015\n",
            "Epoch 98/100\n",
            "132/132 [==============================] - 2s 14ms/step - loss: 0.6362 - fbeta_score: 0.7158 - val_loss: 0.8804 - val_fbeta_score: 0.7017\n",
            "Epoch 99/100\n",
            "132/132 [==============================] - 2s 14ms/step - loss: 0.6350 - fbeta_score: 0.7161 - val_loss: 0.8814 - val_fbeta_score: 0.7024\n",
            "Epoch 100/100\n",
            "132/132 [==============================] - 2s 14ms/step - loss: 0.6336 - fbeta_score: 0.7163 - val_loss: 0.8816 - val_fbeta_score: 0.7018\n"
          ]
        }
      ]
    },
    {
      "cell_type": "markdown",
      "source": [
        "На валидации Свертка показывает себя несколько хуже, чем BiLSTM. На последней эпохе у LSTM оценка 0.7167, здесь - 0.7018."
      ],
      "metadata": {
        "id": "mMp0y0s1s0qh"
      }
    },
    {
      "cell_type": "code",
      "source": [
        "y_pred = model.predict(X_test)"
      ],
      "metadata": {
        "colab": {
          "base_uri": "https://localhost:8080/"
        },
        "outputId": "ae257a84-1504-4e8b-de1a-ccab86c5d3ef",
        "id": "3QiSp5OW7zp8"
      },
      "execution_count": null,
      "outputs": [
        {
          "output_type": "stream",
          "name": "stdout",
          "text": [
            "119/119 [==============================] - 0s 2ms/step\n"
          ]
        }
      ]
    },
    {
      "cell_type": "code",
      "source": [
        "print(classification_report(np.argmax(y_test, 1), np.argmax(y_pred, 1), digits=5))"
      ],
      "metadata": {
        "colab": {
          "base_uri": "https://localhost:8080/"
        },
        "outputId": "d89c1420-1384-49b7-8257-2ec690245a3a",
        "id": "3VbhTF1-7zp9"
      },
      "execution_count": null,
      "outputs": [
        {
          "output_type": "stream",
          "name": "stdout",
          "text": [
            "              precision    recall  f1-score   support\n",
            "\n",
            "           0    0.73735   0.64129   0.68597       591\n",
            "           1    0.78938   0.71953   0.75284       599\n",
            "           2    0.60933   0.60405   0.60668      1038\n",
            "           3    0.68595   0.67480   0.68033       615\n",
            "           4    0.60274   0.69767   0.64674       946\n",
            "\n",
            "    accuracy                        0.66297      3789\n",
            "   macro avg    0.68495   0.66747   0.67451      3789\n",
            "weighted avg    0.66855   0.66297   0.66411      3789\n",
            "\n"
          ]
        }
      ]
    },
    {
      "cell_type": "markdown",
      "source": [
        "[0] Extremely Negative\n",
        "\n",
        "[1] Extremely Positive\n",
        "\n",
        "[2] Negative\n",
        "\n",
        "[3] Neutral\n",
        "\n",
        "[4] Positive\n",
        "___________________________________\n",
        "В целом, результат на тестовой выборке сравним с LSTM, наблюдается также улучшение по нейтральном классу и обоим экстремальным.\n",
        "\n",
        "![изображение.png](data:image/png;base64,iVBORw0KGgoAAAANSUhEUgAAAMAAAACICAYAAACx1+QGAAAP3UlEQVR4Xu1dTU7kOhAurgIrhEbDPYYV6gVCwzV6Fm+BWMxi+hqMEAvEirkHI4R6BVeZZydxEv/F5ZRjJ+nqt3qD45S/8ue/+Ks6+id+cOi/3xdwdLOH7esH/Pp66GCsoP0R/jxiAgiHRwC2gu6x2ib8/XEC57tP0b5j9GDGBFhtd+CGYRBgAmBQ4jKrRYAJsFrXcsMwCDABMChxmdUiwARYrWu5YRgEmAAYlLjMahFgAqzWtdwwDAJMAAxKsWX+/oCT8x18Hm/h9eMX8Le1WADzlWcCYLGuPpb9MUp/g/t/L/DdrGOIANXfnmAT+Or8++II9Nepd/2FHyfnUH3vcf2+3cO/l+/i25583vgg1LThePsKHyU+eZsYNrbKZqiPWLptv+Hi6AYEyCCa1LQJ4Fvz/1XzkXj63MwEiCKAfl2i6mT7yFE+6LCmgwOm3rrs08bu0NK22/0xwOa57ey/L07EvwnmOMpjYRhbzkfIC3ipOndFgCfxDffzFO7aQcVBANGmY9jAs5pZg3gOW8wEwHrUdV2i+jc5QDlmAV+9IYc1s8dpf5Tz2jhMgMezLexFp6o7i+hMJ29wdrqDp7PMMwCiTTUBNrAV9r1f1SO+GPPtGUAMDNu6UfW9rRCeAf8yAUYToBmpT+slR/2rHdYulHpTfPuaoMOaOlD7Bx8B6n9/v3uFs9vLurO8XcDJ20+4ez+HG+jbjAVgfDnVuYf2Q22ZZ4DLyuSGtOYSSNp+9QhHj1c17kE8eQYY77n+k649wEAnraZ8V0fDOEztIar3e/YZ9QLYswRSBPgHP99O4BKeRce/hLefH/DlP49daVBy1uLFole6I8k1PJw0pP3qmgEkeUEMNI9wJWdeDJ4DbeMZAOt4xxKoXte6OyiJAMqmPhGcZAsT4OWL2HRfiiVDs24WjIHz97verIUFYHy5OAKIkV9iXY3wsqMbm+BmUJGEkcT+uH5AHSr4rGcCYP3qvDKtj1D6hEGYAUybGiKIO77G6Y2PAH279DKY5QgWEmw5zGGBbpe0X47wV/DoIUC19JEThVwyIU7VmABYb/nKlSRAs9TZafuNoSWQn5glCIDRW5h21SP8Bk53O/0YtLeslMSqNvq78LEyE2ACAgyNbEmWQMrmZv+hnX8P7gEkAW7hzPGtoQgBFIE/7e8S+jHopvtwWI3wYun2+QnqRMzCVOJyuxdHp/Jkd5yaj5dAWGJgNsHOj2XGRlbb4PZerk6MnHX4FE6eJdDAxrAMAep2Wh/3zA9h4hi0f1Kkyivi24OK+iiIV4CZ7mYCYAnA5VaJABNglW7lRmERYAJgkeJyq0SACbBKt3KjsAgwAbBIcblVIsAEWKVbuVFYBJgAWKS43CoRYAKs0q3cKCwCTAAsUlxulQgwAVbpVm4UFgEmABYpLrdKBCwCdBF29fa2F7E8gm/Mne9VImg2yrzr41KFIYHQ7850ugOfj2S19oU55MuIxXRbx9/NCarqrLtSlHcBeAhw6te5Nhet5BW80zul3WwuOmWW2hF9lv5x695+I2+MJsGI5wqGeDeFQTVBAR2ivHWE99ZrUyJSlIRx8GgCbLansHtvdJniTTwDNBiYUSJGdMx4LF36ZIz7E5RxCt7H2OPXMCgra2IZg/OYwAS9Zo8nwGurXq7U+bbTDIG4S9sauhqcwD/5qnBdTe4wwC9Nwh3BatMIkiXDxdEB2yUaStjfH91DETaMgAFepRy+dcg9QG+d1btrfv3Q6DIFA3QC1IbuexI+m71mmTGjBr6h05c0Om47nd8D3OhYDNqi8L3fwNONiC6nCnuXUWVx0/UFXUyj+80T3Jij9UDDVT31c13UL9fA0e03aOt/aQ5hBpAKHKXdrNTLbRQEt+jC6CAO0UZJsQadIKp9MhSJiNzWBrayB4MwAcywigN1lBz9RUNan929w7kIZac6rHO5EiKA6PhaZDirbfoMUAn8zWciHUkkQL30eRSBjK4eDQJ4Yvd1jF7bDNCFLNRHrcgljUfN5Rsc4vcLkT0kVFydyhjLndjBzF0+LOgfveFu2kUmgFLnb0REr10vZIWM8jUcGNbcIwiLok9LQt7J+3enRjh6k+YmjLNuRMS1yREY2AS7QjZ67XHipA+STrKnjgsUnLqsF0qWXsKTWK1+qqgFiM1J7AgxuSNTvMBzDNrfC9Wv6WYLV6BaCxtPR8eEG0nRrFAd7mNQx1F6e4bviqVkHyKYfdE12g/FZgrZPbAHsEMP6x/CjDAUqmH9Edx5wtNvuC/K8VAkNEyTCpcx2u2OxDxMANkCU0BubQZDZ+aZYfB9tNPMGCRA1Wo9tKTj5ND6CBhz0uTApNhVCPfoVfZEI3Of4dfNAIF5EQCxdJoBZmzCihAoRgB7uqtRxX8wWpEXuCnFEChIgGJt5hczAi0CTADuDAeNABPgoN3PjWcCcB84aASYAAftfm48E4D7wEEjwAQ4aPdz45kA3AcOGgGkIKb/gcpxi5M/YHWdiCqK96nk6q+EjuR2yh90cQiFCVRRPEro78GG8vE0/jp0c2FJu+HYXHJyX/yiwLqwZ5OJ4s12+wUx9Z0qkT2dkCaIinIyUbzVbJmIfN+J64lXn13tTEMAUfNcruZSnUl53q8H6DlxxAu8V9TVHfrXM7glZEocYZI14+mZ7VNcanTUMXsC9MOiWNOVa4q2l1PLnUVSieKxo39vViDmyiURIJUoPjT6y7/nI4CpB+h3Xsd0bN5Ndwg4bDGDL8ctyR0FH04kijda4Bv9NdHMBB0DC2QqUbz+Ps8M4toDEFWEo5dAfzSLdRHL0F3/TibXRRAYlk5iXVG6XCJRvNYMz9rf7PBzIABRFK8321j7+1yrCEEgwWgC2DK/zkq3UNvFakMVRlT3lKVAIlF8vxFOnaxj5ixIgDoJthgOiaJ4vdldgIWQT4MS3kAF2QngF0ovf0ZII4pXHotYBgzMxqEORP57KlF822yRIFvEVdQ31X4rqYcvkxBAjQr981kMUxcvlE8kiq/cHRPvp+QMUJkqRuw/ZvDeWFF83cmjOnQCXfToD2FDS6DOgf2dgil2d31QW7ggXjY8iSg+MjhuYQK0Hbd1t8ePIVF8qENbkaHp/YWvQpDXAFzBkhFgAizZe2w7GQEmABlCrmDJCDABluw9tp2MABOADCFXsGQEmABL9h7bTkaACUCGkCtYMgJMgCV7j20nI8AEIEPIFSwZASbAkr3HtpMRYAKQIeQKloyAQQB1P0e/Y7H4S2o5PUQVxfdsDSedcPsrZ3PVu6ii+M5m446Yedc/Ib7ynU4C7I+PATbP8CETAIsfEwDZpZKJ4sOX4dQNzO12D7uIdKTIlkQVSyaKD12GS4Zv1zwnAWC7hf0TwPPHL5AUYALg+kMqUXww86PsKI9XVYgUzDVznPUjSw3oAXYqZxyq6nA2zVT49s1xE+C+Tnsq058KjJ0ECOaw8sW3IcjXUDgWK5RKFB/uCP0mFidAKlF8MJtmKnz1DuIlwAsYo0wv7anFRGsUWFsOYAyrEoni1d1+ZKb40gRIJYoPZ4pPhK/hSj8BvtfpT8U6CK4fREZuRQCP+EKbth1l1r+MSiSKVzOnprH1B8aaDQGIongVGc6fKT4RvngC1EufS3gW/10aBNiJrMCOX7u8OcQZIJEo3jPA+AaQ0gRIJYoPZ4oHMSCfw050PD0UYtyS0ey1AzOALCorf4QzedIQmAH0iteXBR61CKrCFG5BC/MSXNuaNUdkilcHFCVPgVKJ4rGZ4sn4YvcAYvNbUUA49VbEnvyETePYcPSG9S93PHRIJIrHZoqXVhSfAZo+QhfFhzPFK721CBbaHNH7l4aYAUuWCcwAFcJVmIpPbU3qzvLeTU0rzQKPQTWJKD6QKd53wibso0RKxjTPVyb80a5iSh1DyJEBvhlug5nicUEH8C2Z5CoEZ4HHO4BLlkUgHwGs5UHZhvPbGQHHEigVKJxEIxWSXM+0CEwyA0xrMtfOCKRDgAmQDkuuaYEIMAEW6DQ2OR0CTIB0WHJNC0SACbBAp7HJ6RBgAqTDkmtaIAJMgAU6jU1OhwATIB2WXNMCEWBRfGqnJRRt++/XuD80lkwxm00UbyXJcKXfxTuVRfF4rMIlk4m2Q6J42h34cEPiSmQTxTvSRpnvjrPcdxuURfGxOFblU4m2g6L4SqdxAyC021KzXfSXURTvvPodrbfQ0ZpGFO9K8EY0tKiTUS9PJdrGdG5MGZTR9ELZRPHVEFNfl1ZX8xNcsJxGFH+QBEgk2kaJ4h17gEI5lvOJ4juudvsN2vpf1jiNKP6gCfAKZ7dCuwpKGhmpWooUxdfdwhgZ6eM6uoaWAJOL4u12CpEwnAuRMGXzP6gIGy2KP0gClBHFtz01Jq8wunsjCibKFB8WxX91xqeq9wUgVJIf0AQyRBjdFZlGFH+QBBjaBMv96gvg9qtxonjlymLa4NyieLivIuK1P2KO5KAmeIwoXuk223T3QS1oFGnnW7iAKL4CI8FmkAJqmkzxYVG8a7Sf5hi0f7w2ShSvohWo6EEi2vTrGdyev8MdeiSkuKTgs0VE8fTNIBWxXKJ4FUCrtZe4+eerEFTP8/OLRoAJsGj3sfFUBJgAVAT5+UUjwARYtPvYeCoCTAAqgvz8ohFgAizafWw8FQEmABVBfn7RCDABFu0+Np6KABOAiiA/v2gEmACLdh8bT0WACUBFkJ9fNAIGAdyJLSj3rReNzhjjs4ji+4YpcUzZ+0DZRPGq6S3O4p4Z4X6ZmwD9BMfqRavN7zuml3ueySaK795f65CP4VjcO9yMvBNPRSCbKL41tLk5CiJ11+fpxAQQLy1215zqmczP5xPFNw1Tetzqpu1TGQJkFMV3g3+TtrdSocVoLewOEZ4BFAF6ibIFJdqUlapKe5lk61bXvZTKKYqXqPekltcPIo9bIQJkFcVXnbHKWVdpTWQy98kJYE3rTed3LJO67H2uzpB5OM7+upyi+GZWjkpdOw0guUXxWsiYBJFGEJtgY3Pl0Z76gNBy5k7jg5nUmiiTOUYUb8oAibJACoBZRfFmh5+MAP3R3UTH81J7n2Ask4jKHYqT8jybSxR/DQ8iY/rTRuXKVcuCkksgkfrU8G9sruiwKP7NDgY2OwJo+4R+twsn187TSad9i38THLNRC4jinwEuZd5mb1Nox4LRCOUSxX/5r8kx7LFw5ACL2gTrr3TErXSCoD8VOyJEO2IODxQVxReaAeR2XB7F/umI5z01HAyOEBbFWy4uMgNUVtgnPHqGclf04swjUylC5BDFm20ruAdQpuQSxWtNT0+AUr2G38sIlEGA7wKVwZ3fOhMEmAAzcQSbUQYBJkAZ3PmtM0GACTATR7AZZRBgApTBnd86EwSYADNxBJtRBgEmQBnc+a0zQYAJMBNHsBllEGAClMGd3zoTBJgAM3EEm1EGgf8Bz7Ktd8UHfg0AAAAASUVORK5CYII=)"
      ],
      "metadata": {
        "id": "MHAmoDK1tRGj"
      }
    },
    {
      "cell_type": "markdown",
      "source": [
        "## Different Preprocessing"
      ],
      "metadata": {
        "id": "fQ6SupWeM6ob"
      }
    },
    {
      "cell_type": "markdown",
      "source": [
        "Добавим теперь полную очистку от хэштегов и упоминаний"
      ],
      "metadata": {
        "id": "UzbSfC9JNUnl"
      }
    },
    {
      "cell_type": "code",
      "source": [
        "def clean_tweet(tweet):\n",
        "    clean_tweet = re.sub(r'[@#]\\w+\\s?', '', tweet)\n",
        "    clean_tweet = re.sub(r'https://t.co/\\w*\\s?', '', clean_tweet)\n",
        "    clean_tweet = re.sub(r'[^\\x00-\\x7f]','', clean_tweet) \n",
        "    \n",
        "    return clean_tweet.strip()"
      ],
      "metadata": {
        "id": "mUKdFStnNT7y"
      },
      "execution_count": null,
      "outputs": []
    },
    {
      "cell_type": "code",
      "source": [
        "vid_train['CleanerTweet']= vid_train['OriginalTweet'].apply(lambda x: clean_tweet(x))\n",
        "vid_test['CleanerTweet']= vid_test['OriginalTweet'].apply(lambda x: clean_tweet(x))"
      ],
      "metadata": {
        "id": "uECn8tR6bHpX"
      },
      "execution_count": null,
      "outputs": []
    },
    {
      "cell_type": "code",
      "source": [
        "print('Было:\\n', vid_train.OriginalTweet.iloc[5])\n",
        "print('_'*50)\n",
        "print('Стало:\\n', vid_train.CleanerTweet.iloc[5])"
      ],
      "metadata": {
        "colab": {
          "base_uri": "https://localhost:8080/"
        },
        "id": "zBQCPAJ_P64A",
        "outputId": "4d73d3c8-7c67-4fdd-e08c-df4b59976bd7"
      },
      "execution_count": null,
      "outputs": [
        {
          "output_type": "stream",
          "name": "stdout",
          "text": [
            "Было:\n",
            " As news of the regionÂs first confirmed COVID-19 case came out of Sullivan County last week, people flocked to area stores to purchase cleaning supplies, hand sanitizer, food, toilet paper and other goods, @Tim_Dodson reports https://t.co/cfXch7a2lU\n",
            "__________________________________________________\n",
            "Стало:\n",
            " As news of the regions first confirmed COVID-19 case came out of Sullivan County last week, people flocked to area stores to purchase cleaning supplies, hand sanitizer, food, toilet paper and other goods, reports\n"
          ]
        }
      ]
    },
    {
      "cell_type": "code",
      "source": [
        "stop_words = stopwords.words(\"english\")\n",
        "lemmatizer = WordNetLemmatizer()"
      ],
      "metadata": {
        "id": "SWhe0WLgleT0"
      },
      "execution_count": null,
      "outputs": []
    },
    {
      "cell_type": "code",
      "source": [
        "def basic_preprocess(tweet):\n",
        "    tokens = word_tokenize(tweet)\n",
        "    \n",
        "    preprocessed = []\n",
        "    for tok in tokens:\n",
        "        lemma = lemmatizer.lemmatize(tok).lower()\n",
        "        if lemma not in stop_words and not bool(re.match(f'^[\\d{string.punctuation}]+$', lemma)):\n",
        "            preprocessed.append(lemma)\n",
        "    return ' '.join(preprocessed)\n",
        "\n",
        "vid_train['LemTweet']= vid_train['CleanerTweet'].apply(lambda x: basic_preprocess(x))    \n",
        "vid_test['LemTweet']= vid_test['CleanerTweet'].apply(lambda x: basic_preprocess(x))"
      ],
      "metadata": {
        "id": "Ki_6tc_Ab4mL"
      },
      "execution_count": null,
      "outputs": []
    },
    {
      "cell_type": "code",
      "source": [
        "vid_train['LemTweet']= vid_train['CleanerTweet'].apply(lambda x: basic_preprocess(x))    \n",
        "vid_test['LemTweet']= vid_test['CleanerTweet'].apply(lambda x: basic_preprocess(x))"
      ],
      "metadata": {
        "id": "H-oKg19ZjNsd"
      },
      "execution_count": null,
      "outputs": []
    },
    {
      "cell_type": "code",
      "source": [
        "print(vid_train.shape, vid_test.shape)"
      ],
      "metadata": {
        "colab": {
          "base_uri": "https://localhost:8080/"
        },
        "outputId": "f0c6841a-afe2-4ce6-aef9-236d244ab0da",
        "id": "b_eEuZolcspe"
      },
      "execution_count": null,
      "outputs": [
        {
          "output_type": "stream",
          "name": "stdout",
          "text": [
            "(41157, 8) (3798, 8)\n"
          ]
        }
      ]
    },
    {
      "cell_type": "code",
      "source": [
        "vid_train = vid_train.drop_duplicates(subset=['LemTweet'])\n",
        "vid_train = vid_train[vid_train['LemTweet'] != '']\n",
        "vid_test = vid_test.drop_duplicates(subset=['LemTweet'])\n",
        "vid_test = vid_test[vid_test['LemTweet'] != '']"
      ],
      "metadata": {
        "id": "8091WqXbcspg"
      },
      "execution_count": null,
      "outputs": []
    },
    {
      "cell_type": "code",
      "source": [
        "print(vid_train.shape, vid_test.shape)"
      ],
      "metadata": {
        "colab": {
          "base_uri": "https://localhost:8080/"
        },
        "outputId": "943cf7c9-76ed-438b-8576-530ed70e0d6e",
        "id": "hgJFsEe0csph"
      },
      "execution_count": null,
      "outputs": [
        {
          "output_type": "stream",
          "name": "stdout",
          "text": [
            "(40823, 8) (3784, 8)\n"
          ]
        }
      ]
    },
    {
      "cell_type": "code",
      "source": [
        "label_enc = LabelEncoder()\n",
        "\n",
        "y_train = label_enc.fit_transform(vid_train[\"Sentiment\"])\n",
        "y_test  = label_enc.transform(vid_test[\"Sentiment\"])"
      ],
      "metadata": {
        "id": "bWnCRyC4lXPd"
      },
      "execution_count": null,
      "outputs": []
    },
    {
      "cell_type": "markdown",
      "source": [
        "### ML"
      ],
      "metadata": {
        "id": "UzjAR8PFM89H"
      }
    },
    {
      "cell_type": "markdown",
      "source": [
        "Используем теперь для векторного представления предобученные эмбеддинги Fasttext. Фактически будем представлять текст как вектор, полученный усреднением векторов слов, которые есть в этом тексте, а также и в словаре от Fasttext. Так как Fasttext не включает цифровые символы, будем терять некоторые ключевые слова, содержащие в том числе цифры. Также будут потеряны вектора для слов, не входящих в словарь (например, covid)."
      ],
      "metadata": {
        "id": "1EpjhN0dhSIo"
      }
    },
    {
      "cell_type": "code",
      "source": [
        "from gensim.models.keyedvectors import KeyedVectors\n",
        "\n",
        "word_vectors = KeyedVectors.load_word2vec_format('/content/gdrive/My Drive/Магистериум/NLP/crawl-300d-2M-subword.vec')"
      ],
      "metadata": {
        "id": "W32p9kQHXe25"
      },
      "execution_count": null,
      "outputs": []
    },
    {
      "cell_type": "code",
      "source": [
        "X_train = []\n",
        "y_train = []\n",
        "for row in range(len(vid_train)):\n",
        "    temp_repr = []\n",
        "\n",
        "    unprocessed = vid_train['LemTweet_'].iloc[row].split()\n",
        "    for tok in unprocessed:\n",
        "        try:\n",
        "            if temp_repr == []:\n",
        "                temp_repr = [word_vectors.word_vec(tok)]\n",
        "                continue\n",
        "            else:\n",
        "                temp_repr = np.concatenate((temp_repr, [word_vectors.word_vec(tok)]), axis=0)\n",
        "        except KeyError:\n",
        "            pass\n",
        "    if temp_repr != []:\n",
        "        # вектор твита - усреднением\n",
        "        X_train.append(np.mean(temp_repr, axis=0))\n",
        "        y_train.append(vid_train['Sentiment'].iloc[row])\n",
        "X_train = np.array(X_train)"
      ],
      "metadata": {
        "id": "cC6hz6Whas-p"
      },
      "execution_count": null,
      "outputs": []
    },
    {
      "cell_type": "code",
      "source": [
        "X_test = []\n",
        "y_test = []\n",
        "for row in range(len(vid_test)):\n",
        "    temp_repr = []\n",
        "\n",
        "    unprocessed = vid_test['LemTweet_'].iloc[row].split()\n",
        "    for tok in unprocessed:\n",
        "        try:\n",
        "            if temp_repr == []:\n",
        "                temp_repr = [word_vectors.word_vec(tok)]\n",
        "                continue\n",
        "            else:\n",
        "                temp_repr = np.concatenate((temp_repr, [word_vectors.word_vec(tok)]), axis=0)\n",
        "        except KeyError:\n",
        "            pass\n",
        "    if temp_repr != []:\n",
        "        X_test.append(np.mean(temp_repr, axis=0))\n",
        "        y_test.append(vid_test['Sentiment'].iloc[row])\n",
        "X_test = np.array(X_test)"
      ],
      "metadata": {
        "id": "IKPlBRUKgEgZ"
      },
      "execution_count": null,
      "outputs": []
    },
    {
      "cell_type": "markdown",
      "source": [
        "Будем также использовать Логическую регрессию и SVM, но с донастройкой параметров."
      ],
      "metadata": {
        "id": "bMQtlOlfNB2R"
      }
    },
    {
      "cell_type": "markdown",
      "source": [
        "Для начала также будем использовать TF*IDF, чтобы посмотреть, изменяется ли качество при уделнии хэштегов и упоминаний. "
      ],
      "metadata": {
        "id": "BAe7-9pUjuCv"
      }
    },
    {
      "cell_type": "code",
      "source": [
        "tfidf_enc = TfidfVectorizer(max_features=5000)\n",
        "X_train_tf = tfidf_enc.fit_transform(vid_train['LemTweet'])\n",
        "X_test_tf = tfidf_enc.transform(vid_test['LemTweet'])"
      ],
      "metadata": {
        "id": "b63EcPiYhq4d"
      },
      "execution_count": null,
      "outputs": []
    },
    {
      "cell_type": "markdown",
      "source": [
        "#### Logistic Regression"
      ],
      "metadata": {
        "id": "4JA-1YHWwM33"
      }
    },
    {
      "cell_type": "code",
      "source": [
        "classifier = LogisticRegression(penalty='elasticnet', solver='saga', l1_ratio=1.0, max_iter=1000, random_state=42)\n",
        "classifier.fit(X_train_tf, y_train)\n",
        "\n",
        "train_predict = classifier.predict(X_train_tf)\n",
        "\n",
        "test_predict = classifier.predict(X_test_tf)\n",
        "\n",
        "print_results([y_train, train_predict, y_test, test_predict])"
      ],
      "metadata": {
        "colab": {
          "base_uri": "https://localhost:8080/"
        },
        "id": "V_kAdAy2m1B7",
        "outputId": "3420cc4b-7e76-4624-f851-f9f1f47dce9c"
      },
      "execution_count": null,
      "outputs": [
        {
          "output_type": "stream",
          "name": "stdout",
          "text": [
            "TRAIN F1: 0.734\n",
            "_____________________________________________________\n",
            "Validation F1: 0.637\n",
            "Validation Precision: 0.646\n",
            "Validation Recall: 0.639\n",
            "_____________________________________________________\n",
            "              precision    recall  f1-score   support\n",
            "\n",
            "           0       0.71      0.53      0.61       590\n",
            "           1       0.77      0.62      0.68       597\n",
            "           2       0.59      0.56      0.57      1040\n",
            "           3       0.66      0.80      0.72       611\n",
            "           4       0.59      0.70      0.64       946\n",
            "\n",
            "    accuracy                           0.64      3784\n",
            "   macro avg       0.66      0.64      0.65      3784\n",
            "weighted avg       0.65      0.64      0.64      3784\n",
            "\n"
          ]
        }
      ]
    },
    {
      "cell_type": "markdown",
      "source": [
        "[0] Extremely Negative\n",
        "\n",
        "[1] Extremely Positive\n",
        "\n",
        "[2] Negative\n",
        "\n",
        "[3] Neutral\n",
        "\n",
        "[4] Positive\n",
        "_______________________\n",
        "При сравнении видим, что есть улучшение качества по всем классам при удалении хэштегов и упоминаний и сохранении прежних гиперпараметров.\n",
        "\n",
        "![изображение.png](data:image/png;base64,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)\n"
      ],
      "metadata": {
        "id": "nyCyLf--m-ID"
      }
    },
    {
      "cell_type": "markdown",
      "source": [
        "Теперь обучим логистическую регрессию (с донастроенными уже параметрами) на векторных представлениях, полученных с помощью Fasttext. Видим, что при таком способе кодировки, качество существенно снижается."
      ],
      "metadata": {
        "id": "oDvNQQ2SxN1C"
      }
    },
    {
      "cell_type": "code",
      "source": [
        "classifier = LogisticRegression(penalty='l1', solver='', max_iter=1000, random_state=42)\n",
        "classifier.fit(X_train, y_train)\n",
        "\n",
        "train_predict = classifier.predict(X_train)\n",
        "test_predict = classifier.predict(X_test)\n",
        "\n",
        "print_results([y_train, train_predict, y_test, test_predict])"
      ],
      "metadata": {
        "colab": {
          "base_uri": "https://localhost:8080/"
        },
        "id": "7jLOVpWOtetp",
        "outputId": "c4f1bdfe-d18a-4f94-96da-011a506bff38"
      },
      "execution_count": null,
      "outputs": [
        {
          "output_type": "stream",
          "name": "stdout",
          "text": [
            "TRAIN F1: 0.499\n",
            "_____________________________________________________\n",
            "Validation F1: 0.467\n",
            "Validation Precision: 0.498\n",
            "Validation Recall: 0.469\n",
            "_____________________________________________________\n",
            "              precision    recall  f1-score   support\n",
            "\n",
            "           0       0.62      0.34      0.44       589\n",
            "           1       0.64      0.34      0.45       597\n",
            "           2       0.45      0.50      0.47      1040\n",
            "           3       0.50      0.58      0.53       611\n",
            "           4       0.39      0.53      0.45       946\n",
            "\n",
            "    accuracy                           0.47      3783\n",
            "   macro avg       0.52      0.46      0.47      3783\n",
            "weighted avg       0.50      0.47      0.47      3783\n",
            "\n"
          ]
        }
      ]
    },
    {
      "cell_type": "markdown",
      "source": [
        "#### SVM"
      ],
      "metadata": {
        "id": "EMdoSa6BNFHz"
      }
    },
    {
      "cell_type": "markdown",
      "source": [
        "Также рассмотрим изменение оценки на SVM при удалении хэштегов и упоминаний."
      ],
      "metadata": {
        "id": "41CUz8baxp5e"
      }
    },
    {
      "cell_type": "code",
      "source": [
        "classifier = SVC(kernel='linear', C=2.0, random_state=42)\n",
        "classifier.fit(X_train_tf, y_train)\n",
        "\n",
        "train_predict = classifier.predict(X_train_tf)\n",
        "\n",
        "test_predict = classifier.predict(X_test_tf)\n",
        "\n",
        "print_results([y_train, train_predict, y_test, test_predict])"
      ],
      "metadata": {
        "colab": {
          "base_uri": "https://localhost:8080/"
        },
        "id": "vIOx_XNiyH_P",
        "outputId": "bfc8b3ad-52ef-4bf5-d645-08f144dcde4a"
      },
      "execution_count": null,
      "outputs": [
        {
          "output_type": "stream",
          "name": "stdout",
          "text": [
            "TRAIN F1: 0.815\n",
            "_____________________________________________________\n",
            "Validation F1: 0.652\n",
            "Validation Precision: 0.656\n",
            "Validation Recall: 0.651\n",
            "_____________________________________________________\n",
            "              precision    recall  f1-score   support\n",
            "\n",
            "           0       0.67      0.56      0.61       590\n",
            "           1       0.75      0.65      0.69       597\n",
            "           2       0.59      0.61      0.60      1040\n",
            "           3       0.75      0.75      0.75       611\n",
            "           4       0.60      0.69      0.64       946\n",
            "\n",
            "    accuracy                           0.65      3784\n",
            "   macro avg       0.67      0.65      0.66      3784\n",
            "weighted avg       0.66      0.65      0.65      3784\n",
            "\n"
          ]
        }
      ]
    },
    {
      "cell_type": "markdown",
      "source": [
        "Для SVM также результат улучшается при очистки твитов от упоминаний и хэштегов. Также качество получается лучше, чем для логистической регрессии.\n",
        "\n",
        "![изображение.png](data:image/png;base64,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)"
      ],
      "metadata": {
        "id": "Jj-Lc41lxoIQ"
      }
    },
    {
      "cell_type": "markdown",
      "source": [
        "При этом при использовании Fasttext также качество предсказания плохое, однако все же при донастройке несколько лучше, чем у логистической регрессии."
      ],
      "metadata": {
        "id": "SZNIVWMPy5z_"
      }
    },
    {
      "cell_type": "code",
      "source": [
        "classifier = SVC(kernel='rbf', C=2.0)\n",
        "\n",
        "classifier.fit(X_train, y_train)\n",
        "\n",
        "train_predict = classifier.predict(X_train)\n",
        "test_predict = classifier.predict(X_test)\n",
        "\n",
        "print_results([y_train, train_predict, y_test, test_predict])"
      ],
      "metadata": {
        "colab": {
          "base_uri": "https://localhost:8080/"
        },
        "id": "y-gDwVgGp12s",
        "outputId": "182464e6-9dbe-40aa-f986-54d0ba9cec5d"
      },
      "execution_count": null,
      "outputs": [
        {
          "output_type": "stream",
          "name": "stdout",
          "text": [
            "TRAIN F1: 0.631\n",
            "_____________________________________________________\n",
            "Validation F1: 0.535\n",
            "Validation Precision: 0.553\n",
            "Validation Recall: 0.531\n",
            "_____________________________________________________\n",
            "              precision    recall  f1-score   support\n",
            "\n",
            "           0       0.61      0.48      0.54       589\n",
            "           1       0.69      0.49      0.57       597\n",
            "           2       0.47      0.52      0.50      1040\n",
            "           3       0.68      0.58      0.63       611\n",
            "           4       0.44      0.57      0.49       946\n",
            "\n",
            "    accuracy                           0.53      3783\n",
            "   macro avg       0.58      0.53      0.55      3783\n",
            "weighted avg       0.55      0.53      0.54      3783\n",
            "\n"
          ]
        }
      ]
    },
    {
      "cell_type": "markdown",
      "source": [
        "### NN\n",
        "\n",
        "Для тестирования возьмем прежние нейронные сети, однико будем использовать также представления от Fasttext."
      ],
      "metadata": {
        "id": "TGdQ3WcVLm4Y"
      }
    },
    {
      "cell_type": "code",
      "source": [
        "tokenizer = Tokenizer(num_words=5000)\n",
        "tokenizer.fit_on_texts(vid_train['LemTweet'].values)\n",
        "wordIndex = len(tokenizer.word_index) + 1\n",
        "print('Found %s unique tokens.' % (wordIndex))"
      ],
      "metadata": {
        "colab": {
          "base_uri": "https://localhost:8080/"
        },
        "outputId": "98998cd8-7a4f-4600-d5a1-b4623d916913",
        "id": "vOWx5ICaXgW3"
      },
      "execution_count": null,
      "outputs": [
        {
          "output_type": "stream",
          "name": "stdout",
          "text": [
            "Found 32591 unique tokens.\n"
          ]
        }
      ]
    },
    {
      "cell_type": "code",
      "source": [
        "# Turns the lists of integers into a 2D integer tensor of shape (numWords, maxlen)\n",
        "X_train = tokenizer.texts_to_sequences(vid_train['LemTweet'].values)\n",
        "X_train = pad_sequences(X_train, maxlen=40)\n",
        "\n",
        "X_test = tokenizer.texts_to_sequences(vid_test['LemTweet'].values)\n",
        "X_test = pad_sequences(X_test, maxlen=40)"
      ],
      "metadata": {
        "id": "DwMBG9kGXgW4"
      },
      "execution_count": null,
      "outputs": []
    },
    {
      "cell_type": "code",
      "source": [
        "label_enc = LabelEncoder()\n",
        "\n",
        "y_train = label_enc.fit_transform(vid_train[\"Sentiment\"])\n",
        "y_test  = label_enc.transform(vid_test[\"Sentiment\"])"
      ],
      "metadata": {
        "id": "afPdQBN_XgW5"
      },
      "execution_count": null,
      "outputs": []
    },
    {
      "cell_type": "code",
      "source": [
        "y_train = to_categorical(y_train)\n",
        "y_test = to_categorical(y_test)"
      ],
      "metadata": {
        "id": "E0yxn1VIXgW5"
      },
      "execution_count": null,
      "outputs": []
    },
    {
      "cell_type": "code",
      "source": [
        "word_vectors = {}\n",
        "f = io.open(\"/content/gdrive/My Drive/Магистериум/NLP/crawl-300d-2M-subword.vec\", encoding='utf-8')\n",
        "n, d = map(int, f.readline().split())\n",
        "for line in tqdm(f):\n",
        "    values = line.rstrip().split(' ')\n",
        "    word = values[0]\n",
        "    vector = np.array(values[1:], dtype='float32')\n",
        "    word_vectors[word] = vector\n",
        "f.close()\n",
        "print(f'found {len(word_vectors)} word vectors')"
      ],
      "metadata": {
        "colab": {
          "base_uri": "https://localhost:8080/"
        },
        "id": "AVhHCRQ_x_LB",
        "outputId": "0a11ead4-b2c7-46fc-c182-cb6e85793a00"
      },
      "execution_count": null,
      "outputs": [
        {
          "output_type": "stream",
          "name": "stderr",
          "text": [
            "2000000it [01:54, 17396.07it/s]"
          ]
        },
        {
          "output_type": "stream",
          "name": "stdout",
          "text": [
            "found 2000000 word vectors\n"
          ]
        },
        {
          "output_type": "stream",
          "name": "stderr",
          "text": [
            "\n"
          ]
        }
      ]
    },
    {
      "cell_type": "markdown",
      "source": [
        "Будем передавать в качестве предобученных весов слою Embedding матрицу представлений для слов, встречающихся в данных, вектора для них все так же будем брать из Fasttext. В случае отсутствия вектора для слова в Fasttext, в процессе обучения модели будет получен вектор для out-of-vocab слова."
      ],
      "metadata": {
        "id": "ddgUGXAhzcCY"
      }
    },
    {
      "cell_type": "code",
      "source": [
        "word_index = tokenizer.word_index\n",
        "nb_words = min(1e5, len(word_index))\n",
        "\n",
        "embedding_matrix = np.zeros((nb_words+1, 300))\n",
        "\n",
        "for word, i in word_index.items():\n",
        "    if i > nb_words:\n",
        "        break\n",
        "    vector = word_vectors.get(word)\n",
        "    if vector is not None:\n",
        "        embedding_matrix[i] = vector"
      ],
      "metadata": {
        "id": "QCwfMKuX6xQw"
      },
      "execution_count": null,
      "outputs": []
    },
    {
      "cell_type": "markdown",
      "source": [
        "#### Fasttext Emb + BiLSTM"
      ],
      "metadata": {
        "id": "ict3KFYrLtAJ"
      }
    },
    {
      "cell_type": "code",
      "source": [
        "model= models.Sequential()\n",
        "model.add(layers.Embedding(wordIndex, 300, weights=[embedding_matrix], input_length=40))\n",
        "model.add(layers.Bidirectional((layers.LSTM(512))))\n",
        "model.add(Dropout(0.1))\n",
        "model.add(layers.Dense(5, activation='sigmoid'))"
      ],
      "metadata": {
        "id": "S7xKAgyt9GM5"
      },
      "execution_count": null,
      "outputs": []
    },
    {
      "cell_type": "code",
      "source": [
        "model.summary()"
      ],
      "metadata": {
        "colab": {
          "base_uri": "https://localhost:8080/"
        },
        "outputId": "d006de9b-cf65-410c-cfd9-018e1574a2e8",
        "id": "e0rkO6WTCRyK"
      },
      "execution_count": null,
      "outputs": [
        {
          "output_type": "stream",
          "name": "stdout",
          "text": [
            "Model: \"sequential\"\n",
            "_________________________________________________________________\n",
            " Layer (type)                Output Shape              Param #   \n",
            "=================================================================\n",
            " embedding (Embedding)       (None, 40, 300)           9777300   \n",
            "                                                                 \n",
            " bidirectional (Bidirectiona  (None, 1024)             3330048   \n",
            " l)                                                              \n",
            "                                                                 \n",
            " dropout (Dropout)           (None, 1024)              0         \n",
            "                                                                 \n",
            " dense (Dense)               (None, 5)                 5125      \n",
            "                                                                 \n",
            "=================================================================\n",
            "Total params: 13,112,473\n",
            "Trainable params: 13,112,473\n",
            "Non-trainable params: 0\n",
            "_________________________________________________________________\n"
          ]
        }
      ]
    },
    {
      "cell_type": "code",
      "source": [
        "metric = tfa.metrics.FBetaScore(num_classes=5, beta=2.0, threshold=0.5)"
      ],
      "metadata": {
        "id": "NWdn0JMVYepB"
      },
      "execution_count": null,
      "outputs": []
    },
    {
      "cell_type": "code",
      "source": [
        "model.compile(loss='categorical_crossentropy', optimizer=keras.optimizers.Adam(learning_rate=1e-05),\n",
        "              metrics=[metric])\n"
      ],
      "metadata": {
        "id": "yJbtVfRYCRyM"
      },
      "execution_count": null,
      "outputs": []
    },
    {
      "cell_type": "code",
      "source": [
        "history = model.fit(X_train ,y_train, batch_size=250, epochs=100, validation_split=0.2,)"
      ],
      "metadata": {
        "colab": {
          "base_uri": "https://localhost:8080/"
        },
        "outputId": "00b3d528-6249-464f-b9f3-6462d60fa3a2",
        "id": "hmVnmNDoCRyN"
      },
      "execution_count": null,
      "outputs": [
        {
          "output_type": "stream",
          "name": "stdout",
          "text": [
            "Epoch 1/100\n",
            "131/131 [==============================] - 19s 85ms/step - loss: 1.5909 - fbeta_score: 0.2938 - val_loss: 1.5714 - val_fbeta_score: 0.2515\n",
            "Epoch 2/100\n",
            "131/131 [==============================] - 10s 79ms/step - loss: 1.5562 - fbeta_score: 0.3364 - val_loss: 1.5374 - val_fbeta_score: 0.4461\n",
            "Epoch 3/100\n",
            "131/131 [==============================] - 10s 80ms/step - loss: 1.4985 - fbeta_score: 0.5110 - val_loss: 1.4489 - val_fbeta_score: 0.5355\n",
            "Epoch 4/100\n",
            "131/131 [==============================] - 11s 81ms/step - loss: 1.4030 - fbeta_score: 0.5709 - val_loss: 1.3483 - val_fbeta_score: 0.5886\n",
            "Epoch 5/100\n",
            "131/131 [==============================] - 11s 83ms/step - loss: 1.3112 - fbeta_score: 0.6173 - val_loss: 1.2908 - val_fbeta_score: 0.6203\n",
            "Epoch 6/100\n",
            "131/131 [==============================] - 11s 86ms/step - loss: 1.2571 - fbeta_score: 0.6393 - val_loss: 1.2586 - val_fbeta_score: 0.6278\n",
            "Epoch 7/100\n",
            "131/131 [==============================] - 11s 83ms/step - loss: 1.2178 - fbeta_score: 0.6528 - val_loss: 1.2322 - val_fbeta_score: 0.6442\n",
            "Epoch 8/100\n",
            "131/131 [==============================] - 11s 84ms/step - loss: 1.1788 - fbeta_score: 0.6638 - val_loss: 1.1838 - val_fbeta_score: 0.6527\n",
            "Epoch 9/100\n",
            "131/131 [==============================] - 11s 88ms/step - loss: 1.1406 - fbeta_score: 0.6725 - val_loss: 1.1619 - val_fbeta_score: 0.6647\n",
            "Epoch 10/100\n",
            "131/131 [==============================] - 12s 88ms/step - loss: 1.1061 - fbeta_score: 0.6815 - val_loss: 1.1246 - val_fbeta_score: 0.6685\n",
            "Epoch 11/100\n",
            "131/131 [==============================] - 11s 88ms/step - loss: 1.0698 - fbeta_score: 0.6894 - val_loss: 1.1045 - val_fbeta_score: 0.6817\n",
            "Epoch 12/100\n",
            "131/131 [==============================] - 11s 86ms/step - loss: 1.0392 - fbeta_score: 0.6976 - val_loss: 1.0861 - val_fbeta_score: 0.6794\n",
            "Epoch 13/100\n",
            "131/131 [==============================] - 11s 87ms/step - loss: 1.0132 - fbeta_score: 0.7029 - val_loss: 1.0689 - val_fbeta_score: 0.6873\n",
            "Epoch 14/100\n",
            "131/131 [==============================] - 11s 86ms/step - loss: 0.9932 - fbeta_score: 0.7063 - val_loss: 1.0472 - val_fbeta_score: 0.6938\n",
            "Epoch 15/100\n",
            "131/131 [==============================] - 11s 86ms/step - loss: 0.9711 - fbeta_score: 0.7109 - val_loss: 1.0395 - val_fbeta_score: 0.6972\n",
            "Epoch 16/100\n",
            "131/131 [==============================] - 11s 86ms/step - loss: 0.9534 - fbeta_score: 0.7146 - val_loss: 1.0200 - val_fbeta_score: 0.6983\n",
            "Epoch 17/100\n",
            "131/131 [==============================] - 11s 87ms/step - loss: 0.9341 - fbeta_score: 0.7176 - val_loss: 1.0088 - val_fbeta_score: 0.7024\n",
            "Epoch 18/100\n",
            "131/131 [==============================] - 11s 86ms/step - loss: 0.9170 - fbeta_score: 0.7205 - val_loss: 1.0000 - val_fbeta_score: 0.7025\n",
            "Epoch 19/100\n",
            "131/131 [==============================] - 11s 87ms/step - loss: 0.9013 - fbeta_score: 0.7222 - val_loss: 0.9906 - val_fbeta_score: 0.7064\n",
            "Epoch 20/100\n",
            "131/131 [==============================] - 11s 86ms/step - loss: 0.8842 - fbeta_score: 0.7254 - val_loss: 0.9823 - val_fbeta_score: 0.7097\n",
            "Epoch 21/100\n",
            "131/131 [==============================] - 11s 87ms/step - loss: 0.8694 - fbeta_score: 0.7277 - val_loss: 0.9775 - val_fbeta_score: 0.7094\n",
            "Epoch 22/100\n",
            "131/131 [==============================] - 11s 86ms/step - loss: 0.8588 - fbeta_score: 0.7290 - val_loss: 0.9647 - val_fbeta_score: 0.7133\n",
            "Epoch 23/100\n",
            "131/131 [==============================] - 11s 86ms/step - loss: 0.8423 - fbeta_score: 0.7321 - val_loss: 0.9599 - val_fbeta_score: 0.7138\n",
            "Epoch 24/100\n",
            "131/131 [==============================] - 11s 86ms/step - loss: 0.8314 - fbeta_score: 0.7331 - val_loss: 0.9491 - val_fbeta_score: 0.7200\n",
            "Epoch 25/100\n",
            "131/131 [==============================] - 11s 86ms/step - loss: 0.8187 - fbeta_score: 0.7350 - val_loss: 0.9466 - val_fbeta_score: 0.7194\n",
            "Epoch 26/100\n",
            "131/131 [==============================] - 11s 86ms/step - loss: 0.8077 - fbeta_score: 0.7364 - val_loss: 0.9370 - val_fbeta_score: 0.7206\n",
            "Epoch 27/100\n",
            "131/131 [==============================] - 11s 86ms/step - loss: 0.7975 - fbeta_score: 0.7380 - val_loss: 0.9422 - val_fbeta_score: 0.7187\n",
            "Epoch 28/100\n",
            "131/131 [==============================] - 11s 86ms/step - loss: 0.7872 - fbeta_score: 0.7398 - val_loss: 0.9313 - val_fbeta_score: 0.7218\n",
            "Epoch 29/100\n",
            "131/131 [==============================] - 11s 86ms/step - loss: 0.7768 - fbeta_score: 0.7413 - val_loss: 0.9315 - val_fbeta_score: 0.7207\n",
            "Epoch 30/100\n",
            "131/131 [==============================] - 11s 86ms/step - loss: 0.7703 - fbeta_score: 0.7417 - val_loss: 0.9390 - val_fbeta_score: 0.7212\n",
            "Epoch 31/100\n",
            "131/131 [==============================] - 11s 86ms/step - loss: 0.7598 - fbeta_score: 0.7430 - val_loss: 0.9270 - val_fbeta_score: 0.7230\n",
            "Epoch 32/100\n",
            "131/131 [==============================] - 11s 86ms/step - loss: 0.7500 - fbeta_score: 0.7445 - val_loss: 0.9231 - val_fbeta_score: 0.7239\n",
            "Epoch 33/100\n",
            "131/131 [==============================] - 11s 87ms/step - loss: 0.7458 - fbeta_score: 0.7443 - val_loss: 0.9255 - val_fbeta_score: 0.7236\n",
            "Epoch 34/100\n",
            "131/131 [==============================] - 11s 86ms/step - loss: 0.7354 - fbeta_score: 0.7463 - val_loss: 0.9243 - val_fbeta_score: 0.7259\n",
            "Epoch 35/100\n",
            "131/131 [==============================] - 11s 86ms/step - loss: 0.7289 - fbeta_score: 0.7472 - val_loss: 0.9203 - val_fbeta_score: 0.7261\n",
            "Epoch 36/100\n",
            "131/131 [==============================] - 11s 86ms/step - loss: 0.7235 - fbeta_score: 0.7477 - val_loss: 0.9420 - val_fbeta_score: 0.7240\n",
            "Epoch 37/100\n",
            "131/131 [==============================] - 11s 86ms/step - loss: 0.7152 - fbeta_score: 0.7481 - val_loss: 0.9200 - val_fbeta_score: 0.7282\n",
            "Epoch 38/100\n",
            "131/131 [==============================] - 11s 87ms/step - loss: 0.7111 - fbeta_score: 0.7492 - val_loss: 0.9474 - val_fbeta_score: 0.7289\n",
            "Epoch 39/100\n",
            "131/131 [==============================] - 11s 86ms/step - loss: 0.7040 - fbeta_score: 0.7495 - val_loss: 0.9249 - val_fbeta_score: 0.7247\n",
            "Epoch 40/100\n",
            "131/131 [==============================] - 11s 85ms/step - loss: 0.6973 - fbeta_score: 0.7514 - val_loss: 0.9224 - val_fbeta_score: 0.7283\n",
            "Epoch 41/100\n",
            "131/131 [==============================] - 11s 86ms/step - loss: 0.6904 - fbeta_score: 0.7522 - val_loss: 0.9385 - val_fbeta_score: 0.7271\n",
            "Epoch 42/100\n",
            "131/131 [==============================] - 11s 87ms/step - loss: 0.6879 - fbeta_score: 0.7525 - val_loss: 0.9214 - val_fbeta_score: 0.7273\n",
            "Epoch 43/100\n",
            "131/131 [==============================] - 11s 86ms/step - loss: 0.6844 - fbeta_score: 0.7535 - val_loss: 0.9316 - val_fbeta_score: 0.7307\n",
            "Epoch 44/100\n",
            "131/131 [==============================] - 11s 86ms/step - loss: 0.6757 - fbeta_score: 0.7542 - val_loss: 0.9361 - val_fbeta_score: 0.7301\n",
            "Epoch 45/100\n",
            "131/131 [==============================] - 11s 86ms/step - loss: 0.6729 - fbeta_score: 0.7543 - val_loss: 0.9311 - val_fbeta_score: 0.7272\n",
            "Epoch 46/100\n",
            "131/131 [==============================] - 11s 87ms/step - loss: 0.6657 - fbeta_score: 0.7559 - val_loss: 0.9378 - val_fbeta_score: 0.7311\n",
            "Epoch 47/100\n",
            "131/131 [==============================] - 11s 87ms/step - loss: 0.6627 - fbeta_score: 0.7556 - val_loss: 0.9404 - val_fbeta_score: 0.7311\n",
            "Epoch 48/100\n",
            "131/131 [==============================] - 12s 88ms/step - loss: 0.6548 - fbeta_score: 0.7563 - val_loss: 0.9466 - val_fbeta_score: 0.7315\n",
            "Epoch 49/100\n",
            "131/131 [==============================] - 11s 86ms/step - loss: 0.6503 - fbeta_score: 0.7579 - val_loss: 0.9513 - val_fbeta_score: 0.7316\n",
            "Epoch 50/100\n",
            "131/131 [==============================] - 11s 86ms/step - loss: 0.6473 - fbeta_score: 0.7585 - val_loss: 0.9375 - val_fbeta_score: 0.7297\n",
            "Epoch 51/100\n",
            "131/131 [==============================] - 11s 86ms/step - loss: 0.6459 - fbeta_score: 0.7589 - val_loss: 0.9388 - val_fbeta_score: 0.7303\n",
            "Epoch 52/100\n",
            "131/131 [==============================] - 11s 86ms/step - loss: 0.6410 - fbeta_score: 0.7586 - val_loss: 0.9616 - val_fbeta_score: 0.7308\n",
            "Epoch 53/100\n",
            "131/131 [==============================] - 11s 86ms/step - loss: 0.6343 - fbeta_score: 0.7603 - val_loss: 0.9536 - val_fbeta_score: 0.7292\n",
            "Epoch 54/100\n",
            "131/131 [==============================] - 11s 86ms/step - loss: 0.6321 - fbeta_score: 0.7600 - val_loss: 0.9500 - val_fbeta_score: 0.7298\n",
            "Epoch 55/100\n",
            "131/131 [==============================] - 11s 86ms/step - loss: 0.6289 - fbeta_score: 0.7610 - val_loss: 0.9597 - val_fbeta_score: 0.7305\n",
            "Epoch 56/100\n",
            "131/131 [==============================] - 11s 87ms/step - loss: 0.6218 - fbeta_score: 0.7616 - val_loss: 0.9715 - val_fbeta_score: 0.7288\n",
            "Epoch 57/100\n",
            "131/131 [==============================] - 11s 86ms/step - loss: 0.6174 - fbeta_score: 0.7626 - val_loss: 0.9706 - val_fbeta_score: 0.7307\n",
            "Epoch 58/100\n",
            "131/131 [==============================] - 11s 87ms/step - loss: 0.6162 - fbeta_score: 0.7639 - val_loss: 0.9758 - val_fbeta_score: 0.7330\n",
            "Epoch 59/100\n",
            "131/131 [==============================] - 11s 86ms/step - loss: 0.6120 - fbeta_score: 0.7635 - val_loss: 0.9687 - val_fbeta_score: 0.7273\n",
            "Epoch 60/100\n",
            "131/131 [==============================] - 11s 86ms/step - loss: 0.6086 - fbeta_score: 0.7640 - val_loss: 0.9814 - val_fbeta_score: 0.7327\n",
            "Epoch 61/100\n",
            "131/131 [==============================] - 11s 87ms/step - loss: 0.6056 - fbeta_score: 0.7640 - val_loss: 0.9863 - val_fbeta_score: 0.7323\n",
            "Epoch 62/100\n",
            "131/131 [==============================] - 11s 87ms/step - loss: 0.6023 - fbeta_score: 0.7647 - val_loss: 0.9928 - val_fbeta_score: 0.7305\n",
            "Epoch 63/100\n",
            "131/131 [==============================] - 11s 86ms/step - loss: 0.5962 - fbeta_score: 0.7652 - val_loss: 1.0021 - val_fbeta_score: 0.7330\n",
            "Epoch 64/100\n",
            "131/131 [==============================] - 11s 86ms/step - loss: 0.5952 - fbeta_score: 0.7662 - val_loss: 0.9985 - val_fbeta_score: 0.7309\n",
            "Epoch 65/100\n",
            "131/131 [==============================] - 11s 86ms/step - loss: 0.5917 - fbeta_score: 0.7664 - val_loss: 0.9940 - val_fbeta_score: 0.7322\n",
            "Epoch 66/100\n",
            "131/131 [==============================] - 11s 86ms/step - loss: 0.5917 - fbeta_score: 0.7660 - val_loss: 1.0113 - val_fbeta_score: 0.7326\n",
            "Epoch 67/100\n",
            "131/131 [==============================] - 11s 86ms/step - loss: 0.5889 - fbeta_score: 0.7668 - val_loss: 1.0173 - val_fbeta_score: 0.7314\n",
            "Epoch 68/100\n",
            "131/131 [==============================] - 11s 86ms/step - loss: 0.5842 - fbeta_score: 0.7672 - val_loss: 1.0110 - val_fbeta_score: 0.7311\n",
            "Epoch 69/100\n",
            "131/131 [==============================] - 11s 86ms/step - loss: 0.5852 - fbeta_score: 0.7670 - val_loss: 1.0125 - val_fbeta_score: 0.7331\n",
            "Epoch 70/100\n",
            "131/131 [==============================] - 11s 86ms/step - loss: 0.5789 - fbeta_score: 0.7681 - val_loss: 1.0070 - val_fbeta_score: 0.7316\n",
            "Epoch 71/100\n",
            "131/131 [==============================] - 11s 86ms/step - loss: 0.5797 - fbeta_score: 0.7689 - val_loss: 1.0106 - val_fbeta_score: 0.7322\n",
            "Epoch 72/100\n",
            "131/131 [==============================] - 11s 86ms/step - loss: 0.5733 - fbeta_score: 0.7688 - val_loss: 1.0253 - val_fbeta_score: 0.7332\n",
            "Epoch 73/100\n",
            "131/131 [==============================] - 11s 86ms/step - loss: 0.5726 - fbeta_score: 0.7682 - val_loss: 1.0352 - val_fbeta_score: 0.7314\n",
            "Epoch 74/100\n",
            "131/131 [==============================] - 11s 86ms/step - loss: 0.5673 - fbeta_score: 0.7694 - val_loss: 1.0280 - val_fbeta_score: 0.7295\n",
            "Epoch 75/100\n",
            "131/131 [==============================] - 11s 86ms/step - loss: 0.5652 - fbeta_score: 0.7698 - val_loss: 1.0340 - val_fbeta_score: 0.7293\n",
            "Epoch 76/100\n",
            "131/131 [==============================] - 11s 86ms/step - loss: 0.5668 - fbeta_score: 0.7694 - val_loss: 1.0293 - val_fbeta_score: 0.7318\n",
            "Epoch 77/100\n",
            "131/131 [==============================] - 11s 87ms/step - loss: 0.5610 - fbeta_score: 0.7706 - val_loss: 1.0455 - val_fbeta_score: 0.7328\n",
            "Epoch 78/100\n",
            "131/131 [==============================] - 11s 86ms/step - loss: 0.5606 - fbeta_score: 0.7713 - val_loss: 1.0480 - val_fbeta_score: 0.7305\n",
            "Epoch 79/100\n",
            "131/131 [==============================] - 11s 86ms/step - loss: 0.5562 - fbeta_score: 0.7706 - val_loss: 1.0670 - val_fbeta_score: 0.7330\n",
            "Epoch 80/100\n",
            "131/131 [==============================] - 11s 86ms/step - loss: 0.5553 - fbeta_score: 0.7716 - val_loss: 1.0562 - val_fbeta_score: 0.7269\n",
            "Epoch 81/100\n",
            "131/131 [==============================] - 11s 86ms/step - loss: 0.5547 - fbeta_score: 0.7718 - val_loss: 1.0423 - val_fbeta_score: 0.7267\n",
            "Epoch 82/100\n",
            "131/131 [==============================] - 11s 87ms/step - loss: 0.5532 - fbeta_score: 0.7715 - val_loss: 1.0591 - val_fbeta_score: 0.7305\n",
            "Epoch 83/100\n",
            "131/131 [==============================] - 11s 87ms/step - loss: 0.5481 - fbeta_score: 0.7721 - val_loss: 1.0852 - val_fbeta_score: 0.7334\n",
            "Epoch 84/100\n",
            "131/131 [==============================] - 11s 87ms/step - loss: 0.5449 - fbeta_score: 0.7724 - val_loss: 1.0751 - val_fbeta_score: 0.7296\n",
            "Epoch 85/100\n",
            "131/131 [==============================] - 11s 86ms/step - loss: 0.5457 - fbeta_score: 0.7735 - val_loss: 1.0819 - val_fbeta_score: 0.7332\n",
            "Epoch 86/100\n",
            "131/131 [==============================] - 11s 86ms/step - loss: 0.5465 - fbeta_score: 0.7720 - val_loss: 1.0808 - val_fbeta_score: 0.7300\n",
            "Epoch 87/100\n",
            "131/131 [==============================] - 12s 91ms/step - loss: 0.5469 - fbeta_score: 0.7729 - val_loss: 1.0696 - val_fbeta_score: 0.7297\n",
            "Epoch 88/100\n",
            "131/131 [==============================] - 11s 86ms/step - loss: 0.5456 - fbeta_score: 0.7740 - val_loss: 1.0779 - val_fbeta_score: 0.7328\n",
            "Epoch 89/100\n",
            "131/131 [==============================] - 11s 86ms/step - loss: 0.5464 - fbeta_score: 0.7726 - val_loss: 1.0775 - val_fbeta_score: 0.7324\n",
            "Epoch 90/100\n",
            "131/131 [==============================] - 11s 87ms/step - loss: 0.5366 - fbeta_score: 0.7731 - val_loss: 1.0959 - val_fbeta_score: 0.7331\n",
            "Epoch 91/100\n",
            "131/131 [==============================] - 11s 86ms/step - loss: 0.5305 - fbeta_score: 0.7734 - val_loss: 1.0951 - val_fbeta_score: 0.7296\n",
            "Epoch 92/100\n",
            "131/131 [==============================] - 11s 86ms/step - loss: 0.5331 - fbeta_score: 0.7739 - val_loss: 1.0943 - val_fbeta_score: 0.7313\n",
            "Epoch 93/100\n",
            "131/131 [==============================] - 11s 86ms/step - loss: 0.5374 - fbeta_score: 0.7733 - val_loss: 1.0886 - val_fbeta_score: 0.7275\n",
            "Epoch 94/100\n",
            "131/131 [==============================] - 11s 88ms/step - loss: 0.5354 - fbeta_score: 0.7739 - val_loss: 1.0965 - val_fbeta_score: 0.7292\n",
            "Epoch 95/100\n",
            "131/131 [==============================] - 11s 86ms/step - loss: 0.5236 - fbeta_score: 0.7746 - val_loss: 1.1165 - val_fbeta_score: 0.7297\n",
            "Epoch 96/100\n",
            "131/131 [==============================] - 11s 86ms/step - loss: 0.5217 - fbeta_score: 0.7742 - val_loss: 1.0992 - val_fbeta_score: 0.7306\n",
            "Epoch 97/100\n",
            "131/131 [==============================] - 11s 86ms/step - loss: 0.5194 - fbeta_score: 0.7746 - val_loss: 1.1297 - val_fbeta_score: 0.7283\n",
            "Epoch 98/100\n",
            "131/131 [==============================] - 11s 86ms/step - loss: 0.5188 - fbeta_score: 0.7748 - val_loss: 1.1105 - val_fbeta_score: 0.7305\n",
            "Epoch 99/100\n",
            "131/131 [==============================] - 11s 86ms/step - loss: 0.5230 - fbeta_score: 0.7753 - val_loss: 1.1080 - val_fbeta_score: 0.7302\n",
            "Epoch 100/100\n",
            "131/131 [==============================] - 11s 86ms/step - loss: 0.5158 - fbeta_score: 0.7757 - val_loss: 1.1224 - val_fbeta_score: 0.7285\n"
          ]
        }
      ]
    },
    {
      "cell_type": "code",
      "source": [
        "y_pred = model.predict(X_test)"
      ],
      "metadata": {
        "colab": {
          "base_uri": "https://localhost:8080/"
        },
        "outputId": "04ff5cf6-f717-4df4-dc5c-ddc308be8931",
        "id": "eRhtjRDzcHY0"
      },
      "execution_count": null,
      "outputs": [
        {
          "output_type": "stream",
          "name": "stdout",
          "text": [
            "119/119 [==============================] - 1s 6ms/step\n"
          ]
        }
      ]
    },
    {
      "cell_type": "code",
      "source": [
        "print(classification_report(np.argmax(y_test, 1), np.argmax(y_pred, 1), digits=5))"
      ],
      "metadata": {
        "colab": {
          "base_uri": "https://localhost:8080/"
        },
        "outputId": "e866bb6c-8db7-4a77-a23a-3f6aff3e4352",
        "id": "ECm5Q0lqcHY1"
      },
      "execution_count": null,
      "outputs": [
        {
          "output_type": "stream",
          "name": "stdout",
          "text": [
            "              precision    recall  f1-score   support\n",
            "\n",
            "           0    0.68498   0.63390   0.65845       590\n",
            "           1    0.75593   0.74707   0.75147       597\n",
            "           2    0.55589   0.53558   0.54554      1040\n",
            "           3    0.68385   0.65139   0.66723       611\n",
            "           4    0.60432   0.67970   0.63980       946\n",
            "\n",
            "    accuracy                        0.63901      3784\n",
            "   macro avg    0.65699   0.64953   0.65250      3784\n",
            "weighted avg    0.64035   0.63901   0.63885      3784\n",
            "\n"
          ]
        }
      ]
    },
    {
      "cell_type": "markdown",
      "source": [
        "При использовании предобученных эмбеддингов получаем снижение качества (0.659 -> 0.638)"
      ],
      "metadata": {
        "id": "BDnablAP1O6-"
      }
    },
    {
      "cell_type": "markdown",
      "source": [
        "#### Fasttext Emb+Conv"
      ],
      "metadata": {
        "id": "ILY9HLHHz9IG"
      }
    },
    {
      "cell_type": "code",
      "source": [
        "model= models.Sequential()\n",
        "model.add(layers.Embedding(wordIndex, 300, weights=[embedding_matrix], input_length=40))\n",
        "\n",
        "model.add(layers.Conv1D(filters=512, kernel_size=3, activation='tanh'))\n",
        "model.add(layers.AveragePooling1D(pool_size=2))\n",
        "model.add(layers.Flatten())\n",
        "model.add(Dropout(0.1))\n",
        "model.add(layers.Dense(64, activation='tanh'))\n",
        "model.add(layers.Dense(5, activation='sigmoid'))"
      ],
      "metadata": {
        "id": "UI3AmkO1_Okc"
      },
      "execution_count": null,
      "outputs": []
    },
    {
      "cell_type": "code",
      "source": [
        "model.summary()"
      ],
      "metadata": {
        "colab": {
          "base_uri": "https://localhost:8080/"
        },
        "outputId": "2e2fb6d4-1423-4924-b656-9abaa9b61f45",
        "id": "8Qrh43zS_Oke"
      },
      "execution_count": null,
      "outputs": [
        {
          "output_type": "stream",
          "name": "stdout",
          "text": [
            "Model: \"sequential\"\n",
            "_________________________________________________________________\n",
            " Layer (type)                Output Shape              Param #   \n",
            "=================================================================\n",
            " embedding (Embedding)       (None, 40, 300)           9777300   \n",
            "                                                                 \n",
            " conv1d (Conv1D)             (None, 38, 512)           461312    \n",
            "                                                                 \n",
            " average_pooling1d (AverageP  (None, 19, 512)          0         \n",
            " ooling1D)                                                       \n",
            "                                                                 \n",
            " flatten (Flatten)           (None, 9728)              0         \n",
            "                                                                 \n",
            " dropout (Dropout)           (None, 9728)              0         \n",
            "                                                                 \n",
            " dense (Dense)               (None, 64)                622656    \n",
            "                                                                 \n",
            " dense_1 (Dense)             (None, 5)                 325       \n",
            "                                                                 \n",
            "=================================================================\n",
            "Total params: 10,861,593\n",
            "Trainable params: 10,861,593\n",
            "Non-trainable params: 0\n",
            "_________________________________________________________________\n"
          ]
        }
      ]
    },
    {
      "cell_type": "code",
      "source": [
        "metric = tfa.metrics.FBetaScore(num_classes=5, beta=2.0, threshold=0.5)"
      ],
      "metadata": {
        "id": "Jgt4E8oP_Okg"
      },
      "execution_count": null,
      "outputs": []
    },
    {
      "cell_type": "code",
      "source": [
        "model.compile(loss='categorical_crossentropy', optimizer=keras.optimizers.Adam(learning_rate=1e-05),\n",
        "              metrics=[metric])\n"
      ],
      "metadata": {
        "id": "JToONp7h_Okg"
      },
      "execution_count": null,
      "outputs": []
    },
    {
      "cell_type": "code",
      "source": [
        "history = model.fit(X_train ,y_train, batch_size=250, epochs=100, validation_split=0.2,)"
      ],
      "metadata": {
        "colab": {
          "base_uri": "https://localhost:8080/"
        },
        "outputId": "49a7efd0-27c8-4598-cddc-a94b545d2f84",
        "id": "2JlZeymu_Okg"
      },
      "execution_count": null,
      "outputs": [
        {
          "output_type": "stream",
          "name": "stdout",
          "text": [
            "Epoch 1/100\n",
            "131/131 [==============================] - 9s 22ms/step - loss: 1.5741 - fbeta_score: 0.3464 - val_loss: 1.5516 - val_fbeta_score: 0.3513\n",
            "Epoch 2/100\n",
            "131/131 [==============================] - 3s 19ms/step - loss: 1.5353 - fbeta_score: 0.3967 - val_loss: 1.5213 - val_fbeta_score: 0.4274\n",
            "Epoch 3/100\n",
            "131/131 [==============================] - 3s 19ms/step - loss: 1.5044 - fbeta_score: 0.4668 - val_loss: 1.4921 - val_fbeta_score: 0.4868\n",
            "Epoch 4/100\n",
            "131/131 [==============================] - 3s 19ms/step - loss: 1.4752 - fbeta_score: 0.5160 - val_loss: 1.4642 - val_fbeta_score: 0.5216\n",
            "Epoch 5/100\n",
            "131/131 [==============================] - 3s 19ms/step - loss: 1.4452 - fbeta_score: 0.5478 - val_loss: 1.4328 - val_fbeta_score: 0.5531\n",
            "Epoch 6/100\n",
            "131/131 [==============================] - 3s 20ms/step - loss: 1.4107 - fbeta_score: 0.5755 - val_loss: 1.3991 - val_fbeta_score: 0.5783\n",
            "Epoch 7/100\n",
            "131/131 [==============================] - 3s 19ms/step - loss: 1.3715 - fbeta_score: 0.5992 - val_loss: 1.3594 - val_fbeta_score: 0.5976\n",
            "Epoch 8/100\n",
            "131/131 [==============================] - 3s 19ms/step - loss: 1.3300 - fbeta_score: 0.6199 - val_loss: 1.3216 - val_fbeta_score: 0.6139\n",
            "Epoch 9/100\n",
            "131/131 [==============================] - 3s 21ms/step - loss: 1.2900 - fbeta_score: 0.6367 - val_loss: 1.2831 - val_fbeta_score: 0.6266\n",
            "Epoch 10/100\n",
            "131/131 [==============================] - 3s 19ms/step - loss: 1.2518 - fbeta_score: 0.6489 - val_loss: 1.2485 - val_fbeta_score: 0.6421\n",
            "Epoch 11/100\n",
            "131/131 [==============================] - 3s 20ms/step - loss: 1.2154 - fbeta_score: 0.6607 - val_loss: 1.2162 - val_fbeta_score: 0.6534\n",
            "Epoch 12/100\n",
            "131/131 [==============================] - 3s 21ms/step - loss: 1.1823 - fbeta_score: 0.6697 - val_loss: 1.1864 - val_fbeta_score: 0.6630\n",
            "Epoch 13/100\n",
            "131/131 [==============================] - 3s 21ms/step - loss: 1.1505 - fbeta_score: 0.6789 - val_loss: 1.1592 - val_fbeta_score: 0.6727\n",
            "Epoch 14/100\n",
            "131/131 [==============================] - 3s 19ms/step - loss: 1.1209 - fbeta_score: 0.6870 - val_loss: 1.1337 - val_fbeta_score: 0.6776\n",
            "Epoch 15/100\n",
            "131/131 [==============================] - 3s 20ms/step - loss: 1.0931 - fbeta_score: 0.6937 - val_loss: 1.1088 - val_fbeta_score: 0.6857\n",
            "Epoch 16/100\n",
            "131/131 [==============================] - 3s 19ms/step - loss: 1.0667 - fbeta_score: 0.6990 - val_loss: 1.0859 - val_fbeta_score: 0.6906\n",
            "Epoch 17/100\n",
            "131/131 [==============================] - 3s 20ms/step - loss: 1.0414 - fbeta_score: 0.7035 - val_loss: 1.0643 - val_fbeta_score: 0.6957\n",
            "Epoch 18/100\n",
            "131/131 [==============================] - 3s 20ms/step - loss: 1.0178 - fbeta_score: 0.7072 - val_loss: 1.0442 - val_fbeta_score: 0.6981\n",
            "Epoch 19/100\n",
            "131/131 [==============================] - 3s 20ms/step - loss: 0.9954 - fbeta_score: 0.7100 - val_loss: 1.0252 - val_fbeta_score: 0.7017\n",
            "Epoch 20/100\n",
            "131/131 [==============================] - 3s 21ms/step - loss: 0.9740 - fbeta_score: 0.7125 - val_loss: 1.0083 - val_fbeta_score: 0.7040\n",
            "Epoch 21/100\n",
            "131/131 [==============================] - 3s 21ms/step - loss: 0.9539 - fbeta_score: 0.7148 - val_loss: 0.9915 - val_fbeta_score: 0.7065\n",
            "Epoch 22/100\n",
            "131/131 [==============================] - 3s 21ms/step - loss: 0.9350 - fbeta_score: 0.7168 - val_loss: 0.9759 - val_fbeta_score: 0.7084\n",
            "Epoch 23/100\n",
            "131/131 [==============================] - 3s 20ms/step - loss: 0.9176 - fbeta_score: 0.7181 - val_loss: 0.9613 - val_fbeta_score: 0.7113\n",
            "Epoch 24/100\n",
            "131/131 [==============================] - 3s 20ms/step - loss: 0.9007 - fbeta_score: 0.7197 - val_loss: 0.9497 - val_fbeta_score: 0.7114\n",
            "Epoch 25/100\n",
            "131/131 [==============================] - 3s 21ms/step - loss: 0.8848 - fbeta_score: 0.7211 - val_loss: 0.9377 - val_fbeta_score: 0.7119\n",
            "Epoch 26/100\n",
            "131/131 [==============================] - 3s 21ms/step - loss: 0.8702 - fbeta_score: 0.7215 - val_loss: 0.9250 - val_fbeta_score: 0.7138\n",
            "Epoch 27/100\n",
            "131/131 [==============================] - 3s 20ms/step - loss: 0.8559 - fbeta_score: 0.7224 - val_loss: 0.9143 - val_fbeta_score: 0.7142\n",
            "Epoch 28/100\n",
            "131/131 [==============================] - 3s 20ms/step - loss: 0.8427 - fbeta_score: 0.7231 - val_loss: 0.9049 - val_fbeta_score: 0.7155\n",
            "Epoch 29/100\n",
            "131/131 [==============================] - 3s 20ms/step - loss: 0.8307 - fbeta_score: 0.7236 - val_loss: 0.8961 - val_fbeta_score: 0.7147\n",
            "Epoch 30/100\n",
            "131/131 [==============================] - 3s 20ms/step - loss: 0.8188 - fbeta_score: 0.7244 - val_loss: 0.8882 - val_fbeta_score: 0.7161\n",
            "Epoch 31/100\n",
            "131/131 [==============================] - 3s 20ms/step - loss: 0.8076 - fbeta_score: 0.7248 - val_loss: 0.8811 - val_fbeta_score: 0.7167\n",
            "Epoch 32/100\n",
            "131/131 [==============================] - 3s 20ms/step - loss: 0.7969 - fbeta_score: 0.7257 - val_loss: 0.8724 - val_fbeta_score: 0.7162\n",
            "Epoch 33/100\n",
            "131/131 [==============================] - 3s 21ms/step - loss: 0.7871 - fbeta_score: 0.7260 - val_loss: 0.8672 - val_fbeta_score: 0.7168\n",
            "Epoch 34/100\n",
            "131/131 [==============================] - 3s 20ms/step - loss: 0.7772 - fbeta_score: 0.7260 - val_loss: 0.8610 - val_fbeta_score: 0.7167\n",
            "Epoch 35/100\n",
            "131/131 [==============================] - 3s 21ms/step - loss: 0.7685 - fbeta_score: 0.7267 - val_loss: 0.8543 - val_fbeta_score: 0.7171\n",
            "Epoch 36/100\n",
            "131/131 [==============================] - 3s 20ms/step - loss: 0.7600 - fbeta_score: 0.7272 - val_loss: 0.8508 - val_fbeta_score: 0.7173\n",
            "Epoch 37/100\n",
            "131/131 [==============================] - 3s 20ms/step - loss: 0.7515 - fbeta_score: 0.7278 - val_loss: 0.8453 - val_fbeta_score: 0.7176\n",
            "Epoch 38/100\n",
            "131/131 [==============================] - 3s 20ms/step - loss: 0.7438 - fbeta_score: 0.7284 - val_loss: 0.8403 - val_fbeta_score: 0.7182\n",
            "Epoch 39/100\n",
            "131/131 [==============================] - 3s 20ms/step - loss: 0.7361 - fbeta_score: 0.7287 - val_loss: 0.8384 - val_fbeta_score: 0.7180\n",
            "Epoch 40/100\n",
            "131/131 [==============================] - 3s 20ms/step - loss: 0.7291 - fbeta_score: 0.7287 - val_loss: 0.8353 - val_fbeta_score: 0.7189\n",
            "Epoch 41/100\n",
            "131/131 [==============================] - 3s 20ms/step - loss: 0.7218 - fbeta_score: 0.7294 - val_loss: 0.8296 - val_fbeta_score: 0.7187\n",
            "Epoch 42/100\n",
            "131/131 [==============================] - 3s 21ms/step - loss: 0.7156 - fbeta_score: 0.7298 - val_loss: 0.8259 - val_fbeta_score: 0.7183\n",
            "Epoch 43/100\n",
            "131/131 [==============================] - 3s 20ms/step - loss: 0.7091 - fbeta_score: 0.7301 - val_loss: 0.8241 - val_fbeta_score: 0.7177\n",
            "Epoch 44/100\n",
            "131/131 [==============================] - 3s 21ms/step - loss: 0.7029 - fbeta_score: 0.7303 - val_loss: 0.8215 - val_fbeta_score: 0.7177\n",
            "Epoch 45/100\n",
            "131/131 [==============================] - 3s 20ms/step - loss: 0.6975 - fbeta_score: 0.7307 - val_loss: 0.8185 - val_fbeta_score: 0.7187\n",
            "Epoch 46/100\n",
            "131/131 [==============================] - 3s 20ms/step - loss: 0.6916 - fbeta_score: 0.7312 - val_loss: 0.8163 - val_fbeta_score: 0.7187\n",
            "Epoch 47/100\n",
            "131/131 [==============================] - 3s 21ms/step - loss: 0.6859 - fbeta_score: 0.7314 - val_loss: 0.8140 - val_fbeta_score: 0.7191\n",
            "Epoch 48/100\n",
            "131/131 [==============================] - 3s 21ms/step - loss: 0.6809 - fbeta_score: 0.7317 - val_loss: 0.8129 - val_fbeta_score: 0.7186\n",
            "Epoch 49/100\n",
            "131/131 [==============================] - 3s 21ms/step - loss: 0.6760 - fbeta_score: 0.7318 - val_loss: 0.8116 - val_fbeta_score: 0.7194\n",
            "Epoch 50/100\n",
            "131/131 [==============================] - 3s 20ms/step - loss: 0.6709 - fbeta_score: 0.7320 - val_loss: 0.8094 - val_fbeta_score: 0.7193\n",
            "Epoch 51/100\n",
            "131/131 [==============================] - 3s 20ms/step - loss: 0.6661 - fbeta_score: 0.7324 - val_loss: 0.8091 - val_fbeta_score: 0.7197\n",
            "Epoch 52/100\n",
            "131/131 [==============================] - 3s 21ms/step - loss: 0.6618 - fbeta_score: 0.7324 - val_loss: 0.8065 - val_fbeta_score: 0.7200\n",
            "Epoch 53/100\n",
            "131/131 [==============================] - 3s 21ms/step - loss: 0.6570 - fbeta_score: 0.7326 - val_loss: 0.8050 - val_fbeta_score: 0.7201\n",
            "Epoch 54/100\n",
            "131/131 [==============================] - 3s 20ms/step - loss: 0.6528 - fbeta_score: 0.7333 - val_loss: 0.8050 - val_fbeta_score: 0.7204\n",
            "Epoch 55/100\n",
            "131/131 [==============================] - 3s 21ms/step - loss: 0.6489 - fbeta_score: 0.7330 - val_loss: 0.8034 - val_fbeta_score: 0.7207\n",
            "Epoch 56/100\n",
            "131/131 [==============================] - 3s 23ms/step - loss: 0.6451 - fbeta_score: 0.7335 - val_loss: 0.8039 - val_fbeta_score: 0.7205\n",
            "Epoch 57/100\n",
            "131/131 [==============================] - 3s 22ms/step - loss: 0.6409 - fbeta_score: 0.7333 - val_loss: 0.8017 - val_fbeta_score: 0.7206\n",
            "Epoch 58/100\n",
            "131/131 [==============================] - 3s 22ms/step - loss: 0.6366 - fbeta_score: 0.7338 - val_loss: 0.8009 - val_fbeta_score: 0.7194\n",
            "Epoch 59/100\n",
            "131/131 [==============================] - 3s 21ms/step - loss: 0.6332 - fbeta_score: 0.7342 - val_loss: 0.8007 - val_fbeta_score: 0.7198\n",
            "Epoch 60/100\n",
            "131/131 [==============================] - 3s 22ms/step - loss: 0.6295 - fbeta_score: 0.7343 - val_loss: 0.8006 - val_fbeta_score: 0.7199\n",
            "Epoch 61/100\n",
            "131/131 [==============================] - 3s 22ms/step - loss: 0.6261 - fbeta_score: 0.7343 - val_loss: 0.8002 - val_fbeta_score: 0.7205\n",
            "Epoch 62/100\n",
            "131/131 [==============================] - 3s 22ms/step - loss: 0.6223 - fbeta_score: 0.7345 - val_loss: 0.7994 - val_fbeta_score: 0.7205\n",
            "Epoch 63/100\n",
            "131/131 [==============================] - 3s 21ms/step - loss: 0.6194 - fbeta_score: 0.7349 - val_loss: 0.7991 - val_fbeta_score: 0.7202\n",
            "Epoch 64/100\n",
            "131/131 [==============================] - 3s 20ms/step - loss: 0.6155 - fbeta_score: 0.7347 - val_loss: 0.7991 - val_fbeta_score: 0.7210\n",
            "Epoch 65/100\n",
            "131/131 [==============================] - 3s 20ms/step - loss: 0.6124 - fbeta_score: 0.7355 - val_loss: 0.7987 - val_fbeta_score: 0.7203\n",
            "Epoch 66/100\n",
            "131/131 [==============================] - 3s 20ms/step - loss: 0.6092 - fbeta_score: 0.7359 - val_loss: 0.7986 - val_fbeta_score: 0.7197\n",
            "Epoch 67/100\n",
            "131/131 [==============================] - 3s 22ms/step - loss: 0.6060 - fbeta_score: 0.7357 - val_loss: 0.7979 - val_fbeta_score: 0.7202\n",
            "Epoch 68/100\n",
            "131/131 [==============================] - 3s 21ms/step - loss: 0.6036 - fbeta_score: 0.7361 - val_loss: 0.7979 - val_fbeta_score: 0.7202\n",
            "Epoch 69/100\n",
            "131/131 [==============================] - 3s 22ms/step - loss: 0.6001 - fbeta_score: 0.7363 - val_loss: 0.7981 - val_fbeta_score: 0.7208\n",
            "Epoch 70/100\n",
            "131/131 [==============================] - 3s 20ms/step - loss: 0.5967 - fbeta_score: 0.7361 - val_loss: 0.7977 - val_fbeta_score: 0.7205\n",
            "Epoch 71/100\n",
            "131/131 [==============================] - 3s 21ms/step - loss: 0.5942 - fbeta_score: 0.7368 - val_loss: 0.7991 - val_fbeta_score: 0.7213\n",
            "Epoch 72/100\n",
            "131/131 [==============================] - 3s 20ms/step - loss: 0.5915 - fbeta_score: 0.7366 - val_loss: 0.7996 - val_fbeta_score: 0.7218\n",
            "Epoch 73/100\n",
            "131/131 [==============================] - 3s 22ms/step - loss: 0.5881 - fbeta_score: 0.7371 - val_loss: 0.7997 - val_fbeta_score: 0.7210\n",
            "Epoch 74/100\n",
            "131/131 [==============================] - 3s 20ms/step - loss: 0.5860 - fbeta_score: 0.7370 - val_loss: 0.8003 - val_fbeta_score: 0.7213\n",
            "Epoch 75/100\n",
            "131/131 [==============================] - 3s 20ms/step - loss: 0.5831 - fbeta_score: 0.7371 - val_loss: 0.8009 - val_fbeta_score: 0.7209\n",
            "Epoch 76/100\n",
            "131/131 [==============================] - 3s 21ms/step - loss: 0.5805 - fbeta_score: 0.7375 - val_loss: 0.8008 - val_fbeta_score: 0.7206\n",
            "Epoch 77/100\n",
            "131/131 [==============================] - 3s 20ms/step - loss: 0.5776 - fbeta_score: 0.7376 - val_loss: 0.8006 - val_fbeta_score: 0.7210\n",
            "Epoch 78/100\n",
            "131/131 [==============================] - 3s 20ms/step - loss: 0.5748 - fbeta_score: 0.7379 - val_loss: 0.8010 - val_fbeta_score: 0.7212\n",
            "Epoch 79/100\n",
            "131/131 [==============================] - 3s 20ms/step - loss: 0.5725 - fbeta_score: 0.7380 - val_loss: 0.8019 - val_fbeta_score: 0.7207\n",
            "Epoch 80/100\n",
            "131/131 [==============================] - 3s 22ms/step - loss: 0.5702 - fbeta_score: 0.7380 - val_loss: 0.8021 - val_fbeta_score: 0.7208\n",
            "Epoch 81/100\n",
            "131/131 [==============================] - 3s 21ms/step - loss: 0.5679 - fbeta_score: 0.7380 - val_loss: 0.8036 - val_fbeta_score: 0.7210\n",
            "Epoch 82/100\n",
            "131/131 [==============================] - 3s 20ms/step - loss: 0.5648 - fbeta_score: 0.7387 - val_loss: 0.8040 - val_fbeta_score: 0.7209\n",
            "Epoch 83/100\n",
            "131/131 [==============================] - 3s 22ms/step - loss: 0.5622 - fbeta_score: 0.7387 - val_loss: 0.8046 - val_fbeta_score: 0.7211\n",
            "Epoch 84/100\n",
            "131/131 [==============================] - 3s 22ms/step - loss: 0.5600 - fbeta_score: 0.7387 - val_loss: 0.8052 - val_fbeta_score: 0.7203\n",
            "Epoch 85/100\n",
            "131/131 [==============================] - 3s 20ms/step - loss: 0.5578 - fbeta_score: 0.7392 - val_loss: 0.8061 - val_fbeta_score: 0.7196\n",
            "Epoch 86/100\n",
            "131/131 [==============================] - 3s 20ms/step - loss: 0.5550 - fbeta_score: 0.7390 - val_loss: 0.8058 - val_fbeta_score: 0.7211\n",
            "Epoch 87/100\n",
            "131/131 [==============================] - 3s 20ms/step - loss: 0.5526 - fbeta_score: 0.7392 - val_loss: 0.8071 - val_fbeta_score: 0.7209\n",
            "Epoch 88/100\n",
            "131/131 [==============================] - 3s 21ms/step - loss: 0.5507 - fbeta_score: 0.7396 - val_loss: 0.8085 - val_fbeta_score: 0.7204\n",
            "Epoch 89/100\n",
            "131/131 [==============================] - 3s 21ms/step - loss: 0.5482 - fbeta_score: 0.7394 - val_loss: 0.8086 - val_fbeta_score: 0.7213\n",
            "Epoch 90/100\n",
            "131/131 [==============================] - 3s 20ms/step - loss: 0.5460 - fbeta_score: 0.7397 - val_loss: 0.8097 - val_fbeta_score: 0.7209\n",
            "Epoch 91/100\n",
            "131/131 [==============================] - 3s 21ms/step - loss: 0.5441 - fbeta_score: 0.7400 - val_loss: 0.8109 - val_fbeta_score: 0.7215\n",
            "Epoch 92/100\n",
            "131/131 [==============================] - 3s 21ms/step - loss: 0.5414 - fbeta_score: 0.7400 - val_loss: 0.8110 - val_fbeta_score: 0.7208\n",
            "Epoch 93/100\n",
            "131/131 [==============================] - 3s 20ms/step - loss: 0.5391 - fbeta_score: 0.7402 - val_loss: 0.8121 - val_fbeta_score: 0.7218\n",
            "Epoch 94/100\n",
            "131/131 [==============================] - 3s 21ms/step - loss: 0.5374 - fbeta_score: 0.7404 - val_loss: 0.8128 - val_fbeta_score: 0.7212\n",
            "Epoch 95/100\n",
            "131/131 [==============================] - 3s 21ms/step - loss: 0.5350 - fbeta_score: 0.7405 - val_loss: 0.8144 - val_fbeta_score: 0.7207\n",
            "Epoch 96/100\n",
            "131/131 [==============================] - 3s 20ms/step - loss: 0.5333 - fbeta_score: 0.7407 - val_loss: 0.8153 - val_fbeta_score: 0.7211\n",
            "Epoch 97/100\n",
            "131/131 [==============================] - 3s 21ms/step - loss: 0.5302 - fbeta_score: 0.7408 - val_loss: 0.8160 - val_fbeta_score: 0.7212\n",
            "Epoch 98/100\n",
            "131/131 [==============================] - 3s 22ms/step - loss: 0.5282 - fbeta_score: 0.7412 - val_loss: 0.8183 - val_fbeta_score: 0.7212\n",
            "Epoch 99/100\n",
            "131/131 [==============================] - 3s 20ms/step - loss: 0.5255 - fbeta_score: 0.7412 - val_loss: 0.8184 - val_fbeta_score: 0.7208\n",
            "Epoch 100/100\n",
            "131/131 [==============================] - 3s 20ms/step - loss: 0.5238 - fbeta_score: 0.7415 - val_loss: 0.8206 - val_fbeta_score: 0.7210\n"
          ]
        }
      ]
    },
    {
      "cell_type": "code",
      "source": [
        "y_pred = model.predict(X_test)"
      ],
      "metadata": {
        "colab": {
          "base_uri": "https://localhost:8080/"
        },
        "outputId": "d34bc80e-0f4a-46de-c49c-80917d0bd995",
        "id": "Ri13id5U_Oki"
      },
      "execution_count": null,
      "outputs": [
        {
          "output_type": "stream",
          "name": "stdout",
          "text": [
            "119/119 [==============================] - 0s 2ms/step\n"
          ]
        }
      ]
    },
    {
      "cell_type": "code",
      "source": [
        "print(classification_report(np.argmax(y_test, 1), np.argmax(y_pred, 1), digits=5))"
      ],
      "metadata": {
        "colab": {
          "base_uri": "https://localhost:8080/"
        },
        "outputId": "09384350-2fb6-49a4-d811-6145c5ec2973",
        "id": "Nqy6waAk_Okj"
      },
      "execution_count": null,
      "outputs": [
        {
          "output_type": "stream",
          "name": "stdout",
          "text": [
            "              precision    recall  f1-score   support\n",
            "\n",
            "           0    0.74803   0.64407   0.69217       590\n",
            "           1    0.80830   0.68509   0.74161       597\n",
            "           2    0.63060   0.65000   0.64015      1040\n",
            "           3    0.70915   0.71031   0.70973       611\n",
            "           4    0.61786   0.70930   0.66043       946\n",
            "\n",
            "    accuracy                        0.67918      3784\n",
            "   macro avg    0.70279   0.67975   0.68882      3784\n",
            "weighted avg    0.68644   0.67918   0.68057      3784\n",
            "\n"
          ]
        }
      ]
    },
    {
      "cell_type": "markdown",
      "source": [
        "Сверточная сеть с использованием Fasttext для инициализации Embedding слоя, однако, дает лучшие результаты среди всех ранее рассмотренных комбинаций алгоритмов, параметров и данных.\n",
        "\n",
        "\n",
        "![изображение.png](data:image/png;base64,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)"
      ],
      "metadata": {
        "id": "qLZQtNkw1pGV"
      }
    },
    {
      "cell_type": "markdown",
      "source": [
        "## BERT\n",
        "\n",
        "В случае с анализом тональности больший эффект должны давать контекстуализированные эмбеддинги, которые и позовяют получить модели из семейства BERT. Используем для этого 2 варианта предобученных языковых моделей и дообучим для задачи сентимент-анализа на наших данных. \n",
        "\n",
        "1 вариант LM - стандартный предобученный берт bert-base-uncased. В английском регистр слов не играет большого значения, поэтому можно использовать версию uncased.\n",
        "\n",
        "2 вариант LM - предобученный также на твитах про ковид digitalepidemiologylab/covid-twitter-bert (https://huggingface.co/digitalepidemiologylab/covid-twitter-bert-v2)"
      ],
      "metadata": {
        "id": "Sla_-V51f0vu"
      }
    },
    {
      "cell_type": "markdown",
      "source": [
        "#### LM: bert-base-uncased"
      ],
      "metadata": {
        "id": "h3DV-vmcZ0rV"
      }
    },
    {
      "cell_type": "markdown",
      "source": [
        "Подгрузим модель и используем генератор данных (DataCollatorWithPadding) с динамическим паддингом для батча (определяется наибольшая последовательность, остальные дополняются нулями до полученной длины)."
      ],
      "metadata": {
        "id": "e9GKiHNzNK6t"
      }
    },
    {
      "cell_type": "code",
      "source": [
        "tokenizer = AutoTokenizer.from_pretrained(\"bert-base-uncased\")\n",
        "model = AutoModelForSequenceClassification.from_pretrained(\"bert-base-uncased\", num_labels=len(vid_train.Sentiment.unique()))\n",
        "data_collator = DataCollatorWithPadding(tokenizer=tokenizer)"
      ],
      "metadata": {
        "id": "aaqbqHSKaFq5"
      },
      "execution_count": null,
      "outputs": []
    },
    {
      "cell_type": "code",
      "source": [
        "df_train = vid_train[['LemTweet_', 'Sentiment']].copy()\n",
        "df_test = vid_test[['LemTweet_','Sentiment']].copy()\n",
        "\n",
        "label_enc = LabelEncoder()\n",
        "df_train['Sentiment'] = label_enc.fit_transform(vid_train[\"Sentiment\"])\n",
        "df_test['Sentiment'] = label_enc.transform(vid_test[\"Sentiment\"])\n",
        "\n",
        "df_train.columns = ['texts', 'labels']\n",
        "df_test.columns = ['texts', 'labels']"
      ],
      "metadata": {
        "id": "pCL0SH63J7A5"
      },
      "execution_count": null,
      "outputs": []
    },
    {
      "cell_type": "code",
      "source": [
        "df_train = Dataset.from_pandas(df_train)\n",
        "df_test = Dataset.from_pandas(df_test)"
      ],
      "metadata": {
        "id": "3iFzGgAKl6cr"
      },
      "execution_count": null,
      "outputs": []
    },
    {
      "cell_type": "code",
      "source": [
        "def tokenize_function(item):\n",
        "    tokenized_inputs = tokenizer(item['texts'])\n",
        "    tokenized_inputs[\"labels\"] = item['labels']\n",
        "    return tokenized_inputs"
      ],
      "metadata": {
        "id": "bzQNNtaTgpcV"
      },
      "execution_count": null,
      "outputs": []
    },
    {
      "cell_type": "code",
      "source": [
        "tokenized_train = df_train.map(tokenize_function, batched=True)\n",
        "tokenized_train = tokenized_train.remove_columns(['texts'])\n",
        "tokenized_test = df_test.map(tokenize_function, batched=True)\n",
        "tokenized_test = tokenized_test.remove_columns(['texts'])"
      ],
      "metadata": {
        "id": "DKB5lb2zoRU7"
      },
      "execution_count": null,
      "outputs": []
    },
    {
      "cell_type": "code",
      "source": [
        "def compute_metrics(eval_pred):\n",
        "    predictions, labels = eval_pred\n",
        "    predictions = np.argmax(predictions, axis=1)\n",
        "\n",
        "    f1 = f1_score(labels, predictions, average='weighted')\n",
        "    precision = precision_score(labels, predictions, average='weighted')\n",
        "    recall = recall_score(labels, predictions, average='weighted')\n",
        "    print(classification_report(labels, predictions))\n",
        "\n",
        "    return {\n",
        "        'f1': f1,\n",
        "        'precision': precision,\n",
        "        'recall': recall,\n",
        "        \n",
        "    }"
      ],
      "metadata": {
        "id": "mPPKqfyV0uh8"
      },
      "execution_count": null,
      "outputs": []
    },
    {
      "cell_type": "code",
      "source": [
        "import wandb\n",
        "! wandb login"
      ],
      "metadata": {
        "id": "AaOIdi3E6kuy"
      },
      "execution_count": null,
      "outputs": []
    },
    {
      "cell_type": "code",
      "source": [
        "wandb.init(project=\"nlp_lab_2\")"
      ],
      "metadata": {
        "id": "MtJQ36VB6nG2"
      },
      "execution_count": null,
      "outputs": []
    },
    {
      "cell_type": "code",
      "source": [
        "training_args = TrainingArguments(\n",
        "    output_dir=\"/content/gdrive/My Drive/Магистериум/NLP\",\n",
        "    report_to = 'wandb',\n",
        "    do_train = True,\n",
        "    do_eval=True,\n",
        "    per_device_train_batch_size=8,\n",
        "    per_device_eval_batch_size=8,\n",
        "    learning_rate=2e-5,\n",
        "    weight_decay=0.01,\n",
        "    num_train_epochs=5,\n",
        "    evaluation_strategy='epoch',\n",
        "    save_strategy='epoch',\n",
        "    seed=42,\n",
        "    )"
      ],
      "metadata": {
        "id": "GOGABY4x37sj"
      },
      "execution_count": null,
      "outputs": []
    },
    {
      "cell_type": "code",
      "source": [
        "trainer = Trainer(\n",
        "    model=model,\n",
        "    args=training_args,\n",
        "    train_dataset=tokenized_train,\n",
        "    eval_dataset=tokenized_test,\n",
        "    data_collator=data_collator,\n",
        "    compute_metrics=compute_metrics,  \n",
        ")"
      ],
      "metadata": {
        "id": "BOTh5j627j1r"
      },
      "execution_count": null,
      "outputs": []
    },
    {
      "cell_type": "code",
      "source": [
        "for i in label_enc.classes_:\n",
        "    print(i, ':', label_enc.transform([i]))"
      ],
      "metadata": {
        "outputId": "2c071c0c-5efe-4371-e5f5-c9a76b9379ac",
        "colab": {
          "base_uri": "https://localhost:8080/"
        },
        "id": "e55kdel1QbTI"
      },
      "execution_count": null,
      "outputs": [
        {
          "output_type": "stream",
          "name": "stdout",
          "text": [
            "Extremely Negative : [0]\n",
            "Extremely Positive : [1]\n",
            "Negative : [2]\n",
            "Neutral : [3]\n",
            "Positive : [4]\n"
          ]
        }
      ]
    },
    {
      "cell_type": "code",
      "source": [
        "trainer.train()"
      ],
      "metadata": {
        "colab": {
          "base_uri": "https://localhost:8080/",
          "height": 1000
        },
        "outputId": "044c23d8-47ac-48d4-f1a3-a5b9040dab6b",
        "id": "YAhu7npCaVWF"
      },
      "execution_count": null,
      "outputs": [
        {
          "output_type": "stream",
          "name": "stderr",
          "text": [
            "/usr/local/lib/python3.7/dist-packages/transformers/optimization.py:310: FutureWarning: This implementation of AdamW is deprecated and will be removed in a future version. Use the PyTorch implementation torch.optim.AdamW instead, or set `no_deprecation_warning=True` to disable this warning\n",
            "  FutureWarning,\n",
            "***** Running training *****\n",
            "  Num examples = 40823\n",
            "  Num Epochs = 5\n",
            "  Instantaneous batch size per device = 8\n",
            "  Total train batch size (w. parallel, distributed & accumulation) = 8\n",
            "  Gradient Accumulation steps = 1\n",
            "  Total optimization steps = 25515\n",
            "Automatic Weights & Biases logging enabled, to disable set os.environ[\"WANDB_DISABLED\"] = \"true\"\n"
          ]
        },
        {
          "output_type": "display_data",
          "data": {
            "text/plain": [
              "<IPython.core.display.HTML object>"
            ],
            "text/html": [
              "\n",
              "    <div>\n",
              "      \n",
              "      <progress value='25515' max='25515' style='width:300px; height:20px; vertical-align: middle;'></progress>\n",
              "      [25515/25515 44:16, Epoch 5/5]\n",
              "    </div>\n",
              "    <table border=\"1\" class=\"dataframe\">\n",
              "  <thead>\n",
              " <tr style=\"text-align: left;\">\n",
              "      <th>Epoch</th>\n",
              "      <th>Training Loss</th>\n",
              "      <th>Validation Loss</th>\n",
              "      <th>F1</th>\n",
              "      <th>Precision</th>\n",
              "      <th>Recall</th>\n",
              "    </tr>\n",
              "  </thead>\n",
              "  <tbody>\n",
              "    <tr>\n",
              "      <td>1</td>\n",
              "      <td>0.597800</td>\n",
              "      <td>0.674178</td>\n",
              "      <td>0.767456</td>\n",
              "      <td>0.769865</td>\n",
              "      <td>0.766649</td>\n",
              "    </tr>\n",
              "    <tr>\n",
              "      <td>2</td>\n",
              "      <td>0.464200</td>\n",
              "      <td>0.735652</td>\n",
              "      <td>0.775026</td>\n",
              "      <td>0.776972</td>\n",
              "      <td>0.774049</td>\n",
              "    </tr>\n",
              "    <tr>\n",
              "      <td>3</td>\n",
              "      <td>0.393000</td>\n",
              "      <td>0.796826</td>\n",
              "      <td>0.772468</td>\n",
              "      <td>0.773561</td>\n",
              "      <td>0.772727</td>\n",
              "    </tr>\n",
              "    <tr>\n",
              "      <td>4</td>\n",
              "      <td>0.276100</td>\n",
              "      <td>1.009705</td>\n",
              "      <td>0.764068</td>\n",
              "      <td>0.765082</td>\n",
              "      <td>0.764535</td>\n",
              "    </tr>\n",
              "    <tr>\n",
              "      <td>5</td>\n",
              "      <td>0.252800</td>\n",
              "      <td>1.196835</td>\n",
              "      <td>0.769239</td>\n",
              "      <td>0.769249</td>\n",
              "      <td>0.769292</td>\n",
              "    </tr>\n",
              "  </tbody>\n",
              "</table><p>"
            ]
          },
          "metadata": {}
        },
        {
          "output_type": "stream",
          "name": "stderr",
          "text": [
            "***** Running Evaluation *****\n",
            "  Num examples = 3784\n",
            "  Batch size = 8\n"
          ]
        },
        {
          "output_type": "stream",
          "name": "stdout",
          "text": [
            "              precision    recall  f1-score   support\n",
            "\n",
            "           0       0.82      0.74      0.78       590\n",
            "           1       0.80      0.80      0.80       597\n",
            "           2       0.70      0.77      0.73      1040\n",
            "           3       0.87      0.82      0.84       611\n",
            "           4       0.73      0.73      0.73       946\n",
            "\n",
            "    accuracy                           0.77      3784\n",
            "   macro avg       0.78      0.77      0.78      3784\n",
            "weighted avg       0.77      0.77      0.77      3784\n",
            "\n"
          ]
        },
        {
          "output_type": "stream",
          "name": "stderr",
          "text": [
            "Saving model checkpoint to /content/gdrive/My Drive/Магистериум/NLP/checkpoint-5103\n",
            "Configuration saved in /content/gdrive/My Drive/Магистериум/NLP/checkpoint-5103/config.json\n",
            "Model weights saved in /content/gdrive/My Drive/Магистериум/NLP/checkpoint-5103/pytorch_model.bin\n",
            "***** Running Evaluation *****\n",
            "  Num examples = 3784\n",
            "  Batch size = 8\n"
          ]
        },
        {
          "output_type": "stream",
          "name": "stdout",
          "text": [
            "              precision    recall  f1-score   support\n",
            "\n",
            "           0       0.79      0.76      0.78       590\n",
            "           1       0.82      0.80      0.81       597\n",
            "           2       0.72      0.74      0.73      1040\n",
            "           3       0.89      0.82      0.85       611\n",
            "           4       0.73      0.77      0.75       946\n",
            "\n",
            "    accuracy                           0.77      3784\n",
            "   macro avg       0.79      0.78      0.78      3784\n",
            "weighted avg       0.78      0.77      0.78      3784\n",
            "\n"
          ]
        },
        {
          "output_type": "stream",
          "name": "stderr",
          "text": [
            "Saving model checkpoint to /content/gdrive/My Drive/Магистериум/NLP/checkpoint-10206\n",
            "Configuration saved in /content/gdrive/My Drive/Магистериум/NLP/checkpoint-10206/config.json\n",
            "Model weights saved in /content/gdrive/My Drive/Магистериум/NLP/checkpoint-10206/pytorch_model.bin\n",
            "***** Running Evaluation *****\n",
            "  Num examples = 3784\n",
            "  Batch size = 8\n"
          ]
        },
        {
          "output_type": "stream",
          "name": "stdout",
          "text": [
            "              precision    recall  f1-score   support\n",
            "\n",
            "           0       0.74      0.82      0.78       590\n",
            "           1       0.82      0.83      0.83       597\n",
            "           2       0.74      0.69      0.71      1040\n",
            "           3       0.86      0.81      0.83       611\n",
            "           4       0.75      0.77      0.76       946\n",
            "\n",
            "    accuracy                           0.77      3784\n",
            "   macro avg       0.78      0.78      0.78      3784\n",
            "weighted avg       0.77      0.77      0.77      3784\n",
            "\n"
          ]
        },
        {
          "output_type": "stream",
          "name": "stderr",
          "text": [
            "Saving model checkpoint to /content/gdrive/My Drive/Магистериум/NLP/checkpoint-15309\n",
            "Configuration saved in /content/gdrive/My Drive/Магистериум/NLP/checkpoint-15309/config.json\n",
            "Model weights saved in /content/gdrive/My Drive/Магистериум/NLP/checkpoint-15309/pytorch_model.bin\n",
            "***** Running Evaluation *****\n",
            "  Num examples = 3784\n",
            "  Batch size = 8\n"
          ]
        },
        {
          "output_type": "stream",
          "name": "stdout",
          "text": [
            "              precision    recall  f1-score   support\n",
            "\n",
            "           0       0.77      0.80      0.78       590\n",
            "           1       0.76      0.86      0.81       597\n",
            "           2       0.74      0.70      0.72      1040\n",
            "           3       0.85      0.79      0.82       611\n",
            "           4       0.74      0.74      0.74       946\n",
            "\n",
            "    accuracy                           0.76      3784\n",
            "   macro avg       0.77      0.78      0.77      3784\n",
            "weighted avg       0.77      0.76      0.76      3784\n",
            "\n"
          ]
        },
        {
          "output_type": "stream",
          "name": "stderr",
          "text": [
            "Saving model checkpoint to /content/gdrive/My Drive/Магистериум/NLP/checkpoint-20412\n",
            "Configuration saved in /content/gdrive/My Drive/Магистериум/NLP/checkpoint-20412/config.json\n",
            "Model weights saved in /content/gdrive/My Drive/Магистериум/NLP/checkpoint-20412/pytorch_model.bin\n",
            "***** Running Evaluation *****\n",
            "  Num examples = 3784\n",
            "  Batch size = 8\n"
          ]
        },
        {
          "output_type": "stream",
          "name": "stdout",
          "text": [
            "              precision    recall  f1-score   support\n",
            "\n",
            "           0       0.78      0.79      0.79       590\n",
            "           1       0.82      0.81      0.81       597\n",
            "           2       0.73      0.72      0.73      1040\n",
            "           3       0.80      0.81      0.81       611\n",
            "           4       0.76      0.75      0.75       946\n",
            "\n",
            "    accuracy                           0.77      3784\n",
            "   macro avg       0.78      0.78      0.78      3784\n",
            "weighted avg       0.77      0.77      0.77      3784\n",
            "\n"
          ]
        },
        {
          "output_type": "stream",
          "name": "stderr",
          "text": [
            "Saving model checkpoint to /content/gdrive/My Drive/Магистериум/NLP/checkpoint-25515\n",
            "Configuration saved in /content/gdrive/My Drive/Магистериум/NLP/checkpoint-25515/config.json\n",
            "Model weights saved in /content/gdrive/My Drive/Магистериум/NLP/checkpoint-25515/pytorch_model.bin\n",
            "\n",
            "\n",
            "Training completed. Do not forget to share your model on huggingface.co/models =)\n",
            "\n",
            "\n"
          ]
        },
        {
          "output_type": "execute_result",
          "data": {
            "text/plain": [
              "TrainOutput(global_step=25515, training_loss=0.41542872385536717, metrics={'train_runtime': 2656.6919, 'train_samples_per_second': 76.831, 'train_steps_per_second': 9.604, 'total_flos': 3607891900447650.0, 'train_loss': 0.41542872385536717, 'epoch': 5.0})"
            ]
          },
          "metadata": {},
          "execution_count": 53
        }
      ]
    },
    {
      "cell_type": "markdown",
      "source": [
        "В результате обучения получаем лучшие значения на тесте на второй эпохе. При обучении используется предобработанный полностью текст - с удалением хэштегов и упоминаний, а также лемматизацией. Учитывая, что таким образом происходит потеря семантики твитов, а как следствие хуже проходит процесс файн-тьюнинга весов языковой модели для задачи, BERT дает результаты выше, чем были получены при экспериментах выше.\n",
        "\n",
        "\n",
        "                       precision    recall  f1-score   support\n",
        "\n",
        "                ENeg      0.79      0.76      0.78      590\n",
        "                EPos      0.82      0.80      0.81      597\n",
        "                Neg       0.72      0.74      0.73      1040\n",
        "                Neu       0.89      0.82      0.85      611\n",
        "                Pos       0.73      0.77      0.75      946\n",
        "           \n",
        "           accuracy                           0.77      3784\n",
        "          macro avg       0.79      0.78      0.78      3784\n",
        "       weighted avg       0.78      0.77      0.78      3784"
      ],
      "metadata": {
        "id": "8k3yj2NMNoYC"
      }
    },
    {
      "cell_type": "markdown",
      "source": [
        "#### LM: covid-twitter-bert\n",
        "Теперь используем модель, предобученную на твитах той же тематики."
      ],
      "metadata": {
        "id": "VGbRrwi7Z4QO"
      }
    },
    {
      "cell_type": "code",
      "source": [
        "tokenizer = AutoTokenizer.from_pretrained(\"digitalepidemiologylab/covid-twitter-bert\")\n",
        "model = AutoModelForSequenceClassification.from_pretrained(\"digitalepidemiologylab/covid-twitter-bert\", num_labels=len(vid_train.Sentiment.unique()))\n",
        "data_collator = DataCollatorWithPadding(tokenizer=tokenizer)"
      ],
      "metadata": {
        "id": "YDIyDGPHl3xF",
        "colab": {
          "base_uri": "https://localhost:8080/",
          "height": 250,
          "referenced_widgets": [
            "68776a8ca21846d7bd046087a0ff0b70",
            "60bccff96fd440d4835ed24830125e21",
            "9c6721cd88fc4d50ab162325f7b3ec0e",
            "17d454f2045c49a49fadef6ab3c14b7d",
            "71df9a0dca88428facd22536e928388b",
            "3e95740fbf564b2ca7d782b34ff5556a",
            "354be548b2d14f10b0a8e8662c2e91f4",
            "853e104c39ce402fb800c78340a43bea",
            "65e4c80bdabe46038d638b8de647e4ea",
            "196738e025dd471295911064efcab29a",
            "5316d61c367045498d621f80b979d374",
            "6ba047d2687e40bfaff8a138781fe7d5",
            "e6a2371e90104a4991f69a3a3b5692cd",
            "8cb89b1bcd8e4a6bb87b0332a80842c5",
            "feb4fa98faa141fd9cc8497293340b42",
            "919ef60f57d846d0b2f4687460cb27d3",
            "42d2f6af6f7741aebb05eb6908cb99bb",
            "afefbad7f6ee4e519302ed42ce28a86b",
            "4b1157b0138a410fa40719653148252f",
            "ba7f181d5b144c78814511f0ed07bcc2",
            "a62b5cf63d064587839d7aa13b4f7cc0",
            "3eed4cace2aa45ab865bcef27023ba48",
            "2bb4ab7259664fcd94a571332a01d782",
            "928fec5f7be84af695aa694fe0654dc3",
            "9986f19115164c70a9faed7693b9581a",
            "ecad47f3de034e3699e72e8abcd0bb8e",
            "7d022f7e0040486cbe8f5fe258574778",
            "5f187ac510024476b8771fa547d317f4",
            "e19454bf5ae64b6b94ebbdb3e90a82d9",
            "ad9702155f5e4d8280547d98c92e3a67",
            "4c9bfd4f1d6a4c02951ead79ea694ade",
            "63a1489d7bd04ae2a48a50d6d631c861",
            "84221e6b6dcc437a9bc02feb827b266d"
          ]
        },
        "outputId": "45992db0-76c6-4927-ece9-62be3bee6fa1"
      },
      "execution_count": null,
      "outputs": [
        {
          "output_type": "display_data",
          "data": {
            "text/plain": [
              "Downloading:   0%|          | 0.00/421 [00:00<?, ?B/s]"
            ],
            "application/vnd.jupyter.widget-view+json": {
              "version_major": 2,
              "version_minor": 0,
              "model_id": "68776a8ca21846d7bd046087a0ff0b70"
            }
          },
          "metadata": {}
        },
        {
          "output_type": "display_data",
          "data": {
            "text/plain": [
              "Downloading:   0%|          | 0.00/232k [00:00<?, ?B/s]"
            ],
            "application/vnd.jupyter.widget-view+json": {
              "version_major": 2,
              "version_minor": 0,
              "model_id": "6ba047d2687e40bfaff8a138781fe7d5"
            }
          },
          "metadata": {}
        },
        {
          "output_type": "display_data",
          "data": {
            "text/plain": [
              "Downloading:   0%|          | 0.00/1.35G [00:00<?, ?B/s]"
            ],
            "application/vnd.jupyter.widget-view+json": {
              "version_major": 2,
              "version_minor": 0,
              "model_id": "2bb4ab7259664fcd94a571332a01d782"
            }
          },
          "metadata": {}
        },
        {
          "output_type": "stream",
          "name": "stderr",
          "text": [
            "Some weights of the model checkpoint at digitalepidemiologylab/covid-twitter-bert were not used when initializing BertForSequenceClassification: ['cls.predictions.decoder.bias', 'cls.predictions.bias', 'cls.predictions.transform.LayerNorm.bias', 'cls.predictions.transform.LayerNorm.weight', 'cls.predictions.transform.dense.weight', 'cls.predictions.transform.dense.bias', 'cls.seq_relationship.bias', 'cls.seq_relationship.weight', 'cls.predictions.decoder.weight']\n",
            "- This IS expected if you are initializing BertForSequenceClassification from the checkpoint of a model trained on another task or with another architecture (e.g. initializing a BertForSequenceClassification model from a BertForPreTraining model).\n",
            "- This IS NOT expected if you are initializing BertForSequenceClassification from the checkpoint of a model that you expect to be exactly identical (initializing a BertForSequenceClassification model from a BertForSequenceClassification model).\n",
            "Some weights of BertForSequenceClassification were not initialized from the model checkpoint at digitalepidemiologylab/covid-twitter-bert and are newly initialized: ['classifier.bias', 'classifier.weight']\n",
            "You should probably TRAIN this model on a down-stream task to be able to use it for predictions and inference.\n"
          ]
        }
      ]
    },
    {
      "cell_type": "code",
      "source": [
        "trainer.train()"
      ],
      "metadata": {
        "id": "qyCObEwFn-Nu",
        "colab": {
          "base_uri": "https://localhost:8080/",
          "height": 1000
        },
        "outputId": "d24c3fe5-763c-47e6-a89a-3d46746e46f1"
      },
      "execution_count": null,
      "outputs": [
        {
          "output_type": "stream",
          "name": "stderr",
          "text": [
            "/usr/local/lib/python3.7/dist-packages/transformers/optimization.py:310: FutureWarning: This implementation of AdamW is deprecated and will be removed in a future version. Use the PyTorch implementation torch.optim.AdamW instead, or set `no_deprecation_warning=True` to disable this warning\n",
            "  FutureWarning,\n",
            "***** Running training *****\n",
            "  Num examples = 40823\n",
            "  Num Epochs = 5\n",
            "  Instantaneous batch size per device = 8\n",
            "  Total train batch size (w. parallel, distributed & accumulation) = 8\n",
            "  Gradient Accumulation steps = 1\n",
            "  Total optimization steps = 25515\n",
            "Automatic Weights & Biases logging enabled, to disable set os.environ[\"WANDB_DISABLED\"] = \"true\"\n",
            "You're using a BertTokenizerFast tokenizer. Please note that with a fast tokenizer, using the `__call__` method is faster than using a method to encode the text followed by a call to the `pad` method to get a padded encoding.\n"
          ]
        },
        {
          "output_type": "display_data",
          "data": {
            "text/plain": [
              "<IPython.core.display.HTML object>"
            ],
            "text/html": [
              "\n",
              "    <div>\n",
              "      \n",
              "      <progress value='22320' max='25515' style='width:300px; height:20px; vertical-align: middle;'></progress>\n",
              "      [22320/25515 2:10:24 < 18:40, 2.85 it/s, Epoch 4.37/5]\n",
              "    </div>\n",
              "    <table border=\"1\" class=\"dataframe\">\n",
              "  <thead>\n",
              " <tr style=\"text-align: left;\">\n",
              "      <th>Epoch</th>\n",
              "      <th>Training Loss</th>\n",
              "      <th>Validation Loss</th>\n",
              "      <th>F1</th>\n",
              "      <th>Precision</th>\n",
              "      <th>Recall</th>\n",
              "    </tr>\n",
              "  </thead>\n",
              "  <tbody>\n",
              "    <tr>\n",
              "      <td>1</td>\n",
              "      <td>0.648400</td>\n",
              "      <td>0.800210</td>\n",
              "      <td>0.722688</td>\n",
              "      <td>0.735350</td>\n",
              "      <td>0.722516</td>\n",
              "    </tr>\n",
              "    <tr>\n",
              "      <td>2</td>\n",
              "      <td>0.523900</td>\n",
              "      <td>0.663238</td>\n",
              "      <td>0.780187</td>\n",
              "      <td>0.782881</td>\n",
              "      <td>0.779070</td>\n",
              "    </tr>\n",
              "    <tr>\n",
              "      <td>3</td>\n",
              "      <td>0.437300</td>\n",
              "      <td>0.849716</td>\n",
              "      <td>0.776468</td>\n",
              "      <td>0.786766</td>\n",
              "      <td>0.774841</td>\n",
              "    </tr>\n",
              "    <tr>\n",
              "      <td>4</td>\n",
              "      <td>0.317200</td>\n",
              "      <td>1.111042</td>\n",
              "      <td>0.784333</td>\n",
              "      <td>0.786870</td>\n",
              "      <td>0.783562</td>\n",
              "    </tr>\n",
              "  </tbody>\n",
              "</table><p>"
            ]
          },
          "metadata": {}
        },
        {
          "output_type": "stream",
          "name": "stderr",
          "text": [
            "***** Running Evaluation *****\n",
            "  Num examples = 3784\n",
            "  Batch size = 8\n"
          ]
        },
        {
          "output_type": "stream",
          "name": "stdout",
          "text": [
            "              precision    recall  f1-score   support\n",
            "\n",
            "           0       0.64      0.87      0.73       590\n",
            "           1       0.90      0.65      0.75       597\n",
            "           2       0.66      0.65      0.66      1040\n",
            "           3       0.84      0.83      0.83       611\n",
            "           4       0.70      0.69      0.70       946\n",
            "\n",
            "    accuracy                           0.72      3784\n",
            "   macro avg       0.75      0.74      0.74      3784\n",
            "weighted avg       0.74      0.72      0.72      3784\n",
            "\n"
          ]
        },
        {
          "output_type": "stream",
          "name": "stderr",
          "text": [
            "Saving model checkpoint to /content/gdrive/My Drive/Магистериум/NLP/checkpoint-5103\n",
            "Configuration saved in /content/gdrive/My Drive/Магистериум/NLP/checkpoint-5103/config.json\n",
            "Model weights saved in /content/gdrive/My Drive/Магистериум/NLP/checkpoint-5103/pytorch_model.bin\n",
            "***** Running Evaluation *****\n",
            "  Num examples = 3784\n",
            "  Batch size = 8\n"
          ]
        },
        {
          "output_type": "stream",
          "name": "stdout",
          "text": [
            "              precision    recall  f1-score   support\n",
            "\n",
            "           0       0.76      0.82      0.79       590\n",
            "           1       0.84      0.81      0.82       597\n",
            "           2       0.71      0.75      0.73      1040\n",
            "           3       0.91      0.81      0.86       611\n",
            "           4       0.76      0.75      0.76       946\n",
            "\n",
            "    accuracy                           0.78      3784\n",
            "   macro avg       0.80      0.79      0.79      3784\n",
            "weighted avg       0.78      0.78      0.78      3784\n",
            "\n"
          ]
        },
        {
          "output_type": "stream",
          "name": "stderr",
          "text": [
            "Saving model checkpoint to /content/gdrive/My Drive/Магистериум/NLP/checkpoint-10206\n",
            "Configuration saved in /content/gdrive/My Drive/Магистериум/NLP/checkpoint-10206/config.json\n",
            "Model weights saved in /content/gdrive/My Drive/Магистериум/NLP/checkpoint-10206/pytorch_model.bin\n",
            "***** Running Evaluation *****\n",
            "  Num examples = 3784\n",
            "  Batch size = 8\n"
          ]
        },
        {
          "output_type": "stream",
          "name": "stdout",
          "text": [
            "              precision    recall  f1-score   support\n",
            "\n",
            "           0       0.80      0.81      0.80       590\n",
            "           1       0.92      0.69      0.79       597\n",
            "           2       0.71      0.77      0.74      1040\n",
            "           3       0.90      0.78      0.84       611\n",
            "           4       0.71      0.81      0.76       946\n",
            "\n",
            "    accuracy                           0.77      3784\n",
            "   macro avg       0.81      0.77      0.78      3784\n",
            "weighted avg       0.79      0.77      0.78      3784\n",
            "\n"
          ]
        },
        {
          "output_type": "stream",
          "name": "stderr",
          "text": [
            "Saving model checkpoint to /content/gdrive/My Drive/Магистериум/NLP/checkpoint-15309\n",
            "Configuration saved in /content/gdrive/My Drive/Магистериум/NLP/checkpoint-15309/config.json\n",
            "Model weights saved in /content/gdrive/My Drive/Магистериум/NLP/checkpoint-15309/pytorch_model.bin\n",
            "***** Running Evaluation *****\n",
            "  Num examples = 3784\n",
            "  Batch size = 8\n"
          ]
        },
        {
          "output_type": "stream",
          "name": "stdout",
          "text": [
            "              precision    recall  f1-score   support\n",
            "\n",
            "           0       0.82      0.77      0.79       590\n",
            "           1       0.85      0.76      0.81       597\n",
            "           2       0.73      0.78      0.76      1040\n",
            "           3       0.86      0.83      0.85       611\n",
            "           4       0.74      0.77      0.76       946\n",
            "\n",
            "    accuracy                           0.78      3784\n",
            "   macro avg       0.80      0.78      0.79      3784\n",
            "weighted avg       0.79      0.78      0.78      3784\n",
            "\n"
          ]
        },
        {
          "output_type": "stream",
          "name": "stderr",
          "text": [
            "Saving model checkpoint to /content/gdrive/My Drive/Магистериум/NLP/checkpoint-20412\n",
            "Configuration saved in /content/gdrive/My Drive/Магистериум/NLP/checkpoint-20412/config.json\n",
            "Model weights saved in /content/gdrive/My Drive/Магистериум/NLP/checkpoint-20412/pytorch_model.bin\n"
          ]
        }
      ]
    },
    {
      "cell_type": "markdown",
      "source": [
        "С использованием предобученной на тематических твитах моделью получаем результаты чуть лучше (F1 = 0.775026 с простым бертом, F1 = 0.784333 со специальным).\n",
        "\n",
        "Улучшается также качество для негативных классов (сильно негативный F1 0.78->0.79, негативный 0.73->0.76)\n",
        "\n",
        "\n",
        "                    precision    recall  f1-score   support\n",
        "\n",
        "               ENeg      0.82      0.77      0.79      590\n",
        "               EPos      0.85      0.76      0.81      597\n",
        "               Neg       0.73      0.78      0.76      1040\n",
        "               Neu       0.86      0.83      0.85      611\n",
        "               Pos       0.74      0.77      0.76      946\n",
        "\n",
        "          accuracy                           0.78      3784\n",
        "         macro avg       0.80      0.78      0.79      3784\n",
        "      weighted avg       0.79      0.78      0.78      3784"
      ],
      "metadata": {
        "id": "ca5hP_bjOzQj"
      }
    },
    {
      "cell_type": "markdown",
      "source": [
        "### Тестирование BERT на нелемматизированных текстах\n",
        "\n",
        "Как уже было предположено, лемматизация лишь ухудшает в случае с BERT итоговое качество. Для остальных моделей и алгоритмов она необходима для снижения размера словаря и, в случае с предобученными эмбеддингами типа w2v, получения векторов словарных слов, находящихся в начальной форме.\n",
        "\n",
        "Для BERT же можно использовать тексты без лемматизации, относительно малый размер словаря достигается благодаря токенизации методом WordPiece (то есть слова разбиваются на подслова)."
      ],
      "metadata": {
        "id": "gPReVksN5T05"
      }
    },
    {
      "cell_type": "markdown",
      "source": [
        "Проведем минимальную очистку датасета от ссылок и несчитываемых символов. То есть оставляем упоминания и хэштеги."
      ],
      "metadata": {
        "id": "d-0E3tJy5RyE"
      }
    },
    {
      "cell_type": "code",
      "source": [
        "def clean_tweet(tweet):\n",
        "    clean = re.sub(r'https://t.co/\\w*\\s?', '', tweet)\n",
        "    clean = re.sub(r'[^\\x00-\\x7f]','', clean) \n",
        "    \n",
        "    return clean.lower().strip()"
      ],
      "metadata": {
        "id": "7bfHXWH5zY_q"
      },
      "execution_count": null,
      "outputs": []
    },
    {
      "cell_type": "code",
      "source": [
        "vid_train['BertCleanTweet']= vid_train['OriginalTweet'].apply(lambda x: clean_tweet(x))\n",
        "vid_test['BertCleanTweet']= vid_test['OriginalTweet'].apply(lambda x: clean_tweet(x))"
      ],
      "metadata": {
        "id": "vIbgzME6zY_r"
      },
      "execution_count": null,
      "outputs": []
    },
    {
      "cell_type": "code",
      "source": [
        "tokenizer = AutoTokenizer.from_pretrained(\"digitalepidemiologylab/covid-twitter-bert\")\n",
        "model = AutoModelForSequenceClassification.from_pretrained(\"digitalepidemiologylab/covid-twitter-bert\", num_labels=len(vid_train.Sentiment.unique()))\n",
        "data_collator = DataCollatorWithPadding(tokenizer=tokenizer)"
      ],
      "metadata": {
        "id": "Y-mSUHdBz0-i"
      },
      "execution_count": null,
      "outputs": []
    },
    {
      "cell_type": "code",
      "source": [
        "df_train = vid_train[['BertCleanTweet', 'Sentiment']].copy()\n",
        "df_test = vid_test[['BertCleanTweet','Sentiment']].copy()\n",
        "\n",
        "label_enc = LabelEncoder()\n",
        "df_train['Sentiment'] = label_enc.fit_transform(vid_train[\"Sentiment\"])\n",
        "df_test['Sentiment'] = label_enc.transform(vid_test[\"Sentiment\"])\n",
        "\n",
        "df_train.columns = ['texts', 'labels']\n",
        "df_test.columns = ['texts', 'labels']"
      ],
      "metadata": {
        "id": "QvbTDEv5z5wW"
      },
      "execution_count": null,
      "outputs": []
    },
    {
      "cell_type": "code",
      "source": [
        "df_train = Dataset.from_pandas(df_train)\n",
        "df_test = Dataset.from_pandas(df_test)"
      ],
      "metadata": {
        "id": "nVsMbw7xz5wX"
      },
      "execution_count": null,
      "outputs": []
    },
    {
      "cell_type": "code",
      "source": [
        "trainer.train()"
      ],
      "metadata": {
        "colab": {
          "base_uri": "https://localhost:8080/",
          "height": 1000
        },
        "id": "EoWv_9t2z8c9",
        "outputId": "8871bfb8-a405-47aa-ce07-6910678e847a"
      },
      "execution_count": null,
      "outputs": [
        {
          "output_type": "stream",
          "name": "stderr",
          "text": [
            "/usr/local/lib/python3.7/dist-packages/transformers/optimization.py:310: FutureWarning: This implementation of AdamW is deprecated and will be removed in a future version. Use the PyTorch implementation torch.optim.AdamW instead, or set `no_deprecation_warning=True` to disable this warning\n",
            "  FutureWarning,\n",
            "***** Running training *****\n",
            "  Num examples = 41157\n",
            "  Num Epochs = 5\n",
            "  Instantaneous batch size per device = 8\n",
            "  Total train batch size (w. parallel, distributed & accumulation) = 8\n",
            "  Gradient Accumulation steps = 1\n",
            "  Total optimization steps = 25725\n",
            "Automatic Weights & Biases logging enabled, to disable set os.environ[\"WANDB_DISABLED\"] = \"true\"\n",
            "You're using a BertTokenizerFast tokenizer. Please note that with a fast tokenizer, using the `__call__` method is faster than using a method to encode the text followed by a call to the `pad` method to get a padded encoding.\n"
          ]
        },
        {
          "output_type": "display_data",
          "data": {
            "text/plain": [
              "<IPython.core.display.HTML object>"
            ],
            "text/html": [
              "\n",
              "    <div>\n",
              "      \n",
              "      <progress value='25725' max='25725' style='width:300px; height:20px; vertical-align: middle;'></progress>\n",
              "      [25725/25725 3:25:02, Epoch 5/5]\n",
              "    </div>\n",
              "    <table border=\"1\" class=\"dataframe\">\n",
              "  <thead>\n",
              " <tr style=\"text-align: left;\">\n",
              "      <th>Epoch</th>\n",
              "      <th>Training Loss</th>\n",
              "      <th>Validation Loss</th>\n",
              "      <th>F1</th>\n",
              "      <th>Precision</th>\n",
              "      <th>Recall</th>\n",
              "    </tr>\n",
              "  </thead>\n",
              "  <tbody>\n",
              "    <tr>\n",
              "      <td>1</td>\n",
              "      <td>0.532900</td>\n",
              "      <td>0.534679</td>\n",
              "      <td>0.820199</td>\n",
              "      <td>0.824972</td>\n",
              "      <td>0.819379</td>\n",
              "    </tr>\n",
              "    <tr>\n",
              "      <td>2</td>\n",
              "      <td>0.409100</td>\n",
              "      <td>0.518313</td>\n",
              "      <td>0.854714</td>\n",
              "      <td>0.855136</td>\n",
              "      <td>0.854660</td>\n",
              "    </tr>\n",
              "    <tr>\n",
              "      <td>3</td>\n",
              "      <td>0.253400</td>\n",
              "      <td>0.634673</td>\n",
              "      <td>0.866416</td>\n",
              "      <td>0.867276</td>\n",
              "      <td>0.866245</td>\n",
              "    </tr>\n",
              "    <tr>\n",
              "      <td>4</td>\n",
              "      <td>0.166100</td>\n",
              "      <td>0.647855</td>\n",
              "      <td>0.876920</td>\n",
              "      <td>0.878505</td>\n",
              "      <td>0.876514</td>\n",
              "    </tr>\n",
              "    <tr>\n",
              "      <td>5</td>\n",
              "      <td>0.083800</td>\n",
              "      <td>0.748469</td>\n",
              "      <td>0.876495</td>\n",
              "      <td>0.877442</td>\n",
              "      <td>0.876514</td>\n",
              "    </tr>\n",
              "  </tbody>\n",
              "</table><p>"
            ]
          },
          "metadata": {}
        },
        {
          "output_type": "stream",
          "name": "stderr",
          "text": [
            "***** Running Evaluation *****\n",
            "  Num examples = 3798\n",
            "  Batch size = 8\n"
          ]
        },
        {
          "output_type": "stream",
          "name": "stdout",
          "text": [
            "              precision    recall  f1-score   support\n",
            "\n",
            "           0       0.82      0.89      0.85       592\n",
            "           1       0.87      0.78      0.82       599\n",
            "           2       0.81      0.80      0.80      1041\n",
            "           3       0.94      0.81      0.87       619\n",
            "           4       0.75      0.83      0.79       947\n",
            "\n",
            "    accuracy                           0.82      3798\n",
            "   macro avg       0.84      0.82      0.83      3798\n",
            "weighted avg       0.82      0.82      0.82      3798\n",
            "\n"
          ]
        },
        {
          "output_type": "stream",
          "name": "stderr",
          "text": [
            "Saving model checkpoint to /content/gdrive/My Drive/Магистериум/NLP/checkpoint-5145\n",
            "Configuration saved in /content/gdrive/My Drive/Магистериум/NLP/checkpoint-5145/config.json\n",
            "Model weights saved in /content/gdrive/My Drive/Магистериум/NLP/checkpoint-5145/pytorch_model.bin\n",
            "***** Running Evaluation *****\n",
            "  Num examples = 3798\n",
            "  Batch size = 8\n"
          ]
        },
        {
          "output_type": "stream",
          "name": "stdout",
          "text": [
            "              precision    recall  f1-score   support\n",
            "\n",
            "           0       0.89      0.85      0.87       592\n",
            "           1       0.86      0.90      0.88       599\n",
            "           2       0.84      0.83      0.84      1041\n",
            "           3       0.90      0.87      0.88       619\n",
            "           4       0.82      0.84      0.83       947\n",
            "\n",
            "    accuracy                           0.85      3798\n",
            "   macro avg       0.86      0.86      0.86      3798\n",
            "weighted avg       0.86      0.85      0.85      3798\n",
            "\n"
          ]
        },
        {
          "output_type": "stream",
          "name": "stderr",
          "text": [
            "Saving model checkpoint to /content/gdrive/My Drive/Магистериум/NLP/checkpoint-10290\n",
            "Configuration saved in /content/gdrive/My Drive/Магистериум/NLP/checkpoint-10290/config.json\n",
            "Model weights saved in /content/gdrive/My Drive/Магистериум/NLP/checkpoint-10290/pytorch_model.bin\n",
            "***** Running Evaluation *****\n",
            "  Num examples = 3798\n",
            "  Batch size = 8\n"
          ]
        },
        {
          "output_type": "stream",
          "name": "stdout",
          "text": [
            "              precision    recall  f1-score   support\n",
            "\n",
            "           0       0.90      0.88      0.89       592\n",
            "           1       0.86      0.90      0.88       599\n",
            "           2       0.87      0.85      0.86      1041\n",
            "           3       0.90      0.86      0.88       619\n",
            "           4       0.82      0.86      0.84       947\n",
            "\n",
            "    accuracy                           0.87      3798\n",
            "   macro avg       0.87      0.87      0.87      3798\n",
            "weighted avg       0.87      0.87      0.87      3798\n",
            "\n"
          ]
        },
        {
          "output_type": "stream",
          "name": "stderr",
          "text": [
            "Saving model checkpoint to /content/gdrive/My Drive/Магистериум/NLP/checkpoint-15435\n",
            "Configuration saved in /content/gdrive/My Drive/Магистериум/NLP/checkpoint-15435/config.json\n",
            "Model weights saved in /content/gdrive/My Drive/Магистериум/NLP/checkpoint-15435/pytorch_model.bin\n",
            "***** Running Evaluation *****\n",
            "  Num examples = 3798\n",
            "  Batch size = 8\n"
          ]
        },
        {
          "output_type": "stream",
          "name": "stdout",
          "text": [
            "              precision    recall  f1-score   support\n",
            "\n",
            "           0       0.89      0.88      0.89       592\n",
            "           1       0.91      0.89      0.90       599\n",
            "           2       0.87      0.86      0.86      1041\n",
            "           3       0.94      0.86      0.90       619\n",
            "           4       0.82      0.89      0.85       947\n",
            "\n",
            "    accuracy                           0.88      3798\n",
            "   macro avg       0.89      0.88      0.88      3798\n",
            "weighted avg       0.88      0.88      0.88      3798\n",
            "\n"
          ]
        },
        {
          "output_type": "stream",
          "name": "stderr",
          "text": [
            "Saving model checkpoint to /content/gdrive/My Drive/Магистериум/NLP/checkpoint-20580\n",
            "Configuration saved in /content/gdrive/My Drive/Магистериум/NLP/checkpoint-20580/config.json\n",
            "Model weights saved in /content/gdrive/My Drive/Магистериум/NLP/checkpoint-20580/pytorch_model.bin\n",
            "***** Running Evaluation *****\n",
            "  Num examples = 3798\n",
            "  Batch size = 8\n"
          ]
        },
        {
          "output_type": "stream",
          "name": "stdout",
          "text": [
            "              precision    recall  f1-score   support\n",
            "\n",
            "           0       0.89      0.90      0.89       592\n",
            "           1       0.91      0.89      0.90       599\n",
            "           2       0.88      0.85      0.87      1041\n",
            "           3       0.83      0.92      0.87       619\n",
            "           4       0.87      0.85      0.86       947\n",
            "\n",
            "    accuracy                           0.88      3798\n",
            "   macro avg       0.88      0.88      0.88      3798\n",
            "weighted avg       0.88      0.88      0.88      3798\n",
            "\n"
          ]
        },
        {
          "output_type": "stream",
          "name": "stderr",
          "text": [
            "Saving model checkpoint to /content/gdrive/My Drive/Магистериум/NLP/checkpoint-25725\n",
            "Configuration saved in /content/gdrive/My Drive/Магистериум/NLP/checkpoint-25725/config.json\n",
            "Model weights saved in /content/gdrive/My Drive/Магистериум/NLP/checkpoint-25725/pytorch_model.bin\n",
            "\n",
            "\n",
            "Training completed. Do not forget to share your model on huggingface.co/models =)\n",
            "\n",
            "\n"
          ]
        },
        {
          "output_type": "execute_result",
          "data": {
            "text/plain": [
              "TrainOutput(global_step=25725, training_loss=0.3483551769052696, metrics={'train_runtime': 12307.3977, 'train_samples_per_second': 16.72, 'train_steps_per_second': 2.09, 'total_flos': 2.6330316638115944e+16, 'train_loss': 0.3483551769052696, 'epoch': 5.0})"
            ]
          },
          "metadata": {},
          "execution_count": 23
        }
      ]
    },
    {
      "cell_type": "markdown",
      "source": [
        "Для языковой модели, предобученной на весах сразу получаем отличные результаты, на 0.1 выше: повышение значния взвешенной F-меры c 0.78  до 0.88\n",
        "\n",
        "\n",
        "                   precision    recall  f1-score   support\n",
        "\n",
        "            ENeg       0.89      0.88      0.89      592\n",
        "            EPos       0.91      0.89      0.90      599\n",
        "             Neg       0.87      0.86      0.86      1041\n",
        "             Neu       0.94      0.86      0.90      619\n",
        "             Pos       0.82      0.89      0.85      947\n",
        "\n",
        "        accuracy                           0.88      3798\n",
        "       macro avg       0.89      0.88      0.88      3798\n",
        "    weighted avg       0.88      0.88      0.88      3798"
      ],
      "metadata": {
        "id": "Gj3j--t_gYH1"
      }
    },
    {
      "cell_type": "code",
      "source": [
        "tokenizer = AutoTokenizer.from_pretrained(\"bert-base-uncased\")\n",
        "model = AutoModelForSequenceClassification.from_pretrained(\"bert-base-uncased\", num_labels=len(vid_train.Sentiment.unique()))\n",
        "data_collator = DataCollatorWithPadding(tokenizer=tokenizer)"
      ],
      "metadata": {
        "id": "TiqZQPKO1OnH"
      },
      "execution_count": null,
      "outputs": []
    },
    {
      "cell_type": "code",
      "source": [
        "trainer.train()"
      ],
      "metadata": {
        "colab": {
          "base_uri": "https://localhost:8080/",
          "height": 1000
        },
        "id": "bxzK2FHxgbJg",
        "outputId": "acdd5630-1a0a-4755-8178-6c9f51ef7488"
      },
      "execution_count": null,
      "outputs": [
        {
          "output_type": "stream",
          "name": "stderr",
          "text": [
            "/usr/local/lib/python3.7/dist-packages/transformers/optimization.py:310: FutureWarning: This implementation of AdamW is deprecated and will be removed in a future version. Use the PyTorch implementation torch.optim.AdamW instead, or set `no_deprecation_warning=True` to disable this warning\n",
            "  FutureWarning,\n",
            "***** Running training *****\n",
            "  Num examples = 41157\n",
            "  Num Epochs = 5\n",
            "  Instantaneous batch size per device = 8\n",
            "  Total train batch size (w. parallel, distributed & accumulation) = 8\n",
            "  Gradient Accumulation steps = 1\n",
            "  Total optimization steps = 25725\n",
            "Automatic Weights & Biases logging enabled, to disable set os.environ[\"WANDB_DISABLED\"] = \"true\"\n",
            "You're using a BertTokenizerFast tokenizer. Please note that with a fast tokenizer, using the `__call__` method is faster than using a method to encode the text followed by a call to the `pad` method to get a padded encoding.\n"
          ]
        },
        {
          "output_type": "display_data",
          "data": {
            "text/plain": [
              "<IPython.core.display.HTML object>"
            ],
            "text/html": [
              "\n",
              "    <div>\n",
              "      \n",
              "      <progress value='25725' max='25725' style='width:300px; height:20px; vertical-align: middle;'></progress>\n",
              "      [25725/25725 1:03:09, Epoch 5/5]\n",
              "    </div>\n",
              "    <table border=\"1\" class=\"dataframe\">\n",
              "  <thead>\n",
              " <tr style=\"text-align: left;\">\n",
              "      <th>Epoch</th>\n",
              "      <th>Training Loss</th>\n",
              "      <th>Validation Loss</th>\n",
              "      <th>F1</th>\n",
              "      <th>Precision</th>\n",
              "      <th>Recall</th>\n",
              "    </tr>\n",
              "  </thead>\n",
              "  <tbody>\n",
              "    <tr>\n",
              "      <td>1</td>\n",
              "      <td>0.514000</td>\n",
              "      <td>0.526440</td>\n",
              "      <td>0.811253</td>\n",
              "      <td>0.828060</td>\n",
              "      <td>0.809637</td>\n",
              "    </tr>\n",
              "    <tr>\n",
              "      <td>2</td>\n",
              "      <td>0.364300</td>\n",
              "      <td>0.529959</td>\n",
              "      <td>0.848280</td>\n",
              "      <td>0.851379</td>\n",
              "      <td>0.848078</td>\n",
              "    </tr>\n",
              "    <tr>\n",
              "      <td>3</td>\n",
              "      <td>0.272600</td>\n",
              "      <td>0.547013</td>\n",
              "      <td>0.868874</td>\n",
              "      <td>0.870475</td>\n",
              "      <td>0.868878</td>\n",
              "    </tr>\n",
              "    <tr>\n",
              "      <td>4</td>\n",
              "      <td>0.187200</td>\n",
              "      <td>0.658173</td>\n",
              "      <td>0.874574</td>\n",
              "      <td>0.875261</td>\n",
              "      <td>0.874408</td>\n",
              "    </tr>\n",
              "    <tr>\n",
              "      <td>5</td>\n",
              "      <td>0.120700</td>\n",
              "      <td>0.721563</td>\n",
              "      <td>0.869979</td>\n",
              "      <td>0.870374</td>\n",
              "      <td>0.870195</td>\n",
              "    </tr>\n",
              "  </tbody>\n",
              "</table><p>"
            ]
          },
          "metadata": {}
        },
        {
          "output_type": "stream",
          "name": "stderr",
          "text": [
            "***** Running Evaluation *****\n",
            "  Num examples = 3798\n",
            "  Batch size = 8\n"
          ]
        },
        {
          "output_type": "stream",
          "name": "stdout",
          "text": [
            "              precision    recall  f1-score   support\n",
            "\n",
            "           0       0.91      0.71      0.80       592\n",
            "           1       0.93      0.73      0.82       599\n",
            "           2       0.74      0.86      0.80      1041\n",
            "           3       0.96      0.80      0.87       619\n",
            "           4       0.72      0.86      0.79       947\n",
            "\n",
            "    accuracy                           0.81      3798\n",
            "   macro avg       0.85      0.80      0.82      3798\n",
            "weighted avg       0.83      0.81      0.81      3798\n",
            "\n"
          ]
        },
        {
          "output_type": "stream",
          "name": "stderr",
          "text": [
            "Saving model checkpoint to /content/gdrive/My Drive/Магистериум/NLP/checkpoint-5145\n",
            "Configuration saved in /content/gdrive/My Drive/Магистериум/NLP/checkpoint-5145/config.json\n",
            "Model weights saved in /content/gdrive/My Drive/Магистериум/NLP/checkpoint-5145/pytorch_model.bin\n",
            "***** Running Evaluation *****\n",
            "  Num examples = 3798\n",
            "  Batch size = 8\n"
          ]
        },
        {
          "output_type": "stream",
          "name": "stdout",
          "text": [
            "              precision    recall  f1-score   support\n",
            "\n",
            "           0       0.83      0.92      0.87       592\n",
            "           1       0.84      0.89      0.86       599\n",
            "           2       0.81      0.84      0.82      1041\n",
            "           3       0.96      0.84      0.90       619\n",
            "           4       0.85      0.80      0.82       947\n",
            "\n",
            "    accuracy                           0.85      3798\n",
            "   macro avg       0.86      0.86      0.85      3798\n",
            "weighted avg       0.85      0.85      0.85      3798\n",
            "\n"
          ]
        },
        {
          "output_type": "stream",
          "name": "stderr",
          "text": [
            "Saving model checkpoint to /content/gdrive/My Drive/Магистериум/NLP/checkpoint-10290\n",
            "Configuration saved in /content/gdrive/My Drive/Магистериум/NLP/checkpoint-10290/config.json\n",
            "Model weights saved in /content/gdrive/My Drive/Магистериум/NLP/checkpoint-10290/pytorch_model.bin\n",
            "***** Running Evaluation *****\n",
            "  Num examples = 3798\n",
            "  Batch size = 8\n"
          ]
        },
        {
          "output_type": "stream",
          "name": "stdout",
          "text": [
            "              precision    recall  f1-score   support\n",
            "\n",
            "           0       0.86      0.92      0.89       592\n",
            "           1       0.93      0.86      0.89       599\n",
            "           2       0.86      0.83      0.84      1041\n",
            "           3       0.90      0.86      0.88       619\n",
            "           4       0.83      0.89      0.86       947\n",
            "\n",
            "    accuracy                           0.87      3798\n",
            "   macro avg       0.88      0.87      0.87      3798\n",
            "weighted avg       0.87      0.87      0.87      3798\n",
            "\n"
          ]
        },
        {
          "output_type": "stream",
          "name": "stderr",
          "text": [
            "Saving model checkpoint to /content/gdrive/My Drive/Магистериум/NLP/checkpoint-15435\n",
            "Configuration saved in /content/gdrive/My Drive/Магистериум/NLP/checkpoint-15435/config.json\n",
            "Model weights saved in /content/gdrive/My Drive/Магистериум/NLP/checkpoint-15435/pytorch_model.bin\n",
            "***** Running Evaluation *****\n",
            "  Num examples = 3798\n",
            "  Batch size = 8\n"
          ]
        },
        {
          "output_type": "stream",
          "name": "stdout",
          "text": [
            "              precision    recall  f1-score   support\n",
            "\n",
            "           0       0.90      0.88      0.89       592\n",
            "           1       0.90      0.89      0.89       599\n",
            "           2       0.86      0.85      0.86      1041\n",
            "           3       0.91      0.88      0.89       619\n",
            "           4       0.84      0.89      0.86       947\n",
            "\n",
            "    accuracy                           0.87      3798\n",
            "   macro avg       0.88      0.88      0.88      3798\n",
            "weighted avg       0.88      0.87      0.87      3798\n",
            "\n"
          ]
        },
        {
          "output_type": "stream",
          "name": "stderr",
          "text": [
            "Saving model checkpoint to /content/gdrive/My Drive/Магистериум/NLP/checkpoint-20580\n",
            "Configuration saved in /content/gdrive/My Drive/Магистериум/NLP/checkpoint-20580/config.json\n",
            "Model weights saved in /content/gdrive/My Drive/Магистериум/NLP/checkpoint-20580/pytorch_model.bin\n",
            "***** Running Evaluation *****\n",
            "  Num examples = 3798\n",
            "  Batch size = 8\n"
          ]
        },
        {
          "output_type": "stream",
          "name": "stdout",
          "text": [
            "              precision    recall  f1-score   support\n",
            "\n",
            "           0       0.87      0.92      0.89       592\n",
            "           1       0.89      0.90      0.89       599\n",
            "           2       0.88      0.84      0.86      1041\n",
            "           3       0.85      0.88      0.87       619\n",
            "           4       0.87      0.85      0.86       947\n",
            "\n",
            "    accuracy                           0.87      3798\n",
            "   macro avg       0.87      0.88      0.87      3798\n",
            "weighted avg       0.87      0.87      0.87      3798\n",
            "\n"
          ]
        },
        {
          "output_type": "stream",
          "name": "stderr",
          "text": [
            "Saving model checkpoint to /content/gdrive/My Drive/Магистериум/NLP/checkpoint-25725\n",
            "Configuration saved in /content/gdrive/My Drive/Магистериум/NLP/checkpoint-25725/config.json\n",
            "Model weights saved in /content/gdrive/My Drive/Магистериум/NLP/checkpoint-25725/pytorch_model.bin\n",
            "\n",
            "\n",
            "Training completed. Do not forget to share your model on huggingface.co/models =)\n",
            "\n",
            "\n"
          ]
        },
        {
          "output_type": "execute_result",
          "data": {
            "text/plain": [
              "TrainOutput(global_step=25725, training_loss=0.3413659015503523, metrics={'train_runtime': 3789.5308, 'train_samples_per_second': 54.304, 'train_steps_per_second': 6.788, 'total_flos': 7433931352713324.0, 'train_loss': 0.3413659015503523, 'epoch': 5.0})"
            ]
          },
          "metadata": {},
          "execution_count": 31
        }
      ]
    },
    {
      "cell_type": "markdown",
      "source": [
        "Для обычного BERT также качество повышается на 0.1 и сравнимо с языковой моделью, предобученной на твитах про ковид."
      ],
      "metadata": {
        "id": "Lk0Fj3SJ7vdg"
      }
    },
    {
      "cell_type": "markdown",
      "source": [
        "Теперь посмотрим, как будет показывать себя специальная модель при условии удаления упоминаний и хэштегов."
      ],
      "metadata": {
        "id": "0XCM-gcD8M39"
      }
    },
    {
      "cell_type": "code",
      "source": [
        "def clean_tweet(tweet):\n",
        "    clean = re.sub(r'[@#]\\w+\\s?', '', tweet)\n",
        "    clean = re.sub(r'https://t.co/\\w*\\s?', '', clean)\n",
        "    clean = re.sub(r'[^\\x00-\\x7f]', '', clean) \n",
        "    \n",
        "    return clean.lower().strip()"
      ],
      "metadata": {
        "id": "MOyEEtnI5hB_"
      },
      "execution_count": null,
      "outputs": []
    },
    {
      "cell_type": "code",
      "source": [
        "trainer.train()"
      ],
      "metadata": {
        "colab": {
          "base_uri": "https://localhost:8080/",
          "height": 1000
        },
        "id": "6txYfPEM5ua-",
        "outputId": "0cfd09ae-d51e-4a8d-950f-60397692fb6d"
      },
      "execution_count": null,
      "outputs": [
        {
          "output_type": "stream",
          "name": "stderr",
          "text": [
            "/usr/local/lib/python3.7/dist-packages/transformers/optimization.py:310: FutureWarning: This implementation of AdamW is deprecated and will be removed in a future version. Use the PyTorch implementation torch.optim.AdamW instead, or set `no_deprecation_warning=True` to disable this warning\n",
            "  FutureWarning,\n",
            "***** Running training *****\n",
            "  Num examples = 41157\n",
            "  Num Epochs = 5\n",
            "  Instantaneous batch size per device = 8\n",
            "  Total train batch size (w. parallel, distributed & accumulation) = 8\n",
            "  Gradient Accumulation steps = 1\n",
            "  Total optimization steps = 25725\n",
            "Automatic Weights & Biases logging enabled, to disable set os.environ[\"WANDB_DISABLED\"] = \"true\"\n",
            "ERROR:wandb.jupyter:Failed to detect the name of this notebook, you can set it manually with the WANDB_NOTEBOOK_NAME environment variable to enable code saving.\n"
          ]
        },
        {
          "output_type": "display_data",
          "data": {
            "text/plain": [
              "<IPython.core.display.Javascript object>"
            ],
            "application/javascript": [
              "\n",
              "        window._wandbApiKey = new Promise((resolve, reject) => {\n",
              "            function loadScript(url) {\n",
              "            return new Promise(function(resolve, reject) {\n",
              "                let newScript = document.createElement(\"script\");\n",
              "                newScript.onerror = reject;\n",
              "                newScript.onload = resolve;\n",
              "                document.body.appendChild(newScript);\n",
              "                newScript.src = url;\n",
              "            });\n",
              "            }\n",
              "            loadScript(\"https://cdn.jsdelivr.net/npm/postmate/build/postmate.min.js\").then(() => {\n",
              "            const iframe = document.createElement('iframe')\n",
              "            iframe.style.cssText = \"width:0;height:0;border:none\"\n",
              "            document.body.appendChild(iframe)\n",
              "            const handshake = new Postmate({\n",
              "                container: iframe,\n",
              "                url: 'https://wandb.ai/authorize'\n",
              "            });\n",
              "            const timeout = setTimeout(() => reject(\"Couldn't auto authenticate\"), 5000)\n",
              "            handshake.then(function(child) {\n",
              "                child.on('authorize', data => {\n",
              "                    clearTimeout(timeout)\n",
              "                    resolve(data)\n",
              "                });\n",
              "            });\n",
              "            })\n",
              "        });\n",
              "    "
            ]
          },
          "metadata": {}
        },
        {
          "output_type": "stream",
          "name": "stderr",
          "text": [
            "\u001b[34m\u001b[1mwandb\u001b[0m: Logging into wandb.ai. (Learn how to deploy a W&B server locally: https://wandb.me/wandb-server)\n",
            "\u001b[34m\u001b[1mwandb\u001b[0m: You can find your API key in your browser here: https://wandb.ai/authorize\n",
            "wandb: Paste an API key from your profile and hit enter, or press ctrl+c to quit: "
          ]
        },
        {
          "name": "stdout",
          "output_type": "stream",
          "text": [
            "··········\n"
          ]
        },
        {
          "output_type": "stream",
          "name": "stderr",
          "text": [
            "\u001b[34m\u001b[1mwandb\u001b[0m: Appending key for api.wandb.ai to your netrc file: /root/.netrc\n"
          ]
        },
        {
          "output_type": "display_data",
          "data": {
            "text/plain": [
              "<IPython.core.display.HTML object>"
            ],
            "text/html": [
              "Tracking run with wandb version 0.13.4"
            ]
          },
          "metadata": {}
        },
        {
          "output_type": "display_data",
          "data": {
            "text/plain": [
              "<IPython.core.display.HTML object>"
            ],
            "text/html": [
              "Run data is saved locally in <code>/content/wandb/run-20221019_222700-1oh1c1xh</code>"
            ]
          },
          "metadata": {}
        },
        {
          "output_type": "display_data",
          "data": {
            "text/plain": [
              "<IPython.core.display.HTML object>"
            ],
            "text/html": [
              "Syncing run <strong><a href=\"https://wandb.ai/zoezun/huggingface/runs/1oh1c1xh\" target=\"_blank\">/content/gdrive/My Drive/Магистериум/NLP</a></strong> to <a href=\"https://wandb.ai/zoezun/huggingface\" target=\"_blank\">Weights & Biases</a> (<a href=\"https://wandb.me/run\" target=\"_blank\">docs</a>)<br/>"
            ]
          },
          "metadata": {}
        },
        {
          "output_type": "stream",
          "name": "stderr",
          "text": [
            "You're using a BertTokenizerFast tokenizer. Please note that with a fast tokenizer, using the `__call__` method is faster than using a method to encode the text followed by a call to the `pad` method to get a padded encoding.\n"
          ]
        },
        {
          "output_type": "display_data",
          "data": {
            "text/plain": [
              "<IPython.core.display.HTML object>"
            ],
            "text/html": [
              "\n",
              "    <div>\n",
              "      \n",
              "      <progress value='25725' max='25725' style='width:300px; height:20px; vertical-align: middle;'></progress>\n",
              "      [25725/25725 3:08:38, Epoch 5/5]\n",
              "    </div>\n",
              "    <table border=\"1\" class=\"dataframe\">\n",
              "  <thead>\n",
              " <tr style=\"text-align: left;\">\n",
              "      <th>Epoch</th>\n",
              "      <th>Training Loss</th>\n",
              "      <th>Validation Loss</th>\n",
              "      <th>F1</th>\n",
              "      <th>Precision</th>\n",
              "      <th>Recall</th>\n",
              "    </tr>\n",
              "  </thead>\n",
              "  <tbody>\n",
              "    <tr>\n",
              "      <td>1</td>\n",
              "      <td>0.523100</td>\n",
              "      <td>0.501702</td>\n",
              "      <td>0.826039</td>\n",
              "      <td>0.830111</td>\n",
              "      <td>0.825961</td>\n",
              "    </tr>\n",
              "    <tr>\n",
              "      <td>2</td>\n",
              "      <td>0.385600</td>\n",
              "      <td>0.551708</td>\n",
              "      <td>0.839048</td>\n",
              "      <td>0.843692</td>\n",
              "      <td>0.839652</td>\n",
              "    </tr>\n",
              "    <tr>\n",
              "      <td>3</td>\n",
              "      <td>0.251400</td>\n",
              "      <td>0.557139</td>\n",
              "      <td>0.874811</td>\n",
              "      <td>0.876238</td>\n",
              "      <td>0.874671</td>\n",
              "    </tr>\n",
              "    <tr>\n",
              "      <td>4</td>\n",
              "      <td>0.160000</td>\n",
              "      <td>0.618701</td>\n",
              "      <td>0.884426</td>\n",
              "      <td>0.885074</td>\n",
              "      <td>0.884413</td>\n",
              "    </tr>\n",
              "    <tr>\n",
              "      <td>5</td>\n",
              "      <td>0.083500</td>\n",
              "      <td>0.709050</td>\n",
              "      <td>0.882304</td>\n",
              "      <td>0.882778</td>\n",
              "      <td>0.882306</td>\n",
              "    </tr>\n",
              "  </tbody>\n",
              "</table><p>"
            ]
          },
          "metadata": {}
        },
        {
          "output_type": "stream",
          "name": "stderr",
          "text": [
            "***** Running Evaluation *****\n",
            "  Num examples = 3798\n",
            "  Batch size = 8\n"
          ]
        },
        {
          "output_type": "stream",
          "name": "stdout",
          "text": [
            "              precision    recall  f1-score   support\n",
            "\n",
            "           0       0.79      0.94      0.86       592\n",
            "           1       0.85      0.79      0.82       599\n",
            "           2       0.83      0.78      0.80      1041\n",
            "           3       0.94      0.84      0.89       619\n",
            "           4       0.77      0.82      0.79       947\n",
            "\n",
            "    accuracy                           0.83      3798\n",
            "   macro avg       0.84      0.83      0.83      3798\n",
            "weighted avg       0.83      0.83      0.83      3798\n",
            "\n"
          ]
        },
        {
          "output_type": "stream",
          "name": "stderr",
          "text": [
            "Saving model checkpoint to /content/gdrive/My Drive/Магистериум/NLP/checkpoint-5145\n",
            "Configuration saved in /content/gdrive/My Drive/Магистериум/NLP/checkpoint-5145/config.json\n",
            "Model weights saved in /content/gdrive/My Drive/Магистериум/NLP/checkpoint-5145/pytorch_model.bin\n",
            "***** Running Evaluation *****\n",
            "  Num examples = 3798\n",
            "  Batch size = 8\n"
          ]
        },
        {
          "output_type": "stream",
          "name": "stdout",
          "text": [
            "              precision    recall  f1-score   support\n",
            "\n",
            "           0       0.76      0.93      0.84       592\n",
            "           1       0.84      0.91      0.87       599\n",
            "           2       0.86      0.76      0.80      1041\n",
            "           3       0.92      0.86      0.89       619\n",
            "           4       0.83      0.82      0.82       947\n",
            "\n",
            "    accuracy                           0.84      3798\n",
            "   macro avg       0.84      0.86      0.85      3798\n",
            "weighted avg       0.84      0.84      0.84      3798\n",
            "\n"
          ]
        },
        {
          "output_type": "stream",
          "name": "stderr",
          "text": [
            "Saving model checkpoint to /content/gdrive/My Drive/Магистериум/NLP/checkpoint-10290\n",
            "Configuration saved in /content/gdrive/My Drive/Магистериум/NLP/checkpoint-10290/config.json\n",
            "Model weights saved in /content/gdrive/My Drive/Магистериум/NLP/checkpoint-10290/pytorch_model.bin\n",
            "***** Running Evaluation *****\n",
            "  Num examples = 3798\n",
            "  Batch size = 8\n"
          ]
        },
        {
          "output_type": "stream",
          "name": "stdout",
          "text": [
            "              precision    recall  f1-score   support\n",
            "\n",
            "           0       0.92      0.88      0.90       592\n",
            "           1       0.87      0.92      0.90       599\n",
            "           2       0.88      0.85      0.86      1041\n",
            "           3       0.92      0.86      0.89       619\n",
            "           4       0.83      0.89      0.86       947\n",
            "\n",
            "    accuracy                           0.87      3798\n",
            "   macro avg       0.88      0.88      0.88      3798\n",
            "weighted avg       0.88      0.87      0.87      3798\n",
            "\n"
          ]
        },
        {
          "output_type": "stream",
          "name": "stderr",
          "text": [
            "Saving model checkpoint to /content/gdrive/My Drive/Магистериум/NLP/checkpoint-15435\n",
            "Configuration saved in /content/gdrive/My Drive/Магистериум/NLP/checkpoint-15435/config.json\n",
            "Model weights saved in /content/gdrive/My Drive/Магистериум/NLP/checkpoint-15435/pytorch_model.bin\n",
            "***** Running Evaluation *****\n",
            "  Num examples = 3798\n",
            "  Batch size = 8\n"
          ]
        },
        {
          "output_type": "stream",
          "name": "stdout",
          "text": [
            "              precision    recall  f1-score   support\n",
            "\n",
            "           0       0.89      0.93      0.91       592\n",
            "           1       0.92      0.88      0.90       599\n",
            "           2       0.87      0.87      0.87      1041\n",
            "           3       0.91      0.86      0.89       619\n",
            "           4       0.85      0.89      0.87       947\n",
            "\n",
            "    accuracy                           0.88      3798\n",
            "   macro avg       0.89      0.89      0.89      3798\n",
            "weighted avg       0.89      0.88      0.88      3798\n",
            "\n"
          ]
        },
        {
          "output_type": "stream",
          "name": "stderr",
          "text": [
            "Saving model checkpoint to /content/gdrive/My Drive/Магистериум/NLP/checkpoint-20580\n",
            "Configuration saved in /content/gdrive/My Drive/Магистериум/NLP/checkpoint-20580/config.json\n",
            "Model weights saved in /content/gdrive/My Drive/Магистериум/NLP/checkpoint-20580/pytorch_model.bin\n",
            "***** Running Evaluation *****\n",
            "  Num examples = 3798\n",
            "  Batch size = 8\n"
          ]
        },
        {
          "output_type": "stream",
          "name": "stdout",
          "text": [
            "              precision    recall  f1-score   support\n",
            "\n",
            "           0       0.91      0.91      0.91       592\n",
            "           1       0.91      0.88      0.90       599\n",
            "           2       0.88      0.86      0.87      1041\n",
            "           3       0.85      0.91      0.88       619\n",
            "           4       0.87      0.86      0.87       947\n",
            "\n",
            "    accuracy                           0.88      3798\n",
            "   macro avg       0.88      0.89      0.89      3798\n",
            "weighted avg       0.88      0.88      0.88      3798\n",
            "\n"
          ]
        },
        {
          "output_type": "stream",
          "name": "stderr",
          "text": [
            "Saving model checkpoint to /content/gdrive/My Drive/Магистериум/NLP/checkpoint-25725\n",
            "Configuration saved in /content/gdrive/My Drive/Магистериум/NLP/checkpoint-25725/config.json\n",
            "Model weights saved in /content/gdrive/My Drive/Магистериум/NLP/checkpoint-25725/pytorch_model.bin\n",
            "\n",
            "\n",
            "Training completed. Do not forget to share your model on huggingface.co/models =)\n",
            "\n",
            "\n"
          ]
        },
        {
          "output_type": "execute_result",
          "data": {
            "text/plain": [
              "TrainOutput(global_step=25725, training_loss=0.32953275719467473, metrics={'train_runtime': 11368.722, 'train_samples_per_second': 18.101, 'train_steps_per_second': 2.263, 'total_flos': 2.197153846117339e+16, 'train_loss': 0.32953275719467473, 'epoch': 5.0})"
            ]
          },
          "metadata": {},
          "execution_count": 17
        }
      ]
    },
    {
      "cell_type": "markdown",
      "source": [
        "При большей очистке получаем качество выше, чем без удаления хэштегов и упоминаний. Проседание, однако, появляется только по нейтральному классу (3) (0,90 -> 0,88)"
      ],
      "metadata": {
        "id": "MbFIDsu38kSP"
      }
    },
    {
      "cell_type": "markdown",
      "source": [
        "## Вывод"
      ],
      "metadata": {
        "id": "Sv3IH3wo9Dj9"
      }
    },
    {
      "cell_type": "markdown",
      "source": [
        "Подводя итог, можно сказать, что в случае задач сентимент-анализа лучше себя показывают языковые модели, особенно обученные на корпусе того же дискурса (в данном случае твиты про ковид), так как в сентимент-анализе еще более важен контекст и учет того, что у слово может быть полисемично.\n",
        "\n",
        "Предобученные неконтекстуализированные эмбеддинги (fasttext и подобные) дают результаты ниже из-за специфичности новых данных, многие ключевые слова не содержатся в словаре. Поднять качество помогают нейронные сети, инициализируемые с предобученными весами и дообучающие представления для out-of-vocabulary слов.\n",
        "\n",
        "В случае с предобработкой данных эксперименты показали, что полная очистка от хэштегов и упоминаний помогает улучшить результат. То есть подобные конструкции не несут столь важной информации для определения тональности текста."
      ],
      "metadata": {
        "id": "YQrCD0ZsS-hW"
      }
    },
    {
      "cell_type": "code",
      "source": [],
      "metadata": {
        "id": "h7CVoVKO-tZd"
      },
      "execution_count": null,
      "outputs": []
    }
  ]
}